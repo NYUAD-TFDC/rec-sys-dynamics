{
 "cells": [
  {
   "cell_type": "code",
   "execution_count": null,
   "id": "operational-seattle",
   "metadata": {},
   "outputs": [],
   "source": [
    "import sys\n",
    "import pandas as pd\n",
    "\n",
    "### IMPORTANT ###\n",
    "# Make sure you are correctly appending the path\n",
    "# Otherwise the imports will not work!\n",
    "sys.path.append(\"..\")\n",
    "from src.movielens_data.movielens import movielens\n",
    "from src.movielens_data.movielens import cluster"
   ]
  },
  {
   "cell_type": "code",
   "execution_count": null,
   "id": "precious-picking",
   "metadata": {},
   "outputs": [],
   "source": [
    "# Load MovieLens dataset\n",
    "\n",
    "# from lenskit.datasets import ML100K\n",
    "# movielens = ML100K('ml-100k')\n",
    "# ratings = movielens.ratings\n",
    "# movies = movielens.movies\n",
    "\n",
    "movies = pd.read_csv(\"../../datasets/movielens-small/movies.csv\")\n",
    "ratings = pd.read_csv(\"../../datasets/movielens-small/ratings.csv\")"
   ]
  },
  {
   "cell_type": "code",
   "execution_count": null,
   "id": "centered-gardening",
   "metadata": {},
   "outputs": [],
   "source": [
    "ratings"
   ]
  },
  {
   "cell_type": "code",
   "execution_count": null,
   "id": "shared-monitoring",
   "metadata": {},
   "outputs": [],
   "source": [
    "# Instantiate movielens object\n",
    "data = movielens(movies=movies, ratings=ratings)"
   ]
  },
  {
   "cell_type": "code",
   "execution_count": null,
   "id": "racial-identity",
   "metadata": {},
   "outputs": [],
   "source": [
    "# User-Item Interaction Matrix\n",
    "dataUI = data.UserItem()                            "
   ]
  },
  {
   "cell_type": "code",
   "execution_count": null,
   "id": "convenient-denver",
   "metadata": {},
   "outputs": [],
   "source": [
    "# SVD reduced User-Item Interaction Matrix\n",
    "\n",
    "# enter number of latent features you want, and which dataset you want the SVD performed on (default is complete User-Movie matrix)\n",
    "# UI = User-Item matrix\n",
    "# GR = Average rating for each genre for each user\n",
    "# wGR = Weighted genre ratings for each user\n",
    "dataSVD_UI = data.SVDmatrix(3, dataset = 'UI')"
   ]
  },
  {
   "cell_type": "code",
   "execution_count": null,
   "id": "comparable-opinion",
   "metadata": {},
   "outputs": [],
   "source": [
    "# Instantiate clustering object\n",
    "UI_clusters = cluster(dataSVD_UI)"
   ]
  },
  {
   "cell_type": "code",
   "execution_count": null,
   "id": "facial-intake",
   "metadata": {},
   "outputs": [],
   "source": [
    "### IMPORTANT: Make sure you train the model/clusters before plotting them. \n",
    "\n",
    "# perform GMM clustering to get cluster values and cluster probabilities\n",
    "# df = 'pred' for cluster predictions, 'proba' for clusters + probabilities, 'full' for latent values+clusters+probas\n",
    "gmm_cluster_probas = UI_clusters.gmm(n=3,covariance_type=\"full\",df=proba)\n",
    "\n",
    "# perform KMeans cliustering to get cluster values (Note: cannot provide cluster probabilities)\n",
    "km_clusters = UI_clusters.kmeans(3)"
   ]
  },
  {
   "cell_type": "code",
   "execution_count": null,
   "id": "corresponding-platform",
   "metadata": {},
   "outputs": [],
   "source": [
    "# plot data and clusters (True for colour-coded clusters, if False it will just plot latent features in monotone)\n",
    "# These functions currently only work in JupyterNotebook.                            \n",
    "UI_clusters.plotScatter(True, 'kmeans')\n",
    "UI_clusters.plotScatter(True, 'gmm')  "
   ]
  }
 ],
 "metadata": {
  "kernelspec": {
   "display_name": "Python 3",
   "language": "python",
   "name": "python3"
  },
  "language_info": {
   "codemirror_mode": {
    "name": "ipython",
    "version": 3
   },
   "file_extension": ".py",
   "mimetype": "text/x-python",
   "name": "python",
   "nbconvert_exporter": "python",
   "pygments_lexer": "ipython3",
   "version": "3.8.2"
  }
 },
 "nbformat": 4,
 "nbformat_minor": 5
}
