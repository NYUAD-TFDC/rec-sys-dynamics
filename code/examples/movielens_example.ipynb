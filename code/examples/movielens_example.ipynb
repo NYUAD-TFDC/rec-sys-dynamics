{
 "cells": [
  {
   "cell_type": "code",
   "execution_count": 10,
   "id": "sharp-flexibility",
   "metadata": {},
   "outputs": [],
   "source": [
    "import sys\n",
    "\n",
    "### IMPORTANT ###\n",
    "# Make sure you are correctly appending the path\n",
    "# Otherwise the imports will not work!\n",
    "sys.path.append(\"..\")\n",
    "from src.movielens_data.movielens import movielens\n",
    "from src.movielens_data.movielens import cluster\n"
   ]
  },
  {
   "cell_type": "code",
   "execution_count": null,
   "id": "cellular-record",
   "metadata": {},
   "outputs": [],
   "source": []
  }
 ],
 "metadata": {
  "kernelspec": {
   "display_name": "Python 3",
   "language": "python",
   "name": "python3"
  },
  "language_info": {
   "codemirror_mode": {
    "name": "ipython",
    "version": 3
   },
   "file_extension": ".py",
   "mimetype": "text/x-python",
   "name": "python",
   "nbconvert_exporter": "python",
   "pygments_lexer": "ipython3",
   "version": "3.8.2"
  }
 },
 "nbformat": 4,
 "nbformat_minor": 5
}
