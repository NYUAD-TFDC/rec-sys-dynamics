{
 "cells": [
  {
   "cell_type": "markdown",
   "id": "circular-button",
   "metadata": {},
   "source": [
    "## Recommender Systems Collaborative Filtering based Cosin Similarity\n",
    "\n",
    "### Purpose\n",
    "To get a working cosin similarity model based off of collaborative filtering\n",
    "\n",
    "### Methodology\n",
    "This notebook assumes that the model will receive a pre-processed dataset of user-item interactions\n",
    "\n",
    "### Author Information\n",
    "Nishant Aswani (@niniack)\n"
   ]
  },
  {
   "cell_type": "markdown",
   "id": "russian-universe",
   "metadata": {},
   "source": [
    "## Setup (Imports)"
   ]
  },
  {
   "cell_type": "code",
   "execution_count": 11,
   "id": "documentary-spirit",
   "metadata": {},
   "outputs": [],
   "source": [
    "# Data manipulation\n",
    "import pandas as pd\n",
    "import numpy as np\n",
    "\n",
    "# Options for pandas\n",
    "pd.options.display.max_columns = 50\n",
    "pd.options.display.max_rows = 30\n",
    "\n",
    "# Visualizations\n",
    "import plotly.graph_objs as go\n",
    "\n",
    "# Autoreload extension\n",
    "if 'autoreload' not in get_ipython().extension_manager.loaded:\n",
    "    %load_ext autoreload\n",
    "    \n",
    "%autoreload 2"
   ]
  },
  {
   "cell_type": "markdown",
   "id": "religious-cinema",
   "metadata": {},
   "source": [
    "## Local library import\n",
    "We import all the required local libraries libraries"
   ]
  },
  {
   "cell_type": "code",
   "execution_count": 12,
   "id": "placed-publisher",
   "metadata": {},
   "outputs": [],
   "source": [
    "# Include local library paths\n",
    "import sys\n",
    "# sys.path.append('path/to/local/lib') # uncomment and fill to import local libraries\n",
    "\n",
    "# Import local libraries"
   ]
  },
  {
   "cell_type": "markdown",
   "id": "fitting-graphics",
   "metadata": {},
   "source": [
    "# Parameter definition\n",
    "We set all relevant parameters for our notebook. By convention, parameters are uppercase, while all the \n",
    "other variables follow Python's guidelines."
   ]
  },
  {
   "cell_type": "markdown",
   "id": "constant-wednesday",
   "metadata": {},
   "source": [
    "\n",
    "# Data import\n",
    "We retrieve all the required data for the analysis."
   ]
  },
  {
   "cell_type": "markdown",
   "id": "victorian-paint",
   "metadata": {},
   "source": [
    "# Data processing\n",
    "Put here the core of the notebook. Feel free di further split this section into subsections."
   ]
  },
  {
   "cell_type": "markdown",
   "id": "swedish-holder",
   "metadata": {},
   "source": [
    "# References\n",
    "We report here relevant references:\n",
    "1. author1, article1, journal1, year1, url1\n",
    "2. author2, article2, journal2, year2, url2"
   ]
  },
  {
   "cell_type": "code",
   "execution_count": null,
   "id": "noted-breath",
   "metadata": {},
   "outputs": [],
   "source": []
  },
  {
   "cell_type": "code",
   "execution_count": null,
   "id": "connected-screening",
   "metadata": {},
   "outputs": [],
   "source": []
  },
  {
   "cell_type": "code",
   "execution_count": null,
   "id": "obvious-wallace",
   "metadata": {},
   "outputs": [],
   "source": []
  }
 ],
 "metadata": {
  "kernelspec": {
   "display_name": "Python 3",
   "language": "python",
   "name": "python3"
  },
  "language_info": {
   "codemirror_mode": {
    "name": "ipython",
    "version": 3
   },
   "file_extension": ".py",
   "mimetype": "text/x-python",
   "name": "python",
   "nbconvert_exporter": "python",
   "pygments_lexer": "ipython3",
   "version": "3.8.5"
  }
 },
 "nbformat": 4,
 "nbformat_minor": 5
}
