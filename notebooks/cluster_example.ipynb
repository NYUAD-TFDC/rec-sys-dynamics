{
 "cells": [
  {
   "cell_type": "code",
   "execution_count": null,
   "id": "operational-seattle",
   "metadata": {},
   "outputs": [],
   "source": [
    "import sys\n",
    "import os\n",
    "import pandas as pd\n",
    "\n",
    "### IMPORTANT ###\n",
    "# Make sure you are correctly appending the path\n",
    "# Otherwise the imports will not work!\n",
    "sys.path.append(\"/Users/pvs262/Documents/rec-sys-dynamics/code\")\n",
    "from src.analysis.cluster import movielens, cluster"
   ]
  },
  {
   "cell_type": "code",
   "execution_count": null,
   "id": "endangered-affiliation",
   "metadata": {},
   "outputs": [],
   "source": [
    "# Import ML100K Lenskit Dataset\n",
    "from lenskit.datasets import ML100K\n",
    "dataset = ML100K('/Users/pvs262/Library/Python/3.8/lib/python/site-packages/lenskit/data/ml-100k')\n",
    "ratings = dataset.ratings\n",
    "movies = dataset.movies"
   ]
  },
  {
   "cell_type": "code",
   "execution_count": null,
   "id": "precious-picking",
   "metadata": {},
   "outputs": [],
   "source": [
    "# Check loaded ratings dataset\n",
    "ratings.head()"
   ]
  },
  {
   "cell_type": "code",
   "execution_count": null,
   "id": "particular-argentina",
   "metadata": {},
   "outputs": [],
   "source": [
    "# Check loaded movies dataset\n",
    "movies.head()"
   ]
  },
  {
   "cell_type": "code",
   "execution_count": null,
   "id": "shared-monitoring",
   "metadata": {},
   "outputs": [],
   "source": [
    "# Instantiate MovieLens object\n",
    "data = movielens(movies, ratings)\n",
    "# Get User-Item Interaction Matrix from MovieLens object\n",
    "dataUI = data.UserItem()  "
   ]
  },
  {
   "cell_type": "code",
   "execution_count": null,
   "id": "rocky-romantic",
   "metadata": {},
   "outputs": [],
   "source": [
    "# Let's print the original User-Item Interaction Matrix\n",
    "dataUI"
   ]
  },
  {
   "cell_type": "code",
   "execution_count": null,
   "id": "comparable-opinion",
   "metadata": {},
   "outputs": [],
   "source": [
    "# Instantiate Clustering object\n",
    "ML_clusters = cluster(dataUI)"
   ]
  },
  {
   "cell_type": "code",
   "execution_count": null,
   "id": "valuable-causing",
   "metadata": {},
   "outputs": [],
   "source": [
    "%%time\n",
    "# One-time set up to choose the number of latent features we want. \n",
    "# If you want to change the number of latent features in the reduced dataset, you need to use cluster.SVD(n) again.\n",
    "ML_clusters.svd(3)"
   ]
  },
  {
   "cell_type": "code",
   "execution_count": null,
   "id": "middle-benchmark",
   "metadata": {},
   "outputs": [],
   "source": [
    "%%time\n",
    "# Function to add user/item with ID\n",
    "ML_clusters.add_user(len(dataUI)+1) \n",
    "ML_clusters.add_item(len(dataUI.columns)+1)\n",
    "\n",
    "# Function to add user/item automatically (it returns the ID of the new user/item)\n",
    "ML_clusters.add_user_auto() \n",
    "ML_clusters.add_item_auto()\n",
    "\n",
    "# Function to add ratings for EXISTING users and items where cluster.add_interactions(user_id, item_id, rating)\n",
    "ML_clusters.add_interactions([4],[2],[3])"
   ]
  },
  {
   "cell_type": "code",
   "execution_count": null,
   "id": "lasting-eating",
   "metadata": {},
   "outputs": [],
   "source": [
    "# Let's print the new User-Item Interaction Matrix\n",
    "dataUI"
   ]
  },
  {
   "cell_type": "code",
   "execution_count": null,
   "id": "facial-intake",
   "metadata": {},
   "outputs": [],
   "source": [
    "%%time\n",
    "### IMPORTANT: Make sure you train the model/clusters before plotting them using cluster.gmm(n, covariance_type, df)\n",
    "\n",
    "# cluster.gmm(n, covariance_type, df) calculates SVD to find updated reduced dataset and then clusters\n",
    "# returns cluster number for each user and the probability of belonging to each of the n clusters\n",
    "\n",
    "[latent, probas] = ML_clusters.gmm(n=3,covariance_type=\"full\",df='all')"
   ]
  },
  {
   "cell_type": "code",
   "execution_count": null,
   "id": "rising-practice",
   "metadata": {},
   "outputs": [],
   "source": [
    "probas"
   ]
  },
  {
   "cell_type": "code",
   "execution_count": null,
   "id": "intimate-summer",
   "metadata": {},
   "outputs": [],
   "source": [
    "latent"
   ]
  },
  {
   "cell_type": "code",
   "execution_count": null,
   "id": "likely-weekend",
   "metadata": {},
   "outputs": [],
   "source": [
    "probas['sum'] = probas['proba_C0']+probas['proba_C1']+probas['proba_C2']\n",
    "probas['proba_C0'].sum()"
   ]
  },
  {
   "cell_type": "code",
   "execution_count": null,
   "id": "distinct-console",
   "metadata": {},
   "outputs": [],
   "source": [
    "probas['proba_C1'].sum()"
   ]
  },
  {
   "cell_type": "code",
   "execution_count": null,
   "id": "seven-consultancy",
   "metadata": {},
   "outputs": [],
   "source": [
    "probas['proba_C2'].sum()"
   ]
  },
  {
   "cell_type": "code",
   "execution_count": null,
   "id": "corresponding-platform",
   "metadata": {},
   "outputs": [],
   "source": [
    "# plot data and clusters (True for colour-coded clusters, if False it will just plot latent features in monotone)\n",
    "# Thi functions currently only work in JupyterNotebook.                            \n",
    "ML_clusters.plot_scatter(True, 'gmm')  "
   ]
  },
  {
   "cell_type": "code",
   "execution_count": null,
   "id": "hazardous-recipient",
   "metadata": {},
   "outputs": [],
   "source": [
    "sys.path.append(\"/Users/pvs262/Documents/rec-sys-dynamics/code\")\n",
    "import src.Datasets.movielens_recreate as dataset\n",
    "from src.algorithm.cosin import CosinSimilarity"
   ]
  },
  {
   "cell_type": "code",
   "execution_count": null,
   "id": "characteristic-printer",
   "metadata": {},
   "outputs": [],
   "source": [
    "ratings = pd.read_parquet(os.path.dirname(dataset.__file__)+'/ratings.parquet.gzip')"
   ]
  },
  {
   "cell_type": "code",
   "execution_count": null,
   "id": "spectacular-numbers",
   "metadata": {},
   "outputs": [],
   "source": [
    "ratings"
   ]
  },
  {
   "cell_type": "code",
   "execution_count": null,
   "id": "compact-westminster",
   "metadata": {},
   "outputs": [],
   "source": [
    "algo = CosinSimilarity()\n",
    "algo.fit(ratings)\n",
    "UI = algo.rating_matrix_\n",
    "UI"
   ]
  },
  {
   "cell_type": "code",
   "execution_count": null,
   "id": "after-excellence",
   "metadata": {},
   "outputs": [],
   "source": []
  }
 ],
 "metadata": {
  "kernelspec": {
   "display_name": "Python 3",
   "language": "python",
   "name": "python3"
  },
  "language_info": {
   "codemirror_mode": {
    "name": "ipython",
    "version": 3
   },
   "file_extension": ".py",
   "mimetype": "text/x-python",
   "name": "python",
   "nbconvert_exporter": "python",
   "pygments_lexer": "ipython3",
   "version": "3.8.2"
  }
 },
 "nbformat": 4,
 "nbformat_minor": 5
}
