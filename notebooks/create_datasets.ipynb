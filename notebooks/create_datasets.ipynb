{
 "cells": [
  {
   "cell_type": "code",
   "execution_count": null,
   "id": "temporal-material",
   "metadata": {},
   "outputs": [],
   "source": [
    "import sys\n",
    "import pandas as pd\n",
    "sys.path.append(\"/Users/pvs262/Documents/rec-sys-dynamics/code\")\n",
    "from src.analysis.cluster import post_process, cluster\n",
    "\n",
    "# change the run folder name\n",
    "#fldr = \"No_Explore_4\"\n",
    "fldr = \"Explore_Threshold_2\""
   ]
  },
  {
   "cell_type": "code",
   "execution_count": null,
   "id": "strange-grove",
   "metadata": {},
   "outputs": [],
   "source": [
    "def getLatents(folder):\n",
    "    directory = \"../simulation_runs/\"+ fldr +\"/\"+ folder\n",
    "    latents = []\n",
    "    for i in range(100):\n",
    "        df = pd.read_pickle(directory+'/L'+str(i)+'pkl.gzip', compression = 'gzip')\n",
    "        latents.append(df)\n",
    "        \n",
    "    return latents\n",
    "\n",
    "def getResults(folder):\n",
    "    directory = \"../simulation_runs/\"+ fldr +\"/\"+ folder\n",
    "    results = []\n",
    "    for i in range(100):\n",
    "        df = pd.read_pickle(directory+'/R'+str(i)+'pkl.gzip', compression = 'gzip')\n",
    "        results.append(df)\n",
    "        \n",
    "    return results\n",
    "\n",
    "def recalResults(folder):\n",
    "    latents = getLatents(folder)\n",
    "    results_list = []\n",
    "    for i in range(len(latents)):\n",
    "        cluster_obj = cluster(latents[i],0.3)\n",
    "        results_list.append(cluster_obj.gmm(3, covariance_type='full', df='proba', svd = False))\n",
    "    return results_list\n",
    "\n",
    "def getUI(folder):\n",
    "    directory = \"../simulation_runs/\"+ fldr +\"/\"+ folder\n",
    "    UI = []\n",
    "    for i in range(100):\n",
    "        df = pd.read_pickle(directory+'/UI'+str(i)+'pkl.gzip', compression = 'gzip')   \n",
    "        UI.append(df)\n",
    "    return UI"
   ]
  },
  {
   "cell_type": "markdown",
   "id": "valid-exclusive",
   "metadata": {},
   "source": [
    "### Create a dataset for animating iteration-wise clustering\n",
    "Input: Results, Latents\n",
    "Output: CSV of combined results, iteration# and first 3 latent features \n",
    "\n",
    "Step 1: save the new results for 2BCMU and 2BCLI runs (MF and cosin)\n",
    "\n",
    "Step 2: collate results\n",
    "\n",
    "Step 3: export as CSV"
   ]
  },
  {
   "cell_type": "code",
   "execution_count": null,
   "id": "buried-slovenia",
   "metadata": {},
   "outputs": [],
   "source": [
    "'''\n",
    "# STEP 1 (only needs to be run once)\n",
    "sim = ['cosin_2BCMU_0_0_30_100','cosin_2BCLI_0_0_30_100','mf_2BCMU_0_0_30_100','mf_2BCLI_0_0_30_100']\n",
    "sim = ['cosin_2BCMU_10_0_30_100','cosin_2BCLI_10_0_30_100','mf_2BCMU_10_0_30_100','mf_2BCLI_10_0_30_100']\n",
    "for a in sim:\n",
    "    latents = getLatents(a)\n",
    "    results = recalResults(a)\n",
    "    print(\"results recalculated. printing to folder.\")\n",
    "\n",
    "    for i in range(len(results)):\n",
    "        results[i].to_pickle('../simulation_runs/'+fldr+\"/\"+a+'/R'+str(i)+'pkl.gzip', compression = 'gzip')\n",
    "'''"
   ]
  },
  {
   "cell_type": "code",
   "execution_count": null,
   "id": "narrative-greek",
   "metadata": {},
   "outputs": [],
   "source": [
    "def collate2csv(folder):\n",
    "    lats = getLatents(folder)\n",
    "    res = getResults(folder)\n",
    "    UI = getUI(folder)\n",
    "    pp = post_process(lats, res, UI)\n",
    "    res = pp.rename_cluster(1,99)\n",
    "    \n",
    "    final = pd.DataFrame()\n",
    "    \n",
    "    # change all latents to only have 3 features\n",
    "    for i in range(len(lats)):\n",
    "        # if # of latent features < 3, get latents from UI.\n",
    "        if len(lats[i].columns) < 3:\n",
    "            temp_obj = cluster(UI[i],3)\n",
    "            temp_obj.svd()\n",
    "            temp = temp_obj.data\n",
    "        else:\n",
    "            # get 3 most significant latent features\n",
    "            temp = lats[i][lats[i].columns[0:3]]\n",
    "        \n",
    "        # swap columns for consistent axes\n",
    "        if temp.iloc[0][2] > temp.iloc[0][1]:\n",
    "            temp = temp.rename(columns={1: 2, 2: 1})\n",
    "            print(\"column swapped in \" + str(i))\n",
    "        if temp.iloc[0][1] > temp.iloc[0][0]:\n",
    "            temp = temp.rename(columns={1: 0, 0: 1})\n",
    "            \n",
    "        # update 3-column df in lats \n",
    "        lats[i] = temp.join(pd.DataFrame(res[i].cluster))\n",
    "        lats[i]['iteration'] = i+1\n",
    "        \n",
    "        final = final.append(lats[i])\n",
    "        \n",
    "    final.to_csv(\"../simulation_runs/\"+fldr+'/'+folder+\".csv\", index = False)\n",
    "    \n",
    "    return None        "
   ]
  },
  {
   "cell_type": "code",
   "execution_count": null,
   "id": "chinese-horse",
   "metadata": {},
   "outputs": [],
   "source": [
    "collate2csv('cosin_BNC_10_0_30_100')"
   ]
  },
  {
   "cell_type": "code",
   "execution_count": null,
   "id": "wrong-tattoo",
   "metadata": {},
   "outputs": [],
   "source": [
    "\n",
    "# No Explore\n",
    "# folders = ['cosin_AN_0_0_30_100','cosin_BNC_0_0_30_100','cosin_1BCC_0_0_30_100','cosin_1BCMU_0_0_30_100','cosin_1BCLI_0_0_30_100','cosin_2BCC_0_0_30_100','cosin_2BCMU_0_0_30_100','cosin_2BCLI_0_0_30_100','mf_AN_0_0_30_100','mf_BNC_0_0_30_100','mf_1BCC_0_0_30_100','mf_1BCMU_0_0_30_100','mf_1BCLI_0_0_30_100','mf_2BCC_0_0_30_100','mf_2BCMU_0_0_30_100','mf_2BCLI_0_0_30_100']\n",
    "#folders = ['item_based_AN_0_0_30_100','item_based_BNC_0_0_30_100','item_based_1BCC_0_0_30_100','item_based_1BCMU_0_0_30_100','item_based_1BCLI_0_0_30_100','item_based_2BCC_0_0_30_100','item_based_2BCMU_0_0_30_100','item_based_2BCLI_0_0_30_100']\n",
    "\n",
    "# Explore\n",
    "# folders = ['cosin_AN_10_0_30_100','cosin_BNC_10_0_30_100','cosin_1BCC_10_0_30_100','cosin_1BCMU_10_0_30_100','cosin_1BCLI_10_0_30_100','cosin_2BCC_10_0_30_100','cosin_2BCMU_10_0_30_100','cosin_2BCLI_10_0_30_100','mf_AN_10_0_30_100','mf_BNC_10_0_30_100','mf_1BCC_10_0_30_100','mf_1BCMU_10_0_30_100','mf_1BCLI_10_0_30_100','mf_2BCC_10_0_30_100','mf_2BCMU_10_0_30_100','mf_2BCLI_10_0_30_100']\n",
    "#folders = ['item_based_AN_10_0_30_100','item_based_BNC_10_0_30_100','item_based_1BCC_10_0_30_100','item_based_1BCMU_10_0_30_100','item_based_1BCLI_10_0_30_100','item_based_2BCC_10_0_30_100','item_based_2BCMU_10_0_30_100','item_based_2BCLI_10_0_30_100']\n",
    "\n",
    "for name in folders:\n",
    "    collate2csv(name)\n",
    "    \n"
   ]
  },
  {
   "cell_type": "markdown",
   "id": "incredible-trunk",
   "metadata": {},
   "source": [
    "# Fixing Latent Feature Variations\n",
    "E.g. cosin_BNC (explore) iteration 19 vs 20"
   ]
  },
  {
   "cell_type": "code",
   "execution_count": null,
   "id": "nearby-closing",
   "metadata": {},
   "outputs": [],
   "source": [
    "sim = 'cosin_BNC_10_0_30_100'\n",
    "latents = getLatents(sim)\n",
    "results = getResults(sim)\n",
    "UI = getUI(sim)\n",
    "cosin_BNC_10_0_30_100 = post_process(latents, results, UI)\n",
    "cosin_BNC_10_0_30_100.rename_cluster(1,99)\n",
    "cosin_BNC_10_0_30_100.plot_percent()"
   ]
  },
  {
   "cell_type": "code",
   "execution_count": null,
   "id": "norwegian-baptist",
   "metadata": {},
   "outputs": [],
   "source": [
    "latents[43][latents[43].columns[0:3]]"
   ]
  },
  {
   "cell_type": "code",
   "execution_count": null,
   "id": "conceptual-laptop",
   "metadata": {},
   "outputs": [],
   "source": [
    "latents[44][latents[44].columns[0:3]]"
   ]
  },
  {
   "cell_type": "code",
   "execution_count": null,
   "id": "refined-student",
   "metadata": {},
   "outputs": [],
   "source": [
    "test = latents[45][latents[45].columns[0:3]]\n",
    "test"
   ]
  },
  {
   "cell_type": "code",
   "execution_count": null,
   "id": "brazilian-cabin",
   "metadata": {},
   "outputs": [],
   "source": [
    "test.rename(columns={1: 2, 2: 1})"
   ]
  },
  {
   "cell_type": "code",
   "execution_count": null,
   "id": "eastern-sweet",
   "metadata": {},
   "outputs": [],
   "source": [
    "test.iloc[0][2]"
   ]
  },
  {
   "cell_type": "code",
   "execution_count": null,
   "id": "judicial-navigation",
   "metadata": {},
   "outputs": [],
   "source": []
  }
 ],
 "metadata": {
  "kernelspec": {
   "display_name": "Python 3",
   "language": "python",
   "name": "python3"
  },
  "language_info": {
   "codemirror_mode": {
    "name": "ipython",
    "version": 3
   },
   "file_extension": ".py",
   "mimetype": "text/x-python",
   "name": "python",
   "nbconvert_exporter": "python",
   "pygments_lexer": "ipython3",
   "version": "3.8.2"
  }
 },
 "nbformat": 4,
 "nbformat_minor": 5
}
