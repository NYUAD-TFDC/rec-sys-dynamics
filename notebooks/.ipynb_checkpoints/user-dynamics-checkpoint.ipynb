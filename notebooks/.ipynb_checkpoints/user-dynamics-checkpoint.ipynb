{
 "cells": [
  {
   "cell_type": "markdown",
   "metadata": {},
   "source": [
    "# Recomendation Environment Dynamics\n",
    "## Initializing Libraries"
   ]
  },
  {
   "cell_type": "code",
   "execution_count": 2,
   "metadata": {},
   "outputs": [],
   "source": [
    "import pandas as pd\n",
    "import numpy as np\n",
    "from scipy.stats import dirichlet \n",
    "import seaborn as sns\n",
    "import matplotlib.pyplot as plt"
   ]
  },
  {
   "cell_type": "markdown",
   "metadata": {},
   "source": [
    "## Functions to Learn Utility\n",
    "get_Vui(u, i) returns the total utility for user u and item i<br/>\n",
    "get_nui() returns the noisy probablistic proportion of utility known to user current mu is set to 0.98\n"
   ]
  },
  {
   "cell_type": "code",
   "execution_count": 3,
   "metadata": {},
   "outputs": [],
   "source": [
    "def get_mu(v1, v2):\n",
    "    mu = np.dot(v1,v2)\n",
    "    return mu\n",
    "\n",
    "def get_alpha_beta(mu, sigma=10**(-5)):\n",
    "    a1 = (mu**2)*(((1-mu)/sigma**2)-(1/mu))\n",
    "    b1 = a1*((1/mu)- 1)\n",
    "    return a1, b1\n",
    "\n",
    "def get_Vui(u,i):\n",
    "    global p\n",
    "    global a\n",
    "    B_mu = get_mu(p[u-1],a[i-1])\n",
    "    alpha, beta = get_alpha_beta(B_mu)\n",
    "    return float(np.random.beta(alpha,beta))\n",
    "\n",
    "def get_nui(mu = 0.98):\n",
    "    alpha, beta = get_alpha_beta(mu)\n",
    "    return float(np.random.beta(alpha,beta))"
   ]
  },
  {
   "cell_type": "markdown",
   "metadata": {},
   "source": [
    "## Functions to Obtain Heatmap of Preferences\n",
    "cmap is curtently set to \"Greens\" but can be changed to as needed"
   ]
  },
  {
   "cell_type": "code",
   "execution_count": 4,
   "metadata": {},
   "outputs": [],
   "source": [
    "def conv_index_to_bins(index):\n",
    "    \"\"\"Calculate bins to contain the index values.\n",
    "    The start and end bin boundaries are linearly extrapolated from \n",
    "    the two first and last values. The middle bin boundaries are \n",
    "    midpoints.\n",
    "\n",
    "    Example 1: [0, 1] -> [-0.5, 0.5, 1.5]\n",
    "    Example 2: [0, 1, 4] -> [-0.5, 0.5, 2.5, 5.5]\n",
    "    Example 3: [4, 1, 0] -> [5.5, 2.5, 0.5, -0.5]\"\"\"\n",
    "    assert index.is_monotonic_increasing or index.is_monotonic_decreasing\n",
    "\n",
    "    # the beginning and end values are guessed from first and last two\n",
    "    start = index[0] - (index[1]-index[0])/2\n",
    "    end = index[-1] + (index[-1]-index[-2])/2\n",
    "\n",
    "    # the middle values are the midpoints\n",
    "    middle = pd.DataFrame({'m1': index[:-1], 'p1': index[1:]})\n",
    "    middle = middle['m1'] + (middle['p1']-middle['m1'])/2\n",
    "\n",
    "    if isinstance(index, pd.DatetimeIndex):\n",
    "        idx = pd.DatetimeIndex(middle).union([start,end])\n",
    "    elif isinstance(index, (pd.Float64Index,pd.RangeIndex,pd.Int64Index)):\n",
    "        idx = pd.Float64Index(middle).union([start,end])\n",
    "    else:\n",
    "        print('Warning: guessing what to do with index type %s' % \n",
    "              type(index))\n",
    "        idx = pd.Float64Index(middle).union([start,end])\n",
    "\n",
    "    return idx.sort_values(ascending=index.is_monotonic_increasing)\n",
    "\n",
    "def calc_df_mesh(df):\n",
    "    \"\"\"Calculate the two-dimensional bins to hold the index and \n",
    "    column values.\"\"\"\n",
    "    return np.meshgrid(conv_index_to_bins(df.index),\n",
    "                       conv_index_to_bins(df.columns))\n",
    "\n",
    "def heatmap(df):\n",
    "    \"\"\"Plot a heatmap of the dataframe values using the index and \n",
    "    columns\"\"\"\n",
    "    X,Y = calc_df_mesh(df)\n",
    "    c = plt.pcolormesh(X, Y, df.values.T, cmap = 'gist_yarg')\n",
    "    plt.colorbar(c)"
   ]
  },
  {
   "cell_type": "markdown",
   "metadata": {},
   "source": [
    "## Function for Rank"
   ]
  },
  {
   "cell_type": "code",
   "execution_count": null,
   "metadata": {},
   "outputs": [],
   "source": [
    "def get_function_series(items):\n",
    "    return"
   ]
  },
  {
   "cell_type": "markdown",
   "metadata": {},
   "source": [
    "## Initializing Variables\n",
    "\n",
    "n_u > Number of Users\n",
    "\n",
    "n_i > Number of Items\n",
    "\n",
    "num_rec > number of recomendations\n",
    "\n",
    "alpha_user > drichlet concentration for users\n",
    "\n",
    "alpha_items > drichlet concentration for items\n",
    "\n",
    "K_pref_dimensions > dimensions of preference function\n",
    "\n",
    "simulation steps > number of runs of the simulation environment"
   ]
  },
  {
   "cell_type": "code",
   "execution_count": 5,
   "metadata": {},
   "outputs": [],
   "source": [
    "n_u = 100\n",
    "n_i = 150\n",
    "num_rec = 150\n",
    "alpha_user = 1\n",
    "alpha_item = 100\n",
    "K_pref_dimensions = 20\n",
    "simulation_steps = 5"
   ]
  },
  {
   "cell_type": "markdown",
   "metadata": {},
   "source": [
    "## Creating Pandas DataFrames to Store Utility\n",
    "V_df is a user-item matrix of total utilities<br/>\n",
    "P_df is a user-item matrix of known utilities<br/>\n",
    "\n",
    "P_df(u,i) = nui * V_df(u,i)"
   ]
  },
  {
   "cell_type": "code",
   "execution_count": 6,
   "metadata": {},
   "outputs": [],
   "source": [
    "col = np.arange(1, n_i+1, 1)\n",
    "empty_data_row = [float(0) for item in range(1, n_i+1)]\n",
    "empty_data = np.array([empty_data_row for item in range(1, n_u+2)])\n",
    "\n",
    "V_df = pd.DataFrame(empty_data, columns = col)\n",
    "P_df = pd.DataFrame(empty_data, columns = col)\n",
    "V_df = V_df.drop([0], axis = 0)\n",
    "P_df = P_df.drop([0], axis = 0)"
   ]
  },
  {
   "cell_type": "markdown",
   "metadata": {},
   "source": [
    "## Creating User and Item Preference Vectors\n",
    "p is a np.array of shape (n_u, K_pref_dimensions) \n",
    "\n",
    "a is a np.array of shape (n_i, K_pref_dimensions)\n",
    "\n",
    "each K-dimensional vector characterizes the user or item preference in p and a, respectively "
   ]
  },
  {
   "cell_type": "code",
   "execution_count": 7,
   "metadata": {},
   "outputs": [],
   "source": [
    "p = dirichlet.rvs([alpha_user]*K_pref_dimensions, size=n_u)\n",
    "a = dirichlet.rvs([alpha_item]*K_pref_dimensions, size=n_i)"
   ]
  },
  {
   "cell_type": "markdown",
   "metadata": {},
   "source": [
    "## Iterating Over Users and Items to Store Utility Values"
   ]
  },
  {
   "cell_type": "code",
   "execution_count": 8,
   "metadata": {},
   "outputs": [],
   "source": [
    "for item in range(1,n_i+1):\n",
    "    for user in range(1, n_u+1):\n",
    "        Vui = get_Vui(user,item)\n",
    "        V_df[item][user] = Vui\n",
    "        known_proportion = get_nui()\n",
    "        P_df[item][user] = Vui*known_proportion"
   ]
  },
  {
   "cell_type": "markdown",
   "metadata": {},
   "source": [
    "## Creating Heatmap of Known Utilities DataFrame"
   ]
  },
  {
   "cell_type": "code",
   "execution_count": 9,
   "metadata": {},
   "outputs": [
    {
     "data": {
      "image/png": "[encoded data removed]",
      "text/plain": [
       "<Figure size 432x288 with 2 Axes>"
      ]
     },
     "metadata": {
      "needs_background": "light"
     },
     "output_type": "display_data"
    }
   ],
   "source": [
    "heatmap(P_df)"
   ]
  },
  {
   "cell_type": "markdown",
   "metadata": {},
   "source": [
    "## Simulation Environemnt \n",
    "### Iterating over number of simulation steps and over individual users in each simulation step "
   ]
  },
  {
   "cell_type": "code",
   "execution_count": null,
   "metadata": {},
   "outputs": [],
   "source": [
    "for t in range(simulations_step):\n",
    "    for user in range(1, n_u+1):\n",
    "        # Proxy for getting an ordered list of recommendations\n",
    "        ## to be replaced by a function that outputs an ordered list of recommendations\n",
    "        ranked_recomendations = np.random.choice(np.arange(1,n_i+1,1),num_rec, replace= False)\n",
    "        #reordering utilities according to the ranked orders \n",
    "        user_utilities = P_df.loc[user]\n",
    "        user_utilities_ordered = user_utilities.reindex(ranked_recomendations)\n",
    "        #functional value according to rank \n",
    "        ## chosen function should place higher value on new recommendations \n",
    "        \n",
    "        \n",
    "        # X_choice is the Product of utility values with rank function to get item choice\n",
    "        \n",
    "        ## maximum of X_choice for a deterministic model \n",
    "        \n",
    "        \n",
    "        ## maximum of X_choice if over a given threshold for varyying levels of user interaction \n",
    "        \n",
    "        \n",
    "        ## return positive rating for item correcponding to choice\n",
    "        ### returned as a tuple (u, i, rating) added to a list\n",
    "        \n",
    "    # list of tuples to be added to the dataset for next recomendations \n",
    "    \n",
    "    \n",
    "    ## Proxy for snapshot of dynamics\n",
    "    \n",
    "#end"
   ]
  }
 ],
 "metadata": {
  "kernelspec": {
   "display_name": "Python 3",
   "language": "python",
   "name": "python3"
  },
  "language_info": {
   "codemirror_mode": {
    "name": "ipython",
    "version": 3
   },
   "file_extension": ".py",
   "mimetype": "text/x-python",
   "name": "python",
   "nbconvert_exporter": "python",
   "pygments_lexer": "ipython3",
   "version": "3.8.2"
  }
 },
 "nbformat": 4,
 "nbformat_minor": 2
}
