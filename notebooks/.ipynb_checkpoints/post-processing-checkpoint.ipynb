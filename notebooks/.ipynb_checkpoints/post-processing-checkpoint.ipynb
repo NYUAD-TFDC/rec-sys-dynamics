{
 "cells": [
  {
   "cell_type": "markdown",
   "id": "thrown-primary",
   "metadata": {},
   "source": [
    "# Post-Processing Exploration\n",
    "**Purpose:** \n",
    "\n",
    "This notebook explores different post-processing methods to evaluate the clustering outputs from the RecSys\n",
    "\n",
    "**Methodology:**\n",
    "\n",
    "The notebook assumes input from the RecSys. It will explore the timeseries cluster probabilities to evaluate the dynamics/change in users.\n",
    "\n",
    "**Author:**\n",
    "\n",
    "Prajna Soni (@prajnasoni)"
   ]
  },
  {
   "cell_type": "code",
   "execution_count": 6,
   "id": "canadian-radio",
   "metadata": {},
   "outputs": [],
   "source": [
    "# Import the libraries we will be using\n",
    "\n",
    "#import os\n",
    "import numpy as np\n",
    "import pandas as pd\n",
    "#import math\n",
    "import matplotlib.pyplot as plt\n",
    "\n",
    "import logging\n",
    "\n",
    "from sklearn import metrics\n",
    "#from sklearn.tree import DecisionTreeClassifier\n",
    "#from sklearn.model_selection import train_test_split\n",
    "#from IPython.display import Image\n",
    "#from sklearn.tree import export_graphviz\n",
    "#from sklearn.mixture import GaussianMixture\n",
    "#from sklearn.cluster import KMeans\n",
    "#from sklearn.decomposition import TruncatedSVD\n",
    "\n",
    "#import plotly\n",
    "#import plotly.graph_objs as go\n",
    "\n",
    "#%matplotlib inline"
   ]
  },
  {
   "cell_type": "code",
   "execution_count": 7,
   "id": "greek-gospel",
   "metadata": {},
   "outputs": [
    {
     "name": "stdout",
     "output_type": "stream",
     "text": [
      "[[0.1 0.8 0.1]\n",
      " [0.9 0.  0.1]]\n"
     ]
    }
   ],
   "source": [
    "# Test cluster dataset creation\n",
    "# Append cluster porbabilities in a 3D Array [user, cluster_probas, sim_time]\n",
    "A = np.array([[0.1,0.8,0.1],[0.9,0.0,0.1]])\n",
    "print(A)"
   ]
  },
  {
   "cell_type": "code",
   "execution_count": 8,
   "id": "fabulous-aspect",
   "metadata": {},
   "outputs": [
    {
     "data": {
      "text/plain": [
       "(2, 3)"
      ]
     },
     "execution_count": 8,
     "metadata": {},
     "output_type": "execute_result"
    }
   ],
   "source": [
    "A.shape"
   ]
  },
  {
   "cell_type": "code",
   "execution_count": 9,
   "id": "under-settlement",
   "metadata": {},
   "outputs": [
    {
     "name": "stdout",
     "output_type": "stream",
     "text": [
      "[[0.3 0.3 0.4]\n",
      " [0.5 0.1 0.4]]\n"
     ]
    }
   ],
   "source": [
    "B = np.array([[0.3,0.3,0.4],[0.5,0.1,0.4]])\n",
    "print(B)"
   ]
  },
  {
   "cell_type": "code",
   "execution_count": 10,
   "id": "fiscal-triumph",
   "metadata": {},
   "outputs": [
    {
     "data": {
      "text/plain": [
       "(2, 3, 1)"
      ]
     },
     "execution_count": 10,
     "metadata": {},
     "output_type": "execute_result"
    }
   ],
   "source": [
    "np.atleast_3d(A).shape"
   ]
  },
  {
   "cell_type": "code",
   "execution_count": 11,
   "id": "helpful-likelihood",
   "metadata": {},
   "outputs": [
    {
     "data": {
      "text/plain": [
       "(2, 3)"
      ]
     },
     "execution_count": 11,
     "metadata": {},
     "output_type": "execute_result"
    }
   ],
   "source": [
    "B.shape"
   ]
  },
  {
   "cell_type": "code",
   "execution_count": 12,
   "id": "abroad-princess",
   "metadata": {},
   "outputs": [
    {
     "data": {
      "text/plain": [
       "(2, 3, 2)"
      ]
     },
     "execution_count": 12,
     "metadata": {},
     "output_type": "execute_result"
    }
   ],
   "source": [
    "stack = np.dstack((np.atleast_3d(A),np.atleast_3d(B)))\n",
    "stack.shape"
   ]
  },
  {
   "cell_type": "code",
   "execution_count": 14,
   "id": "intended-tactics",
   "metadata": {},
   "outputs": [
    {
     "data": {
      "text/plain": [
       "array([[[0.1, 0.3],\n",
       "        [0.8, 0.3],\n",
       "        [0.1, 0.4]],\n",
       "\n",
       "       [[0.9, 0.5],\n",
       "        [0. , 0.1],\n",
       "        [0.1, 0.4]]])"
      ]
     },
     "execution_count": 14,
     "metadata": {},
     "output_type": "execute_result"
    }
   ],
   "source": [
    "stack"
   ]
  },
  {
   "cell_type": "code",
   "execution_count": 13,
   "id": "accredited-hours",
   "metadata": {},
   "outputs": [
    {
     "data": {
      "text/plain": [
       "array([[[0.1, 0.3, 0.3],\n",
       "        [0.8, 0.3, 0.3],\n",
       "        [0.1, 0.4, 0.4]],\n",
       "\n",
       "       [[0.9, 0.5, 0.5],\n",
       "        [0. , 0.1, 0.1],\n",
       "        [0.1, 0.4, 0.4]]])"
      ]
     },
     "execution_count": 13,
     "metadata": {},
     "output_type": "execute_result"
    }
   ],
   "source": [
    "np.dstack((np.atleast_3d(stack),np.atleast_3d(B)))"
   ]
  },
  {
   "cell_type": "code",
   "execution_count": 41,
   "id": "binary-spanking",
   "metadata": {},
   "outputs": [
    {
     "data": {
      "text/plain": [
       "array([[0.1, 0.8, 0.1],\n",
       "       [0.9, 0. , 0.1]])"
      ]
     },
     "execution_count": 41,
     "metadata": {},
     "output_type": "execute_result"
    }
   ],
   "source": [
    "stack[:,:,1]"
   ]
  },
  {
   "cell_type": "code",
   "execution_count": null,
   "id": "victorian-sheep",
   "metadata": {},
   "outputs": [],
   "source": []
  }
 ],
 "metadata": {
  "kernelspec": {
   "display_name": "Python 3",
   "language": "python",
   "name": "python3"
  },
  "language_info": {
   "codemirror_mode": {
    "name": "ipython",
    "version": 3
   },
   "file_extension": ".py",
   "mimetype": "text/x-python",
   "name": "python",
   "nbconvert_exporter": "python",
   "pygments_lexer": "ipython3",
   "version": "3.8.2"
  }
 },
 "nbformat": 4,
 "nbformat_minor": 5
}
