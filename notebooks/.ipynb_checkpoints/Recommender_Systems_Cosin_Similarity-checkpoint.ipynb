{
 "cells": [
  {
   "cell_type": "markdown",
   "id": "circular-button",
   "metadata": {},
   "source": [
    "# Collaborative Filtering Recommender System based on Cosin Similarity\n",
    "\n",
    "### Purpose\n",
    "To get a working cosin similarity model based off of collaborative filtering\n",
    "\n",
    "### Methodology\n",
    "This notebook assumes that the model will receive a pre-processed dataset of user-item interactions. For simplification purposes, it uses the [small movielens dataset](https://surprise.readthedocs.io/en/stable/dataset.html)\n",
    "\n",
    "### Author Information\n",
    "Nishant Aswani (@niniack)\n"
   ]
  },
  {
   "cell_type": "markdown",
   "id": "russian-universe",
   "metadata": {},
   "source": [
    "### Setup (Imports)"
   ]
  },
  {
   "cell_type": "code",
   "execution_count": 1,
   "id": "documentary-spirit",
   "metadata": {},
   "outputs": [],
   "source": [
    "# Data manipulation\n",
    "import pandas as pd\n",
    "import numpy as np\n",
    "from lenskit import batch, topn, util\n",
    "from lenskit import crossfold as xf\n",
    "from lenskit.algorithms import Recommender, Predictor, als, basic, user_knn\n",
    "from lenskit import topn\n",
    "from scipy import sparse\n",
    "from sklearn.metrics.pairwise import cosine_similarity\n",
    "\n",
    "# Dataset\n",
    "from lenskit.datasets import ML100K\n",
    "movielens = ML100K('../ml-100k')\n",
    "\n",
    "# Options for pandas\n",
    "pd.options.display.max_columns = 50\n",
    "pd.options.display.max_rows = 30\n",
    "\n",
    "# Visualizations\n",
    "import plotly.graph_objs as go\n",
    "from pprintpp import pprint as pp\n",
    "\n",
    "# Autoreload extension\n",
    "if 'autoreload' not in get_ipython().extension_manager.loaded:\n",
    "    %load_ext autoreload\n",
    "    \n",
    "%autoreload 2"
   ]
  },
  {
   "cell_type": "markdown",
   "id": "improving-replacement",
   "metadata": {},
   "source": [
    "### Downloading ML100K Dataset"
   ]
  },
  {
   "cell_type": "code",
   "execution_count": 2,
   "id": "noted-found",
   "metadata": {},
   "outputs": [],
   "source": [
    "# %%!\n",
    "# wget -q -O ml-100k.zip http://files.grouplens.org/datasets/movielens/ml-100k.zip\n",
    "\n",
    "## This unzip method may not work!\n",
    "# unzip -f ml-100k.zip"
   ]
  },
  {
   "cell_type": "markdown",
   "id": "victorian-paint",
   "metadata": {},
   "source": [
    "### Data Exploration\n",
    "\n",
    "The lenskit ML100K dataset provides the following: movies, ratings, users"
   ]
  },
  {
   "cell_type": "code",
   "execution_count": 3,
   "id": "vertical-fusion",
   "metadata": {},
   "outputs": [
    {
     "data": {
      "text/html": [
       "<div>\n",
       "<style scoped>\n",
       "    .dataframe tbody tr th:only-of-type {\n",
       "        vertical-align: middle;\n",
       "    }\n",
       "\n",
       "    .dataframe tbody tr th {\n",
       "        vertical-align: top;\n",
       "    }\n",
       "\n",
       "    .dataframe thead th {\n",
       "        text-align: right;\n",
       "    }\n",
       "</style>\n",
       "<table border=\"1\" class=\"dataframe\">\n",
       "  <thead>\n",
       "    <tr style=\"text-align: right;\">\n",
       "      <th></th>\n",
       "      <th>user</th>\n",
       "      <th>item</th>\n",
       "      <th>rating</th>\n",
       "      <th>timestamp</th>\n",
       "    </tr>\n",
       "  </thead>\n",
       "  <tbody>\n",
       "    <tr>\n",
       "      <th>0</th>\n",
       "      <td>196</td>\n",
       "      <td>242</td>\n",
       "      <td>3.0</td>\n",
       "      <td>881250949</td>\n",
       "    </tr>\n",
       "    <tr>\n",
       "      <th>1</th>\n",
       "      <td>186</td>\n",
       "      <td>302</td>\n",
       "      <td>3.0</td>\n",
       "      <td>891717742</td>\n",
       "    </tr>\n",
       "    <tr>\n",
       "      <th>2</th>\n",
       "      <td>22</td>\n",
       "      <td>377</td>\n",
       "      <td>1.0</td>\n",
       "      <td>878887116</td>\n",
       "    </tr>\n",
       "    <tr>\n",
       "      <th>3</th>\n",
       "      <td>244</td>\n",
       "      <td>51</td>\n",
       "      <td>2.0</td>\n",
       "      <td>880606923</td>\n",
       "    </tr>\n",
       "    <tr>\n",
       "      <th>4</th>\n",
       "      <td>166</td>\n",
       "      <td>346</td>\n",
       "      <td>1.0</td>\n",
       "      <td>886397596</td>\n",
       "    </tr>\n",
       "  </tbody>\n",
       "</table>\n",
       "</div>"
      ],
      "text/plain": [
       "   user  item  rating  timestamp\n",
       "0   196   242     3.0  881250949\n",
       "1   186   302     3.0  891717742\n",
       "2    22   377     1.0  878887116\n",
       "3   244    51     2.0  880606923\n",
       "4   166   346     1.0  886397596"
      ]
     },
     "execution_count": 3,
     "metadata": {},
     "output_type": "execute_result"
    }
   ],
   "source": [
    "ratings = movielens.ratings\n",
    "ratings.head()"
   ]
  },
  {
   "cell_type": "code",
   "execution_count": 4,
   "id": "received-grill",
   "metadata": {},
   "outputs": [
    {
     "data": {
      "text/plain": [
       "100000"
      ]
     },
     "execution_count": 4,
     "metadata": {},
     "output_type": "execute_result"
    }
   ],
   "source": [
    "len(ratings)"
   ]
  },
  {
   "cell_type": "code",
   "execution_count": 5,
   "id": "color-terminal",
   "metadata": {},
   "outputs": [
    {
     "data": {
      "text/html": [
       "<div>\n",
       "<style scoped>\n",
       "    .dataframe tbody tr th:only-of-type {\n",
       "        vertical-align: middle;\n",
       "    }\n",
       "\n",
       "    .dataframe tbody tr th {\n",
       "        vertical-align: top;\n",
       "    }\n",
       "\n",
       "    .dataframe thead th {\n",
       "        text-align: right;\n",
       "    }\n",
       "</style>\n",
       "<table border=\"1\" class=\"dataframe\">\n",
       "  <thead>\n",
       "    <tr style=\"text-align: right;\">\n",
       "      <th></th>\n",
       "      <th>age</th>\n",
       "      <th>gender</th>\n",
       "      <th>occupation</th>\n",
       "      <th>zip</th>\n",
       "    </tr>\n",
       "    <tr>\n",
       "      <th>user</th>\n",
       "      <th></th>\n",
       "      <th></th>\n",
       "      <th></th>\n",
       "      <th></th>\n",
       "    </tr>\n",
       "  </thead>\n",
       "  <tbody>\n",
       "    <tr>\n",
       "      <th>1</th>\n",
       "      <td>24</td>\n",
       "      <td>M</td>\n",
       "      <td>technician</td>\n",
       "      <td>85711</td>\n",
       "    </tr>\n",
       "    <tr>\n",
       "      <th>2</th>\n",
       "      <td>53</td>\n",
       "      <td>F</td>\n",
       "      <td>other</td>\n",
       "      <td>94043</td>\n",
       "    </tr>\n",
       "    <tr>\n",
       "      <th>3</th>\n",
       "      <td>23</td>\n",
       "      <td>M</td>\n",
       "      <td>writer</td>\n",
       "      <td>32067</td>\n",
       "    </tr>\n",
       "    <tr>\n",
       "      <th>4</th>\n",
       "      <td>24</td>\n",
       "      <td>M</td>\n",
       "      <td>technician</td>\n",
       "      <td>43537</td>\n",
       "    </tr>\n",
       "    <tr>\n",
       "      <th>5</th>\n",
       "      <td>33</td>\n",
       "      <td>F</td>\n",
       "      <td>other</td>\n",
       "      <td>15213</td>\n",
       "    </tr>\n",
       "  </tbody>\n",
       "</table>\n",
       "</div>"
      ],
      "text/plain": [
       "      age gender  occupation    zip\n",
       "user                               \n",
       "1      24      M  technician  85711\n",
       "2      53      F       other  94043\n",
       "3      23      M      writer  32067\n",
       "4      24      M  technician  43537\n",
       "5      33      F       other  15213"
      ]
     },
     "execution_count": 5,
     "metadata": {},
     "output_type": "execute_result"
    }
   ],
   "source": [
    "users = movielens.users\n",
    "users.head()"
   ]
  },
  {
   "cell_type": "code",
   "execution_count": 6,
   "id": "classified-workstation",
   "metadata": {},
   "outputs": [
    {
     "data": {
      "text/plain": [
       "943"
      ]
     },
     "execution_count": 6,
     "metadata": {},
     "output_type": "execute_result"
    }
   ],
   "source": [
    "len(users)"
   ]
  },
  {
   "cell_type": "code",
   "execution_count": 7,
   "id": "greenhouse-civilian",
   "metadata": {},
   "outputs": [
    {
     "data": {
      "text/html": [
       "<div>\n",
       "<style scoped>\n",
       "    .dataframe tbody tr th:only-of-type {\n",
       "        vertical-align: middle;\n",
       "    }\n",
       "\n",
       "    .dataframe tbody tr th {\n",
       "        vertical-align: top;\n",
       "    }\n",
       "\n",
       "    .dataframe thead th {\n",
       "        text-align: right;\n",
       "    }\n",
       "</style>\n",
       "<table border=\"1\" class=\"dataframe\">\n",
       "  <thead>\n",
       "    <tr style=\"text-align: right;\">\n",
       "      <th></th>\n",
       "      <th>title</th>\n",
       "      <th>release</th>\n",
       "      <th>vidrelease</th>\n",
       "      <th>imdb</th>\n",
       "      <th>unknown</th>\n",
       "      <th>Action</th>\n",
       "      <th>Adventure</th>\n",
       "      <th>Animation</th>\n",
       "      <th>Children's</th>\n",
       "      <th>Comedy</th>\n",
       "      <th>Crime</th>\n",
       "      <th>Documentary</th>\n",
       "      <th>Drama</th>\n",
       "      <th>Fantasy</th>\n",
       "      <th>Film-Noir</th>\n",
       "      <th>Horror</th>\n",
       "      <th>Musical</th>\n",
       "      <th>Mystery</th>\n",
       "      <th>Romance</th>\n",
       "      <th>Sci-Fi</th>\n",
       "      <th>Thriller</th>\n",
       "      <th>War</th>\n",
       "      <th>Western</th>\n",
       "    </tr>\n",
       "    <tr>\n",
       "      <th>item</th>\n",
       "      <th></th>\n",
       "      <th></th>\n",
       "      <th></th>\n",
       "      <th></th>\n",
       "      <th></th>\n",
       "      <th></th>\n",
       "      <th></th>\n",
       "      <th></th>\n",
       "      <th></th>\n",
       "      <th></th>\n",
       "      <th></th>\n",
       "      <th></th>\n",
       "      <th></th>\n",
       "      <th></th>\n",
       "      <th></th>\n",
       "      <th></th>\n",
       "      <th></th>\n",
       "      <th></th>\n",
       "      <th></th>\n",
       "      <th></th>\n",
       "      <th></th>\n",
       "      <th></th>\n",
       "      <th></th>\n",
       "    </tr>\n",
       "  </thead>\n",
       "  <tbody>\n",
       "    <tr>\n",
       "      <th>1</th>\n",
       "      <td>Toy Story (1995)</td>\n",
       "      <td>01-Jan-1995</td>\n",
       "      <td>NaN</td>\n",
       "      <td>http://us.imdb.com/M/title-exact?Toy%20Story%2...</td>\n",
       "      <td>0</td>\n",
       "      <td>0</td>\n",
       "      <td>0</td>\n",
       "      <td>1</td>\n",
       "      <td>1</td>\n",
       "      <td>1</td>\n",
       "      <td>0</td>\n",
       "      <td>0</td>\n",
       "      <td>0</td>\n",
       "      <td>0</td>\n",
       "      <td>0</td>\n",
       "      <td>0</td>\n",
       "      <td>0</td>\n",
       "      <td>0</td>\n",
       "      <td>0</td>\n",
       "      <td>0</td>\n",
       "      <td>0</td>\n",
       "      <td>0</td>\n",
       "      <td>0</td>\n",
       "    </tr>\n",
       "    <tr>\n",
       "      <th>2</th>\n",
       "      <td>GoldenEye (1995)</td>\n",
       "      <td>01-Jan-1995</td>\n",
       "      <td>NaN</td>\n",
       "      <td>http://us.imdb.com/M/title-exact?GoldenEye%20(...</td>\n",
       "      <td>0</td>\n",
       "      <td>1</td>\n",
       "      <td>1</td>\n",
       "      <td>0</td>\n",
       "      <td>0</td>\n",
       "      <td>0</td>\n",
       "      <td>0</td>\n",
       "      <td>0</td>\n",
       "      <td>0</td>\n",
       "      <td>0</td>\n",
       "      <td>0</td>\n",
       "      <td>0</td>\n",
       "      <td>0</td>\n",
       "      <td>0</td>\n",
       "      <td>0</td>\n",
       "      <td>0</td>\n",
       "      <td>1</td>\n",
       "      <td>0</td>\n",
       "      <td>0</td>\n",
       "    </tr>\n",
       "    <tr>\n",
       "      <th>3</th>\n",
       "      <td>Four Rooms (1995)</td>\n",
       "      <td>01-Jan-1995</td>\n",
       "      <td>NaN</td>\n",
       "      <td>http://us.imdb.com/M/title-exact?Four%20Rooms%...</td>\n",
       "      <td>0</td>\n",
       "      <td>0</td>\n",
       "      <td>0</td>\n",
       "      <td>0</td>\n",
       "      <td>0</td>\n",
       "      <td>0</td>\n",
       "      <td>0</td>\n",
       "      <td>0</td>\n",
       "      <td>0</td>\n",
       "      <td>0</td>\n",
       "      <td>0</td>\n",
       "      <td>0</td>\n",
       "      <td>0</td>\n",
       "      <td>0</td>\n",
       "      <td>0</td>\n",
       "      <td>0</td>\n",
       "      <td>1</td>\n",
       "      <td>0</td>\n",
       "      <td>0</td>\n",
       "    </tr>\n",
       "    <tr>\n",
       "      <th>4</th>\n",
       "      <td>Get Shorty (1995)</td>\n",
       "      <td>01-Jan-1995</td>\n",
       "      <td>NaN</td>\n",
       "      <td>http://us.imdb.com/M/title-exact?Get%20Shorty%...</td>\n",
       "      <td>0</td>\n",
       "      <td>1</td>\n",
       "      <td>0</td>\n",
       "      <td>0</td>\n",
       "      <td>0</td>\n",
       "      <td>1</td>\n",
       "      <td>0</td>\n",
       "      <td>0</td>\n",
       "      <td>1</td>\n",
       "      <td>0</td>\n",
       "      <td>0</td>\n",
       "      <td>0</td>\n",
       "      <td>0</td>\n",
       "      <td>0</td>\n",
       "      <td>0</td>\n",
       "      <td>0</td>\n",
       "      <td>0</td>\n",
       "      <td>0</td>\n",
       "      <td>0</td>\n",
       "    </tr>\n",
       "    <tr>\n",
       "      <th>5</th>\n",
       "      <td>Copycat (1995)</td>\n",
       "      <td>01-Jan-1995</td>\n",
       "      <td>NaN</td>\n",
       "      <td>http://us.imdb.com/M/title-exact?Copycat%20(1995)</td>\n",
       "      <td>0</td>\n",
       "      <td>0</td>\n",
       "      <td>0</td>\n",
       "      <td>0</td>\n",
       "      <td>0</td>\n",
       "      <td>0</td>\n",
       "      <td>1</td>\n",
       "      <td>0</td>\n",
       "      <td>1</td>\n",
       "      <td>0</td>\n",
       "      <td>0</td>\n",
       "      <td>0</td>\n",
       "      <td>0</td>\n",
       "      <td>0</td>\n",
       "      <td>0</td>\n",
       "      <td>0</td>\n",
       "      <td>1</td>\n",
       "      <td>0</td>\n",
       "      <td>0</td>\n",
       "    </tr>\n",
       "  </tbody>\n",
       "</table>\n",
       "</div>"
      ],
      "text/plain": [
       "                  title      release  vidrelease  \\\n",
       "item                                               \n",
       "1      Toy Story (1995)  01-Jan-1995         NaN   \n",
       "2      GoldenEye (1995)  01-Jan-1995         NaN   \n",
       "3     Four Rooms (1995)  01-Jan-1995         NaN   \n",
       "4     Get Shorty (1995)  01-Jan-1995         NaN   \n",
       "5        Copycat (1995)  01-Jan-1995         NaN   \n",
       "\n",
       "                                                   imdb  unknown  Action  \\\n",
       "item                                                                       \n",
       "1     http://us.imdb.com/M/title-exact?Toy%20Story%2...        0       0   \n",
       "2     http://us.imdb.com/M/title-exact?GoldenEye%20(...        0       1   \n",
       "3     http://us.imdb.com/M/title-exact?Four%20Rooms%...        0       0   \n",
       "4     http://us.imdb.com/M/title-exact?Get%20Shorty%...        0       1   \n",
       "5     http://us.imdb.com/M/title-exact?Copycat%20(1995)        0       0   \n",
       "\n",
       "      Adventure  Animation  Children's  Comedy  Crime  Documentary  Drama  \\\n",
       "item                                                                        \n",
       "1             0          1           1       1      0            0      0   \n",
       "2             1          0           0       0      0            0      0   \n",
       "3             0          0           0       0      0            0      0   \n",
       "4             0          0           0       1      0            0      1   \n",
       "5             0          0           0       0      1            0      1   \n",
       "\n",
       "      Fantasy  Film-Noir  Horror  Musical  Mystery  Romance  Sci-Fi  Thriller  \\\n",
       "item                                                                            \n",
       "1           0          0       0        0        0        0       0         0   \n",
       "2           0          0       0        0        0        0       0         1   \n",
       "3           0          0       0        0        0        0       0         1   \n",
       "4           0          0       0        0        0        0       0         0   \n",
       "5           0          0       0        0        0        0       0         1   \n",
       "\n",
       "      War  Western  \n",
       "item                \n",
       "1       0        0  \n",
       "2       0        0  \n",
       "3       0        0  \n",
       "4       0        0  \n",
       "5       0        0  "
      ]
     },
     "execution_count": 7,
     "metadata": {},
     "output_type": "execute_result"
    }
   ],
   "source": [
    "movies = movielens.movies\n",
    "movies.head()"
   ]
  },
  {
   "cell_type": "code",
   "execution_count": 8,
   "id": "fifteen-enterprise",
   "metadata": {},
   "outputs": [
    {
     "data": {
      "text/plain": [
       "1682"
      ]
     },
     "execution_count": 8,
     "metadata": {},
     "output_type": "execute_result"
    }
   ],
   "source": [
    "len(movies)"
   ]
  },
  {
   "cell_type": "markdown",
   "id": "identified-trick",
   "metadata": {},
   "source": [
    "### Testing The \"Most Popular Item Recommendation\" System\n",
    "\n",
    "The popular recommender calculates a score for each item in the ratings matrix. When provided a user to recommend items to, the model returns the top scoring n items that the given user has not previously rated."
   ]
  },
  {
   "cell_type": "code",
   "execution_count": 9,
   "id": "reduced-justice",
   "metadata": {},
   "outputs": [
    {
     "data": {
      "text/plain": [
       "<lenskit.algorithms.basic.Popular at 0x7f241531b070>"
      ]
     },
     "execution_count": 9,
     "metadata": {},
     "output_type": "execute_result"
    }
   ],
   "source": [
    "# Initializing and \"training\" the popular recommender\n",
    "algo_popular = basic.Popular()\n",
    "algo_popular.fit(ratings)"
   ]
  },
  {
   "cell_type": "code",
   "execution_count": 10,
   "id": "growing-wings",
   "metadata": {},
   "outputs": [
    {
     "data": {
      "text/html": [
       "<div>\n",
       "<style scoped>\n",
       "    .dataframe tbody tr th:only-of-type {\n",
       "        vertical-align: middle;\n",
       "    }\n",
       "\n",
       "    .dataframe tbody tr th {\n",
       "        vertical-align: top;\n",
       "    }\n",
       "\n",
       "    .dataframe thead th {\n",
       "        text-align: right;\n",
       "    }\n",
       "</style>\n",
       "<table border=\"1\" class=\"dataframe\">\n",
       "  <thead>\n",
       "    <tr style=\"text-align: right;\">\n",
       "      <th></th>\n",
       "      <th>item</th>\n",
       "      <th>score</th>\n",
       "    </tr>\n",
       "  </thead>\n",
       "  <tbody>\n",
       "    <tr>\n",
       "      <th>0</th>\n",
       "      <td>258</td>\n",
       "      <td>509.0</td>\n",
       "    </tr>\n",
       "    <tr>\n",
       "      <th>1</th>\n",
       "      <td>100</td>\n",
       "      <td>508.0</td>\n",
       "    </tr>\n",
       "    <tr>\n",
       "      <th>2</th>\n",
       "      <td>294</td>\n",
       "      <td>485.0</td>\n",
       "    </tr>\n",
       "    <tr>\n",
       "      <th>3</th>\n",
       "      <td>286</td>\n",
       "      <td>481.0</td>\n",
       "    </tr>\n",
       "    <tr>\n",
       "      <th>4</th>\n",
       "      <td>300</td>\n",
       "      <td>431.0</td>\n",
       "    </tr>\n",
       "    <tr>\n",
       "      <th>5</th>\n",
       "      <td>127</td>\n",
       "      <td>413.0</td>\n",
       "    </tr>\n",
       "    <tr>\n",
       "      <th>6</th>\n",
       "      <td>56</td>\n",
       "      <td>394.0</td>\n",
       "    </tr>\n",
       "    <tr>\n",
       "      <th>7</th>\n",
       "      <td>7</td>\n",
       "      <td>392.0</td>\n",
       "    </tr>\n",
       "    <tr>\n",
       "      <th>8</th>\n",
       "      <td>237</td>\n",
       "      <td>384.0</td>\n",
       "    </tr>\n",
       "    <tr>\n",
       "      <th>9</th>\n",
       "      <td>117</td>\n",
       "      <td>378.0</td>\n",
       "    </tr>\n",
       "  </tbody>\n",
       "</table>\n",
       "</div>"
      ],
      "text/plain": [
       "   item  score\n",
       "0   258  509.0\n",
       "1   100  508.0\n",
       "2   294  485.0\n",
       "3   286  481.0\n",
       "4   300  431.0\n",
       "5   127  413.0\n",
       "6    56  394.0\n",
       "7     7  392.0\n",
       "8   237  384.0\n",
       "9   117  378.0"
      ]
     },
     "execution_count": 10,
     "metadata": {},
     "output_type": "execute_result"
    }
   ],
   "source": [
    "# Recommend the top 10 most popular items for UserID 20\n",
    "algo_popular.recommend(20, 10)"
   ]
  },
  {
   "cell_type": "code",
   "execution_count": 11,
   "id": "horizontal-report",
   "metadata": {},
   "outputs": [
    {
     "data": {
      "text/plain": [
       "item\n",
       "50      583\n",
       "258     509\n",
       "100     508\n",
       "181     507\n",
       "294     485\n",
       "       ... \n",
       "1576      1\n",
       "1577      1\n",
       "1348      1\n",
       "1579      1\n",
       "1682      1\n",
       "Name: user, Length: 1682, dtype: int64"
      ]
     },
     "execution_count": 11,
     "metadata": {},
     "output_type": "execute_result"
    }
   ],
   "source": [
    "pop = ratings.groupby('item').user.count()\n",
    "pop.sort_values(ascending=False)"
   ]
  },
  {
   "cell_type": "markdown",
   "id": "understanding-average",
   "metadata": {},
   "source": [
    "The highest recommendation, item 258, to user 20 is not the item with the highest score. However, it is the highest scoring item that user 20 has never rated."
   ]
  },
  {
   "cell_type": "code",
   "execution_count": 12,
   "id": "played-melbourne",
   "metadata": {},
   "outputs": [
    {
     "data": {
      "text/html": [
       "<div>\n",
       "<style scoped>\n",
       "    .dataframe tbody tr th:only-of-type {\n",
       "        vertical-align: middle;\n",
       "    }\n",
       "\n",
       "    .dataframe tbody tr th {\n",
       "        vertical-align: top;\n",
       "    }\n",
       "\n",
       "    .dataframe thead th {\n",
       "        text-align: right;\n",
       "    }\n",
       "</style>\n",
       "<table border=\"1\" class=\"dataframe\">\n",
       "  <thead>\n",
       "    <tr style=\"text-align: right;\">\n",
       "      <th></th>\n",
       "      <th>user</th>\n",
       "      <th>item</th>\n",
       "      <th>rating</th>\n",
       "      <th>timestamp</th>\n",
       "    </tr>\n",
       "  </thead>\n",
       "  <tbody>\n",
       "  </tbody>\n",
       "</table>\n",
       "</div>"
      ],
      "text/plain": [
       "Empty DataFrame\n",
       "Columns: [user, item, rating, timestamp]\n",
       "Index: []"
      ]
     },
     "execution_count": 12,
     "metadata": {},
     "output_type": "execute_result"
    }
   ],
   "source": [
    "ratings.loc[(ratings['user'] == 20) & (ratings['item'] == 258)]"
   ]
  },
  {
   "cell_type": "code",
   "execution_count": 13,
   "id": "funded-companion",
   "metadata": {},
   "outputs": [
    {
     "data": {
      "text/html": [
       "<div>\n",
       "<style scoped>\n",
       "    .dataframe tbody tr th:only-of-type {\n",
       "        vertical-align: middle;\n",
       "    }\n",
       "\n",
       "    .dataframe tbody tr th {\n",
       "        vertical-align: top;\n",
       "    }\n",
       "\n",
       "    .dataframe thead th {\n",
       "        text-align: right;\n",
       "    }\n",
       "</style>\n",
       "<table border=\"1\" class=\"dataframe\">\n",
       "  <thead>\n",
       "    <tr style=\"text-align: right;\">\n",
       "      <th></th>\n",
       "      <th>user</th>\n",
       "      <th>rating</th>\n",
       "      <th>timestamp</th>\n",
       "    </tr>\n",
       "    <tr>\n",
       "      <th>item</th>\n",
       "      <th></th>\n",
       "      <th></th>\n",
       "      <th></th>\n",
       "    </tr>\n",
       "  </thead>\n",
       "  <tbody>\n",
       "    <tr>\n",
       "      <th>886</th>\n",
       "      <td>31</td>\n",
       "      <td>2.0</td>\n",
       "      <td>881547877</td>\n",
       "    </tr>\n",
       "    <tr>\n",
       "      <th>484</th>\n",
       "      <td>31</td>\n",
       "      <td>5.0</td>\n",
       "      <td>881548030</td>\n",
       "    </tr>\n",
       "    <tr>\n",
       "      <th>682</th>\n",
       "      <td>31</td>\n",
       "      <td>2.0</td>\n",
       "      <td>881547834</td>\n",
       "    </tr>\n",
       "    <tr>\n",
       "      <th>302</th>\n",
       "      <td>31</td>\n",
       "      <td>4.0</td>\n",
       "      <td>881547719</td>\n",
       "    </tr>\n",
       "    <tr>\n",
       "      <th>135</th>\n",
       "      <td>31</td>\n",
       "      <td>4.0</td>\n",
       "      <td>881548030</td>\n",
       "    </tr>\n",
       "    <tr>\n",
       "      <th>...</th>\n",
       "      <td>...</td>\n",
       "      <td>...</td>\n",
       "      <td>...</td>\n",
       "    </tr>\n",
       "    <tr>\n",
       "      <th>519</th>\n",
       "      <td>31</td>\n",
       "      <td>4.0</td>\n",
       "      <td>881548053</td>\n",
       "    </tr>\n",
       "    <tr>\n",
       "      <th>1022</th>\n",
       "      <td>31</td>\n",
       "      <td>5.0</td>\n",
       "      <td>881547814</td>\n",
       "    </tr>\n",
       "    <tr>\n",
       "      <th>1019</th>\n",
       "      <td>31</td>\n",
       "      <td>5.0</td>\n",
       "      <td>881548082</td>\n",
       "    </tr>\n",
       "    <tr>\n",
       "      <th>611</th>\n",
       "      <td>31</td>\n",
       "      <td>4.0</td>\n",
       "      <td>881548111</td>\n",
       "    </tr>\n",
       "    <tr>\n",
       "      <th>192</th>\n",
       "      <td>31</td>\n",
       "      <td>4.0</td>\n",
       "      <td>881548054</td>\n",
       "    </tr>\n",
       "  </tbody>\n",
       "</table>\n",
       "<p>36 rows × 3 columns</p>\n",
       "</div>"
      ],
      "text/plain": [
       "      user  rating  timestamp\n",
       "item                         \n",
       "886     31     2.0  881547877\n",
       "484     31     5.0  881548030\n",
       "682     31     2.0  881547834\n",
       "302     31     4.0  881547719\n",
       "135     31     4.0  881548030\n",
       "...    ...     ...        ...\n",
       "519     31     4.0  881548053\n",
       "1022    31     5.0  881547814\n",
       "1019    31     5.0  881548082\n",
       "611     31     4.0  881548111\n",
       "192     31     4.0  881548054\n",
       "\n",
       "[36 rows x 3 columns]"
      ]
     },
     "execution_count": 13,
     "metadata": {},
     "output_type": "execute_result"
    }
   ],
   "source": [
    "ratings.loc[(ratings['user'] == 31)].set_index('item')"
   ]
  },
  {
   "cell_type": "markdown",
   "id": "material-publication",
   "metadata": {},
   "source": [
    "## User-User Collaborative Filtering Algorithm\n",
    "\n",
    "The goal of the user-user cosin approach is so that the model can be updated at each iteration, rather than retraining the entire mode. This will save computational cost and allow for the dynamics experiments to run much quicker"
   ]
  },
  {
   "cell_type": "markdown",
   "id": "usual-complexity",
   "metadata": {},
   "source": [
    "### Testing out the Scikit-learn Cosin Similarity function with Dummy Data"
   ]
  },
  {
   "cell_type": "code",
   "execution_count": 14,
   "id": "prospective-pursuit",
   "metadata": {},
   "outputs": [
    {
     "name": "stdout",
     "output_type": "stream",
     "text": [
      "[[0 1 0 0 1]\n",
      " [0 0 1 1 1]\n",
      " [1 1 0 1 0]]\n"
     ]
    }
   ],
   "source": [
    "A =  np.array([[0, 1, 0, 0, 1], [0, 0, 1, 1, 1],[1, 1, 0, 1, 0]])\n",
    "print(A)"
   ]
  },
  {
   "cell_type": "code",
   "execution_count": 15,
   "id": "assigned-engine",
   "metadata": {},
   "outputs": [
    {
     "data": {
      "text/plain": [
       "array([[0, 1, 0, 0, 1]])"
      ]
     },
     "execution_count": 15,
     "metadata": {},
     "output_type": "execute_result"
    }
   ],
   "source": [
    "A[0].reshape(1,-1)"
   ]
  },
  {
   "cell_type": "code",
   "execution_count": 16,
   "id": "behind-brass",
   "metadata": {},
   "outputs": [
    {
     "data": {
      "text/plain": [
       "array([[0, 0, 1, 1, 1]])"
      ]
     },
     "execution_count": 16,
     "metadata": {},
     "output_type": "execute_result"
    }
   ],
   "source": [
    "A[1].reshape(1,-1)"
   ]
  },
  {
   "cell_type": "code",
   "execution_count": 17,
   "id": "dried-horror",
   "metadata": {},
   "outputs": [
    {
     "data": {
      "text/plain": [
       "array([[0.40824829]])"
      ]
     },
     "execution_count": 17,
     "metadata": {},
     "output_type": "execute_result"
    }
   ],
   "source": [
    "similarities = cosine_similarity(A[0].reshape(1,-1), A[1].reshape(1,-1))\n",
    "similarities"
   ]
  },
  {
   "cell_type": "markdown",
   "id": "according-provider",
   "metadata": {},
   "source": [
    "### Testing out the Scikit-learn Cosin Similarity function with ML100K"
   ]
  },
  {
   "cell_type": "code",
   "execution_count": 41,
   "id": "gross-beijing",
   "metadata": {},
   "outputs": [
    {
     "name": "stdout",
     "output_type": "stream",
     "text": [
      "CPU times: user 244 µs, sys: 1.9 ms, total: 2.14 ms\n",
      "Wall time: 1.68 ms\n"
     ]
    }
   ],
   "source": [
    "%%time\n",
    "user1_ratings = ratings[ratings['user'].values == 99].set_index('item')\n",
    "user2_ratings = ratings[ratings['user'].values == 100].set_index('item')"
   ]
  },
  {
   "cell_type": "code",
   "execution_count": 42,
   "id": "mental-threshold",
   "metadata": {},
   "outputs": [
    {
     "data": {
      "text/plain": [
       "array([   4,  268,   79,  111, 1016,  873,  403,  246,  274,   50,  354,\n",
       "        742,  181,  182,  597,  410,  168,  204,  895,  508,  546,  682,\n",
       "        124,  421,  741, 1052,  118,  203, 1119,  346,  258,  123,  196,\n",
       "        232,   11,  963,  685,    7,   56,  363,  237,  369,  676, 1067,\n",
       "        100,  322,  331,  312,  245,   69,  265,  926,   12,  255,    3,\n",
       "        871,  288,  827,  402,  107,   66,  762,  628,  328,  413,  694,\n",
       "        409,  748,  978,  406,  472,  273,  338,  815,   28,   64,  342,\n",
       "         92,  751,  829,  275,  619,  315,  125,  845,  358,  345,  201,\n",
       "        121,  475,   22,  300,  471,  405,  456,  238,    1,  595,  117,\n",
       "        367,  763,   25,  591,  332,  240, 1079, 1132,  975,  173,  210,\n",
       "        105,  313,  147,  931,  651,  120,  282,  290,  780,  116, 1048,\n",
       "        310,  172,  326,  678,  276,  789,   98,  294,  544,  174,  329,\n",
       "       1047,  473,  433,  348])"
      ]
     },
     "execution_count": 42,
     "metadata": {},
     "output_type": "execute_result"
    }
   ],
   "source": [
    "user1_ratings.index.values"
   ]
  },
  {
   "cell_type": "code",
   "execution_count": 43,
   "id": "simplified-nitrogen",
   "metadata": {},
   "outputs": [
    {
     "data": {
      "text/plain": [
       "array([ 344,  354,  268,  321,  355,  750,  266,  288,  302,  340,  689,\n",
       "        905,  289,  691,  316, 1236,  342,  990,  333,  752,  323,  348,\n",
       "        313,  292, 1238,  879,  300,  328, 1235, 1237,  678,  286,  908,\n",
       "        690,  874,  880,  349,  310,  347, 1234,  270, 1233,  326,  269,\n",
       "        258,  900,  886,  294,  272,  881,  895,  892,  887,  885,  346,\n",
       "        751,  271,  898,  315])"
      ]
     },
     "execution_count": 43,
     "metadata": {},
     "output_type": "execute_result"
    }
   ],
   "source": [
    "user2_ratings.index.values"
   ]
  },
  {
   "cell_type": "code",
   "execution_count": 93,
   "id": "brazilian-circus",
   "metadata": {
    "scrolled": false
   },
   "outputs": [
    {
     "name": "stdout",
     "output_type": "stream",
     "text": [
      "967 µs ± 8.01 µs per loop (mean ± std. dev. of 7 runs, 1000 loops each)\n"
     ]
    }
   ],
   "source": [
    "%%timeit\n",
    "merge = pd.merge(user1_ratings, user2_ratings, how=\"inner\", left_index=True, right_index=True)"
   ]
  },
  {
   "cell_type": "code",
   "execution_count": 94,
   "id": "departmental-thursday",
   "metadata": {},
   "outputs": [
    {
     "name": "stdout",
     "output_type": "stream",
     "text": [
      "1.22 ms ± 11.2 µs per loop (mean ± std. dev. of 7 runs, 1000 loops each)\n"
     ]
    }
   ],
   "source": [
    "%%timeit\n",
    "df2 = user2_ratings[user2_ratings.index.isin(user1_ratings.index)]\n",
    "user1_ratings.merge(df2, left_index=True, right_index=True)"
   ]
  },
  {
   "cell_type": "code",
   "execution_count": 95,
   "id": "breathing-constitutional",
   "metadata": {},
   "outputs": [
    {
     "name": "stdout",
     "output_type": "stream",
     "text": [
      "941 µs ± 19.6 µs per loop (mean ± std. dev. of 7 runs, 1000 loops each)\n"
     ]
    }
   ],
   "source": [
    "%%timeit\n",
    "user2_ratings.join(user1_ratings, how=\"inner\", lsuffix='rating', rsuffix='rating')"
   ]
  },
  {
   "cell_type": "code",
   "execution_count": 98,
   "id": "dress-variety",
   "metadata": {},
   "outputs": [
    {
     "data": {
      "text/html": [
       "<div>\n",
       "<style scoped>\n",
       "    .dataframe tbody tr th:only-of-type {\n",
       "        vertical-align: middle;\n",
       "    }\n",
       "\n",
       "    .dataframe tbody tr th {\n",
       "        vertical-align: top;\n",
       "    }\n",
       "\n",
       "    .dataframe thead th {\n",
       "        text-align: right;\n",
       "    }\n",
       "</style>\n",
       "<table border=\"1\" class=\"dataframe\">\n",
       "  <thead>\n",
       "    <tr style=\"text-align: right;\">\n",
       "      <th></th>\n",
       "      <th>user_x</th>\n",
       "      <th>rating_x</th>\n",
       "      <th>timestamp_x</th>\n",
       "      <th>user_y</th>\n",
       "      <th>rating_y</th>\n",
       "      <th>timestamp_y</th>\n",
       "    </tr>\n",
       "    <tr>\n",
       "      <th>item</th>\n",
       "      <th></th>\n",
       "      <th></th>\n",
       "      <th></th>\n",
       "      <th></th>\n",
       "      <th></th>\n",
       "      <th></th>\n",
       "    </tr>\n",
       "  </thead>\n",
       "  <tbody>\n",
       "    <tr>\n",
       "      <th>354</th>\n",
       "      <td>100</td>\n",
       "      <td>2.0</td>\n",
       "      <td>891375260</td>\n",
       "      <td>99</td>\n",
       "      <td>2.0</td>\n",
       "      <td>888469332</td>\n",
       "    </tr>\n",
       "    <tr>\n",
       "      <th>268</th>\n",
       "      <td>100</td>\n",
       "      <td>3.0</td>\n",
       "      <td>891374982</td>\n",
       "      <td>99</td>\n",
       "      <td>3.0</td>\n",
       "      <td>885678247</td>\n",
       "    </tr>\n",
       "    <tr>\n",
       "      <th>288</th>\n",
       "      <td>100</td>\n",
       "      <td>2.0</td>\n",
       "      <td>891374603</td>\n",
       "      <td>99</td>\n",
       "      <td>4.0</td>\n",
       "      <td>885678247</td>\n",
       "    </tr>\n",
       "    <tr>\n",
       "      <th>342</th>\n",
       "      <td>100</td>\n",
       "      <td>3.0</td>\n",
       "      <td>891375454</td>\n",
       "      <td>99</td>\n",
       "      <td>1.0</td>\n",
       "      <td>885678348</td>\n",
       "    </tr>\n",
       "    <tr>\n",
       "      <th>348</th>\n",
       "      <td>100</td>\n",
       "      <td>3.0</td>\n",
       "      <td>891375630</td>\n",
       "      <td>99</td>\n",
       "      <td>4.0</td>\n",
       "      <td>886518562</td>\n",
       "    </tr>\n",
       "    <tr>\n",
       "      <th>313</th>\n",
       "      <td>100</td>\n",
       "      <td>5.0</td>\n",
       "      <td>891374706</td>\n",
       "      <td>99</td>\n",
       "      <td>5.0</td>\n",
       "      <td>885678348</td>\n",
       "    </tr>\n",
       "    <tr>\n",
       "      <th>300</th>\n",
       "      <td>100</td>\n",
       "      <td>4.0</td>\n",
       "      <td>891375112</td>\n",
       "      <td>99</td>\n",
       "      <td>4.0</td>\n",
       "      <td>885678397</td>\n",
       "    </tr>\n",
       "    <tr>\n",
       "      <th>328</th>\n",
       "      <td>100</td>\n",
       "      <td>4.0</td>\n",
       "      <td>891375212</td>\n",
       "      <td>99</td>\n",
       "      <td>4.0</td>\n",
       "      <td>885678696</td>\n",
       "    </tr>\n",
       "    <tr>\n",
       "      <th>678</th>\n",
       "      <td>100</td>\n",
       "      <td>3.0</td>\n",
       "      <td>891375428</td>\n",
       "      <td>99</td>\n",
       "      <td>2.0</td>\n",
       "      <td>885678479</td>\n",
       "    </tr>\n",
       "    <tr>\n",
       "      <th>310</th>\n",
       "      <td>100</td>\n",
       "      <td>3.0</td>\n",
       "      <td>891375522</td>\n",
       "      <td>99</td>\n",
       "      <td>3.0</td>\n",
       "      <td>885678348</td>\n",
       "    </tr>\n",
       "    <tr>\n",
       "      <th>326</th>\n",
       "      <td>100</td>\n",
       "      <td>3.0</td>\n",
       "      <td>891375630</td>\n",
       "      <td>99</td>\n",
       "      <td>3.0</td>\n",
       "      <td>885678267</td>\n",
       "    </tr>\n",
       "    <tr>\n",
       "      <th>258</th>\n",
       "      <td>100</td>\n",
       "      <td>4.0</td>\n",
       "      <td>891374675</td>\n",
       "      <td>99</td>\n",
       "      <td>5.0</td>\n",
       "      <td>885678696</td>\n",
       "    </tr>\n",
       "    <tr>\n",
       "      <th>294</th>\n",
       "      <td>100</td>\n",
       "      <td>4.0</td>\n",
       "      <td>891375313</td>\n",
       "      <td>99</td>\n",
       "      <td>4.0</td>\n",
       "      <td>885678453</td>\n",
       "    </tr>\n",
       "    <tr>\n",
       "      <th>895</th>\n",
       "      <td>100</td>\n",
       "      <td>2.0</td>\n",
       "      <td>891375212</td>\n",
       "      <td>99</td>\n",
       "      <td>3.0</td>\n",
       "      <td>885678304</td>\n",
       "    </tr>\n",
       "    <tr>\n",
       "      <th>346</th>\n",
       "      <td>100</td>\n",
       "      <td>3.0</td>\n",
       "      <td>891375630</td>\n",
       "      <td>99</td>\n",
       "      <td>4.0</td>\n",
       "      <td>885678415</td>\n",
       "    </tr>\n",
       "    <tr>\n",
       "      <th>751</th>\n",
       "      <td>100</td>\n",
       "      <td>4.0</td>\n",
       "      <td>891374868</td>\n",
       "      <td>99</td>\n",
       "      <td>4.0</td>\n",
       "      <td>885678397</td>\n",
       "    </tr>\n",
       "    <tr>\n",
       "      <th>315</th>\n",
       "      <td>100</td>\n",
       "      <td>5.0</td>\n",
       "      <td>891375557</td>\n",
       "      <td>99</td>\n",
       "      <td>4.0</td>\n",
       "      <td>885678479</td>\n",
       "    </tr>\n",
       "  </tbody>\n",
       "</table>\n",
       "</div>"
      ],
      "text/plain": [
       "      user_x  rating_x  timestamp_x  user_y  rating_y  timestamp_y\n",
       "item                                                              \n",
       "354      100       2.0    891375260      99       2.0    888469332\n",
       "268      100       3.0    891374982      99       3.0    885678247\n",
       "288      100       2.0    891374603      99       4.0    885678247\n",
       "342      100       3.0    891375454      99       1.0    885678348\n",
       "348      100       3.0    891375630      99       4.0    886518562\n",
       "313      100       5.0    891374706      99       5.0    885678348\n",
       "300      100       4.0    891375112      99       4.0    885678397\n",
       "328      100       4.0    891375212      99       4.0    885678696\n",
       "678      100       3.0    891375428      99       2.0    885678479\n",
       "310      100       3.0    891375522      99       3.0    885678348\n",
       "326      100       3.0    891375630      99       3.0    885678267\n",
       "258      100       4.0    891374675      99       5.0    885678696\n",
       "294      100       4.0    891375313      99       4.0    885678453\n",
       "895      100       2.0    891375212      99       3.0    885678304\n",
       "346      100       3.0    891375630      99       4.0    885678415\n",
       "751      100       4.0    891374868      99       4.0    885678397\n",
       "315      100       5.0    891375557      99       4.0    885678479"
      ]
     },
     "execution_count": 98,
     "metadata": {},
     "output_type": "execute_result"
    }
   ],
   "source": [
    "user2_ratings.join(user1_ratings, how=\"inner\", lsuffix='_x', rsuffix='_y')"
   ]
  },
  {
   "cell_type": "markdown",
   "id": "helpful-louisiana",
   "metadata": {},
   "source": [
    "#### In ndarray representation"
   ]
  },
  {
   "cell_type": "code",
   "execution_count": 23,
   "id": "civilian-aspect",
   "metadata": {
    "scrolled": true
   },
   "outputs": [
    {
     "name": "stdout",
     "output_type": "stream",
     "text": [
      "CPU times: user 624 µs, sys: 184 µs, total: 808 µs\n",
      "Wall time: 797 µs\n"
     ]
    },
    {
     "data": {
      "text/plain": [
       "array([[0.96814626]], dtype=float32)"
      ]
     },
     "execution_count": 23,
     "metadata": {},
     "output_type": "execute_result"
    }
   ],
   "source": [
    "%%time\n",
    "similarities = cosine_similarity(np.array(merge['rating_x']).reshape(1,-1), np.array(merge['rating_y']).reshape(1,-1))\n",
    "similarities"
   ]
  },
  {
   "cell_type": "markdown",
   "id": "chicken-imaging",
   "metadata": {},
   "source": [
    "### Building the CosinSimilarity Class"
   ]
  },
  {
   "cell_type": "code",
   "execution_count": 132,
   "id": "mental-trader",
   "metadata": {},
   "outputs": [],
   "source": [
    "class CosinSimilarity(Recommender, Predictor):\n",
    "    \"\"\"\n",
    "    Recommend new items by finding users that are the most similar to the given users using the cosin distance formula\n",
    "    \n",
    "    Args:\n",
    "        selector(CandidateSelector):\n",
    "            The candidate selector to use. If ``None``, uses a new\n",
    "            :class:`UnratedItemCandidateSelector`.\n",
    "\n",
    "    \"\"\"\n",
    "    def __init__(self, num_users, selector = None):\n",
    "        \n",
    "        ## Set selector\n",
    "        if selector is None:\n",
    "            self.selector = basic.UnratedItemCandidateSelector()\n",
    "        else:\n",
    "            self.selector = selector\n",
    "        \n",
    "        ## Set number of users in original matrix\n",
    "        self.num_users = num_users\n",
    "        \n",
    "        ## Instantiate sparse matrix with diagonal\n",
    "        self.sim_matrix = sparse.eye(num_users)\n",
    "        \n",
    "        ## Convert diagonal to lil\n",
    "        self.sim_matrix = self.sim_matrix.tolil()\n",
    "        \n",
    "    ## Input the ratings matrix\n",
    "    def fit(self, ratings, **kwargs):\n",
    "        \n",
    "        # Store each user's rating df in dictionary for quick lookup\n",
    "        self.df_dict = {}\n",
    "        for i in range(1, self.num_users+1):\n",
    "            self.df_dict[i] = ratings[ratings['user'].values == i].set_index('item')\n",
    "            self.df_dict[i].sort_index(inplace=True)\n",
    "        \n",
    "        # Populate sparse matrix for all users with cos sim\n",
    "        for i in range(1, self.num_users+1):\n",
    "            for j in range (i+1, self.num_users+1):\n",
    "                user_x = self.df_dict[i]\n",
    "                user_y = self.df_dict[j]\n",
    "\n",
    "                ## METHOD1: using inner join (marginally faster)\n",
    "                merge = user_y.join(user_x, how=\"inner\", lsuffix='_x', rsuffix='_y')\n",
    "                    \n",
    "                ## METHOD2: using inner merge (marginally slower)\n",
    "                # merge = pd.merge(user_x, user_y, how=\"inner\", left_index=True, right_index=True)\n",
    "\n",
    "                if (len(merge) > 5):\n",
    "                    similarity = cosine_similarity(np.array(merge['rating_x']).reshape(1,-1), np.array(merge['rating_y']).reshape(1,-1))\n",
    "                    self.sim_matrix[i-1, j-1] = similarity\n",
    "                else:\n",
    "                    self.sim_matrix[i-1, j-1] = 0\n",
    "        \n",
    "        # Reduce candidate space to unseen items\n",
    "        self.selector.fit(ratings)\n",
    "    \n",
    "    ## Provide a recommendation of top \"n\" movies given \"user\"\n",
    "    ## The recommender uses the UnratedItemCandidateSelector by default and uses the ratings matrix \n",
    "    ## it was originally fit on\n",
    "    def recommend(self, user, n=None, candidates=None, ratings=None):\n",
    "        \n",
    "        # Obtain reduced candidate space\n",
    "        if candidates is None:\n",
    "            candidates = self.selector.candidates(user, ratings)   \n",
    "        \n",
    "        # Obtain predictions from reduced candidate space\n",
    "        predict_for_user(user, candidates, ratings)\n",
    "        \n",
    "        pass \n",
    "    \n",
    "    def predict_for_user(self, user, items, ratings=None):\n",
    "        pass\n",
    "    \n",
    "    def __str__(self):\n",
    "        return 'CosinSimilarity'"
   ]
  },
  {
   "cell_type": "code",
   "execution_count": 134,
   "id": "constitutional-decimal",
   "metadata": {},
   "outputs": [
    {
     "name": "stdout",
     "output_type": "stream",
     "text": [
      "array([[1.        , 0.96058202, 0.85707468, ..., 0.93851924, 0.87279063,\n",
      "        0.92135477],\n",
      "       [0.        , 1.        , 0.93560153, ..., 0.87504452, 0.91667771,\n",
      "        0.        ],\n",
      "       [0.        , 0.        , 1.        , ..., 0.        , 0.87682891,\n",
      "        0.89637583],\n",
      "       ...,\n",
      "       [0.        , 0.        , 0.        , ..., 1.        , 0.8188194 ,\n",
      "        0.        ],\n",
      "       [0.        , 0.        , 0.        , ..., 0.        , 1.        ,\n",
      "        0.89708692],\n",
      "       [0.        , 0.        , 0.        , ..., 0.        , 0.        ,\n",
      "        1.        ]])\n",
      "CPU times: user 1.47 s, sys: 7 µs, total: 1.47 s\n",
      "Wall time: 1.47 s\n"
     ]
    }
   ],
   "source": [
    "%%time\n",
    "# Instantiate object\n",
    "num_users = 50 # set to len(users)\n",
    "algo_cosin = CosinSimilarity(num_users)\n",
    "\n",
    "# Reduce the candidates space + build user-user cosin similarity matrix \n",
    "algo_cosin.fit(ratings)\n",
    "pp(algo_cosin.sim_matrix.toarray())"
   ]
  },
  {
   "cell_type": "markdown",
   "id": "swedish-holder",
   "metadata": {},
   "source": [
    "# References\n",
    "Relevant references:\n",
    "1. https://realpython.com/build-recommendation-engine-collaborative-filtering/\n",
    "1. https://lkpy.readthedocs.io/en/stable/GettingStarted.html#\n",
    "1. https://github.com/lenskit/lkpy/tree/main/lenskit/algorithms\n",
    "1. https://link.springer.com/book/10.1007%2F978-3-319-29659-3"
   ]
  },
  {
   "cell_type": "code",
   "execution_count": null,
   "id": "obvious-wallace",
   "metadata": {},
   "outputs": [],
   "source": []
  }
 ],
 "metadata": {
  "kernelspec": {
   "display_name": "Python 3",
   "language": "python",
   "name": "python3"
  },
  "language_info": {
   "codemirror_mode": {
    "name": "ipython",
    "version": 3
   },
   "file_extension": ".py",
   "mimetype": "text/x-python",
   "name": "python",
   "nbconvert_exporter": "python",
   "pygments_lexer": "ipython3",
   "version": "3.8.5"
  }
 },
 "nbformat": 4,
 "nbformat_minor": 5
}
