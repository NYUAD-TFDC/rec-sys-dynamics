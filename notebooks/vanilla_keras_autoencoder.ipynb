{
 "cells": [
  {
   "cell_type": "markdown",
   "id": "chinese-tattoo",
   "metadata": {},
   "source": [
    "# Collaborative Filtering Recommender System based on \"Deep\" Autoencoders\n",
    "\n",
    "### Purpose\n",
    "To test a vanilla \"deep\" autoencoder model based off of collaborative filtering using Keras and Tensorflow\n",
    "\n",
    "### Methodology\n",
    "This notebook assumes that the model will receive a pre-processed dataset of user-item interactions. For simplification purposes, it uses the [small movielens dataset](https://surprise.readthedocs.io/en/stable/dataset.html)\n",
    "\n",
    "### Author Information\n",
    "Nishant Aswani (@niniack)\n"
   ]
  },
  {
   "cell_type": "markdown",
   "id": "speaking-track",
   "metadata": {},
   "source": [
    "# Setup\n",
    "\n",
    "## Library import\n",
    "We import all the required Python libraries"
   ]
  },
  {
   "cell_type": "code",
   "execution_count": 1,
   "id": "valid-surge",
   "metadata": {},
   "outputs": [],
   "source": [
    "# Data manipulation\n",
    "import pandas as pd\n",
    "import numpy as np\n",
    "from lenskit import batch, topn, util\n",
    "from lenskit import crossfold as xf\n",
    "from lenskit.algorithms import Recommender, Predictor, als, basic, user_knn\n",
    "from lenskit import topn\n",
    "from scipy import sparse\n",
    "from lenskit.data import sparse_ratings\n",
    "\n",
    "# Dataset\n",
    "from lenskit.datasets import ML100K, ML1M\n",
    "\n",
    "# Options for pandas\n",
    "pd.options.display.max_columns = 50\n",
    "pd.options.display.max_rows = 30\n",
    "\n",
    "# Visualizations and debugging\n",
    "import plotly.graph_objs as go\n",
    "from pprintpp import pprint as pp\n",
    "import logging\n",
    "\n",
    "# Tensorflow\n",
    "from tensorflow.keras.optimizers import Adam, RMSprop\n",
    "from tensorflow.keras.layers import Input, Dense, Embedding, Flatten, Dropout, Activation\n",
    "from tensorflow.keras.callbacks import ModelCheckpoint, EarlyStopping\n",
    "from tensorflow.keras.models import Model\n",
    "import tensorflow.keras.backend as K\n",
    "from sklearn.model_selection import train_test_split\n",
    "from sklearn.preprocessing import LabelEncoder\n",
    "\n",
    "# Autoreload extension\n",
    "if 'autoreload' not in get_ipython().extension_manager.loaded:\n",
    "    %load_ext autoreload\n",
    "    \n",
    "%autoreload 2"
   ]
  },
  {
   "cell_type": "markdown",
   "id": "alleged-diving",
   "metadata": {},
   "source": [
    "### Downloading ML100K Dataset"
   ]
  },
  {
   "cell_type": "code",
   "execution_count": 2,
   "id": "annoying-recipient",
   "metadata": {},
   "outputs": [],
   "source": [
    "# %%!\n",
    "# wget -q -O ml-100k.zip http://files.grouplens.org/datasets/movielens/ml-100k.zip\n",
    "\n",
    "## This unzip method may not work!\n",
    "# unzip -f ml-100k.zip"
   ]
  },
  {
   "cell_type": "markdown",
   "id": "dutch-fields",
   "metadata": {},
   "source": [
    "### Data Exploration\n",
    "\n",
    "The lenskit ML100K dataset provides the following: movies, ratings, users"
   ]
  },
  {
   "cell_type": "code",
   "execution_count": 3,
   "id": "exciting-groove",
   "metadata": {},
   "outputs": [],
   "source": [
    "movielens = ML100K('../ml-100k')"
   ]
  },
  {
   "cell_type": "code",
   "execution_count": 4,
   "id": "unusual-thomson",
   "metadata": {},
   "outputs": [
    {
     "data": {
      "text/html": [
       "<div>\n",
       "<style scoped>\n",
       "    .dataframe tbody tr th:only-of-type {\n",
       "        vertical-align: middle;\n",
       "    }\n",
       "\n",
       "    .dataframe tbody tr th {\n",
       "        vertical-align: top;\n",
       "    }\n",
       "\n",
       "    .dataframe thead th {\n",
       "        text-align: right;\n",
       "    }\n",
       "</style>\n",
       "<table border=\"1\" class=\"dataframe\">\n",
       "  <thead>\n",
       "    <tr style=\"text-align: right;\">\n",
       "      <th></th>\n",
       "      <th>user</th>\n",
       "      <th>item</th>\n",
       "      <th>rating</th>\n",
       "      <th>timestamp</th>\n",
       "    </tr>\n",
       "  </thead>\n",
       "  <tbody>\n",
       "    <tr>\n",
       "      <th>0</th>\n",
       "      <td>196</td>\n",
       "      <td>242</td>\n",
       "      <td>3.0</td>\n",
       "      <td>881250949</td>\n",
       "    </tr>\n",
       "    <tr>\n",
       "      <th>1</th>\n",
       "      <td>186</td>\n",
       "      <td>302</td>\n",
       "      <td>3.0</td>\n",
       "      <td>891717742</td>\n",
       "    </tr>\n",
       "    <tr>\n",
       "      <th>2</th>\n",
       "      <td>22</td>\n",
       "      <td>377</td>\n",
       "      <td>1.0</td>\n",
       "      <td>878887116</td>\n",
       "    </tr>\n",
       "    <tr>\n",
       "      <th>3</th>\n",
       "      <td>244</td>\n",
       "      <td>51</td>\n",
       "      <td>2.0</td>\n",
       "      <td>880606923</td>\n",
       "    </tr>\n",
       "    <tr>\n",
       "      <th>4</th>\n",
       "      <td>166</td>\n",
       "      <td>346</td>\n",
       "      <td>1.0</td>\n",
       "      <td>886397596</td>\n",
       "    </tr>\n",
       "  </tbody>\n",
       "</table>\n",
       "</div>"
      ],
      "text/plain": [
       "   user  item  rating  timestamp\n",
       "0   196   242     3.0  881250949\n",
       "1   186   302     3.0  891717742\n",
       "2    22   377     1.0  878887116\n",
       "3   244    51     2.0  880606923\n",
       "4   166   346     1.0  886397596"
      ]
     },
     "execution_count": 4,
     "metadata": {},
     "output_type": "execute_result"
    }
   ],
   "source": [
    "ratings = movielens.ratings\n",
    "ratings.head()"
   ]
  },
  {
   "cell_type": "code",
   "execution_count": 5,
   "id": "actual-council",
   "metadata": {},
   "outputs": [
    {
     "data": {
      "text/plain": [
       "100000"
      ]
     },
     "execution_count": 5,
     "metadata": {},
     "output_type": "execute_result"
    }
   ],
   "source": [
    "len(ratings)"
   ]
  },
  {
   "cell_type": "code",
   "execution_count": 6,
   "id": "united-thousand",
   "metadata": {},
   "outputs": [
    {
     "data": {
      "text/html": [
       "<div>\n",
       "<style scoped>\n",
       "    .dataframe tbody tr th:only-of-type {\n",
       "        vertical-align: middle;\n",
       "    }\n",
       "\n",
       "    .dataframe tbody tr th {\n",
       "        vertical-align: top;\n",
       "    }\n",
       "\n",
       "    .dataframe thead th {\n",
       "        text-align: right;\n",
       "    }\n",
       "</style>\n",
       "<table border=\"1\" class=\"dataframe\">\n",
       "  <thead>\n",
       "    <tr style=\"text-align: right;\">\n",
       "      <th></th>\n",
       "      <th>age</th>\n",
       "      <th>gender</th>\n",
       "      <th>occupation</th>\n",
       "      <th>zip</th>\n",
       "    </tr>\n",
       "    <tr>\n",
       "      <th>user</th>\n",
       "      <th></th>\n",
       "      <th></th>\n",
       "      <th></th>\n",
       "      <th></th>\n",
       "    </tr>\n",
       "  </thead>\n",
       "  <tbody>\n",
       "    <tr>\n",
       "      <th>1</th>\n",
       "      <td>24</td>\n",
       "      <td>M</td>\n",
       "      <td>technician</td>\n",
       "      <td>85711</td>\n",
       "    </tr>\n",
       "    <tr>\n",
       "      <th>2</th>\n",
       "      <td>53</td>\n",
       "      <td>F</td>\n",
       "      <td>other</td>\n",
       "      <td>94043</td>\n",
       "    </tr>\n",
       "    <tr>\n",
       "      <th>3</th>\n",
       "      <td>23</td>\n",
       "      <td>M</td>\n",
       "      <td>writer</td>\n",
       "      <td>32067</td>\n",
       "    </tr>\n",
       "    <tr>\n",
       "      <th>4</th>\n",
       "      <td>24</td>\n",
       "      <td>M</td>\n",
       "      <td>technician</td>\n",
       "      <td>43537</td>\n",
       "    </tr>\n",
       "    <tr>\n",
       "      <th>5</th>\n",
       "      <td>33</td>\n",
       "      <td>F</td>\n",
       "      <td>other</td>\n",
       "      <td>15213</td>\n",
       "    </tr>\n",
       "  </tbody>\n",
       "</table>\n",
       "</div>"
      ],
      "text/plain": [
       "      age gender  occupation    zip\n",
       "user                               \n",
       "1      24      M  technician  85711\n",
       "2      53      F       other  94043\n",
       "3      23      M      writer  32067\n",
       "4      24      M  technician  43537\n",
       "5      33      F       other  15213"
      ]
     },
     "execution_count": 6,
     "metadata": {},
     "output_type": "execute_result"
    }
   ],
   "source": [
    "users = movielens.users\n",
    "users.head()"
   ]
  },
  {
   "cell_type": "code",
   "execution_count": 7,
   "id": "brown-fossil",
   "metadata": {},
   "outputs": [
    {
     "data": {
      "text/plain": [
       "943"
      ]
     },
     "execution_count": 7,
     "metadata": {},
     "output_type": "execute_result"
    }
   ],
   "source": [
    "len(users)"
   ]
  },
  {
   "cell_type": "code",
   "execution_count": 8,
   "id": "received-polymer",
   "metadata": {},
   "outputs": [
    {
     "data": {
      "text/html": [
       "<div>\n",
       "<style scoped>\n",
       "    .dataframe tbody tr th:only-of-type {\n",
       "        vertical-align: middle;\n",
       "    }\n",
       "\n",
       "    .dataframe tbody tr th {\n",
       "        vertical-align: top;\n",
       "    }\n",
       "\n",
       "    .dataframe thead th {\n",
       "        text-align: right;\n",
       "    }\n",
       "</style>\n",
       "<table border=\"1\" class=\"dataframe\">\n",
       "  <thead>\n",
       "    <tr style=\"text-align: right;\">\n",
       "      <th></th>\n",
       "      <th>title</th>\n",
       "      <th>release</th>\n",
       "      <th>vidrelease</th>\n",
       "      <th>imdb</th>\n",
       "      <th>unknown</th>\n",
       "      <th>Action</th>\n",
       "      <th>Adventure</th>\n",
       "      <th>Animation</th>\n",
       "      <th>Children's</th>\n",
       "      <th>Comedy</th>\n",
       "      <th>Crime</th>\n",
       "      <th>Documentary</th>\n",
       "      <th>Drama</th>\n",
       "      <th>Fantasy</th>\n",
       "      <th>Film-Noir</th>\n",
       "      <th>Horror</th>\n",
       "      <th>Musical</th>\n",
       "      <th>Mystery</th>\n",
       "      <th>Romance</th>\n",
       "      <th>Sci-Fi</th>\n",
       "      <th>Thriller</th>\n",
       "      <th>War</th>\n",
       "      <th>Western</th>\n",
       "    </tr>\n",
       "    <tr>\n",
       "      <th>item</th>\n",
       "      <th></th>\n",
       "      <th></th>\n",
       "      <th></th>\n",
       "      <th></th>\n",
       "      <th></th>\n",
       "      <th></th>\n",
       "      <th></th>\n",
       "      <th></th>\n",
       "      <th></th>\n",
       "      <th></th>\n",
       "      <th></th>\n",
       "      <th></th>\n",
       "      <th></th>\n",
       "      <th></th>\n",
       "      <th></th>\n",
       "      <th></th>\n",
       "      <th></th>\n",
       "      <th></th>\n",
       "      <th></th>\n",
       "      <th></th>\n",
       "      <th></th>\n",
       "      <th></th>\n",
       "      <th></th>\n",
       "    </tr>\n",
       "  </thead>\n",
       "  <tbody>\n",
       "    <tr>\n",
       "      <th>1</th>\n",
       "      <td>Toy Story (1995)</td>\n",
       "      <td>01-Jan-1995</td>\n",
       "      <td>NaN</td>\n",
       "      <td>http://us.imdb.com/M/title-exact?Toy%20Story%2...</td>\n",
       "      <td>0</td>\n",
       "      <td>0</td>\n",
       "      <td>0</td>\n",
       "      <td>1</td>\n",
       "      <td>1</td>\n",
       "      <td>1</td>\n",
       "      <td>0</td>\n",
       "      <td>0</td>\n",
       "      <td>0</td>\n",
       "      <td>0</td>\n",
       "      <td>0</td>\n",
       "      <td>0</td>\n",
       "      <td>0</td>\n",
       "      <td>0</td>\n",
       "      <td>0</td>\n",
       "      <td>0</td>\n",
       "      <td>0</td>\n",
       "      <td>0</td>\n",
       "      <td>0</td>\n",
       "    </tr>\n",
       "    <tr>\n",
       "      <th>2</th>\n",
       "      <td>GoldenEye (1995)</td>\n",
       "      <td>01-Jan-1995</td>\n",
       "      <td>NaN</td>\n",
       "      <td>http://us.imdb.com/M/title-exact?GoldenEye%20(...</td>\n",
       "      <td>0</td>\n",
       "      <td>1</td>\n",
       "      <td>1</td>\n",
       "      <td>0</td>\n",
       "      <td>0</td>\n",
       "      <td>0</td>\n",
       "      <td>0</td>\n",
       "      <td>0</td>\n",
       "      <td>0</td>\n",
       "      <td>0</td>\n",
       "      <td>0</td>\n",
       "      <td>0</td>\n",
       "      <td>0</td>\n",
       "      <td>0</td>\n",
       "      <td>0</td>\n",
       "      <td>0</td>\n",
       "      <td>1</td>\n",
       "      <td>0</td>\n",
       "      <td>0</td>\n",
       "    </tr>\n",
       "    <tr>\n",
       "      <th>3</th>\n",
       "      <td>Four Rooms (1995)</td>\n",
       "      <td>01-Jan-1995</td>\n",
       "      <td>NaN</td>\n",
       "      <td>http://us.imdb.com/M/title-exact?Four%20Rooms%...</td>\n",
       "      <td>0</td>\n",
       "      <td>0</td>\n",
       "      <td>0</td>\n",
       "      <td>0</td>\n",
       "      <td>0</td>\n",
       "      <td>0</td>\n",
       "      <td>0</td>\n",
       "      <td>0</td>\n",
       "      <td>0</td>\n",
       "      <td>0</td>\n",
       "      <td>0</td>\n",
       "      <td>0</td>\n",
       "      <td>0</td>\n",
       "      <td>0</td>\n",
       "      <td>0</td>\n",
       "      <td>0</td>\n",
       "      <td>1</td>\n",
       "      <td>0</td>\n",
       "      <td>0</td>\n",
       "    </tr>\n",
       "    <tr>\n",
       "      <th>4</th>\n",
       "      <td>Get Shorty (1995)</td>\n",
       "      <td>01-Jan-1995</td>\n",
       "      <td>NaN</td>\n",
       "      <td>http://us.imdb.com/M/title-exact?Get%20Shorty%...</td>\n",
       "      <td>0</td>\n",
       "      <td>1</td>\n",
       "      <td>0</td>\n",
       "      <td>0</td>\n",
       "      <td>0</td>\n",
       "      <td>1</td>\n",
       "      <td>0</td>\n",
       "      <td>0</td>\n",
       "      <td>1</td>\n",
       "      <td>0</td>\n",
       "      <td>0</td>\n",
       "      <td>0</td>\n",
       "      <td>0</td>\n",
       "      <td>0</td>\n",
       "      <td>0</td>\n",
       "      <td>0</td>\n",
       "      <td>0</td>\n",
       "      <td>0</td>\n",
       "      <td>0</td>\n",
       "    </tr>\n",
       "    <tr>\n",
       "      <th>5</th>\n",
       "      <td>Copycat (1995)</td>\n",
       "      <td>01-Jan-1995</td>\n",
       "      <td>NaN</td>\n",
       "      <td>http://us.imdb.com/M/title-exact?Copycat%20(1995)</td>\n",
       "      <td>0</td>\n",
       "      <td>0</td>\n",
       "      <td>0</td>\n",
       "      <td>0</td>\n",
       "      <td>0</td>\n",
       "      <td>0</td>\n",
       "      <td>1</td>\n",
       "      <td>0</td>\n",
       "      <td>1</td>\n",
       "      <td>0</td>\n",
       "      <td>0</td>\n",
       "      <td>0</td>\n",
       "      <td>0</td>\n",
       "      <td>0</td>\n",
       "      <td>0</td>\n",
       "      <td>0</td>\n",
       "      <td>1</td>\n",
       "      <td>0</td>\n",
       "      <td>0</td>\n",
       "    </tr>\n",
       "  </tbody>\n",
       "</table>\n",
       "</div>"
      ],
      "text/plain": [
       "                  title      release  vidrelease  \\\n",
       "item                                               \n",
       "1      Toy Story (1995)  01-Jan-1995         NaN   \n",
       "2      GoldenEye (1995)  01-Jan-1995         NaN   \n",
       "3     Four Rooms (1995)  01-Jan-1995         NaN   \n",
       "4     Get Shorty (1995)  01-Jan-1995         NaN   \n",
       "5        Copycat (1995)  01-Jan-1995         NaN   \n",
       "\n",
       "                                                   imdb  unknown  Action  \\\n",
       "item                                                                       \n",
       "1     http://us.imdb.com/M/title-exact?Toy%20Story%2...        0       0   \n",
       "2     http://us.imdb.com/M/title-exact?GoldenEye%20(...        0       1   \n",
       "3     http://us.imdb.com/M/title-exact?Four%20Rooms%...        0       0   \n",
       "4     http://us.imdb.com/M/title-exact?Get%20Shorty%...        0       1   \n",
       "5     http://us.imdb.com/M/title-exact?Copycat%20(1995)        0       0   \n",
       "\n",
       "      Adventure  Animation  Children's  Comedy  Crime  Documentary  Drama  \\\n",
       "item                                                                        \n",
       "1             0          1           1       1      0            0      0   \n",
       "2             1          0           0       0      0            0      0   \n",
       "3             0          0           0       0      0            0      0   \n",
       "4             0          0           0       1      0            0      1   \n",
       "5             0          0           0       0      1            0      1   \n",
       "\n",
       "      Fantasy  Film-Noir  Horror  Musical  Mystery  Romance  Sci-Fi  Thriller  \\\n",
       "item                                                                            \n",
       "1           0          0       0        0        0        0       0         0   \n",
       "2           0          0       0        0        0        0       0         1   \n",
       "3           0          0       0        0        0        0       0         1   \n",
       "4           0          0       0        0        0        0       0         0   \n",
       "5           0          0       0        0        0        0       0         1   \n",
       "\n",
       "      War  Western  \n",
       "item                \n",
       "1       0        0  \n",
       "2       0        0  \n",
       "3       0        0  \n",
       "4       0        0  \n",
       "5       0        0  "
      ]
     },
     "execution_count": 8,
     "metadata": {},
     "output_type": "execute_result"
    }
   ],
   "source": [
    "movies = movielens.movies\n",
    "movies.head()"
   ]
  },
  {
   "cell_type": "code",
   "execution_count": 9,
   "id": "floral-thinking",
   "metadata": {
    "scrolled": true
   },
   "outputs": [
    {
     "data": {
      "text/plain": [
       "1682"
      ]
     },
     "execution_count": 9,
     "metadata": {},
     "output_type": "execute_result"
    }
   ],
   "source": [
    "len(movies)"
   ]
  },
  {
   "cell_type": "markdown",
   "id": "palestinian-jurisdiction",
   "metadata": {},
   "source": [
    "# Building the Autoencoder\n"
   ]
  },
  {
   "cell_type": "code",
   "execution_count": 31,
   "id": "civilian-script",
   "metadata": {},
   "outputs": [],
   "source": [
    "class AutoEncoder():\n",
    "    \n",
    "    def build(self, matrix):\n",
    "                \n",
    "        encoder_input = Input(shape=(matrix.shape[1]), name='Input', dtype='int8')\n",
    "        encoder_latent_one = Dense(64, activation='selu', name='Encoder_Latent_One')(encoder_input)\n",
    "#         encoder_latent_two = Dense(256, activation='selu', name='Encoder_Latent_Two')(encoder_latent_one)\n",
    "        encoder_latent_three = Dense(32, activation='selu', name='Encoder_Latent_Three')(encoder_latent_one)\n",
    "\n",
    "        dropout = Dropout(0.35, name='Dropout')(encoder_latent_three)\n",
    "        \n",
    "#         decoder_latent_one = Dense(128, activation='selu', name='Decoder_Latent_One')(dropout)\n",
    "        decoder_latent_two = Dense(64, activation='selu', name='Decoder_Latent_Two')(dropout)\n",
    "        decoder_output = Dense(matrix.shape[1], activation='softmax', name='Output')(decoder_latent_two)\n",
    "\n",
    "        model = Model(encoder_input, decoder_output)\n",
    "        return model\n",
    "    "
   ]
  },
  {
   "cell_type": "code",
   "execution_count": 32,
   "id": "lucky-pavilion",
   "metadata": {},
   "outputs": [],
   "source": [
    "uir, _, _= sparse_ratings(ratings, scipy=True)"
   ]
  },
  {
   "cell_type": "code",
   "execution_count": 33,
   "id": "mental-politics",
   "metadata": {},
   "outputs": [],
   "source": [
    "def rmse(y_true, y_pred):\n",
    "    mask_true = K.cast(K.not_equal(y_true, 0), K.floatx())\n",
    "    masked_squared_error = mask_true * K.square((y_true - y_pred))\n",
    "    masked_mse = K.sum(masked_squared_error, axis=-1) / K.sum(mask_true, axis=-1)\n",
    "    return K.sqrt(masked_mse)"
   ]
  },
  {
   "cell_type": "code",
   "execution_count": 34,
   "id": "scenic-surface",
   "metadata": {},
   "outputs": [
    {
     "name": "stdout",
     "output_type": "stream",
     "text": [
      "Model: \"model_2\"\n",
      "_________________________________________________________________\n",
      "Layer (type)                 Output Shape              Param #   \n",
      "=================================================================\n",
      "Input (InputLayer)           [(None, 1682)]            0         \n",
      "_________________________________________________________________\n",
      "Encoder_Latent_One (Dense)   (None, 64)                107712    \n",
      "_________________________________________________________________\n",
      "Encoder_Latent_Three (Dense) (None, 32)                2080      \n",
      "_________________________________________________________________\n",
      "Dropout (Dropout)            (None, 32)                0         \n",
      "_________________________________________________________________\n",
      "Decoder_Latent_Two (Dense)   (None, 64)                2112      \n",
      "_________________________________________________________________\n",
      "Output (Dense)               (None, 1682)              109330    \n",
      "=================================================================\n",
      "Total params: 221,234\n",
      "Trainable params: 221,234\n",
      "Non-trainable params: 0\n",
      "_________________________________________________________________\n"
     ]
    }
   ],
   "source": [
    "model = AutoEncoder()\n",
    "model = model.build(uir)\n",
    "model.compile(optimizer = Adam(lr=0.001), loss=rmse, metrics=['accuracy'])\n",
    "model.summary()"
   ]
  },
  {
   "cell_type": "code",
   "execution_count": 35,
   "id": "spread-intervention",
   "metadata": {},
   "outputs": [],
   "source": [
    "X = uir.toarray()\n",
    "y = uir.toarray()\n",
    "X_train, X_test, y_train, y_test = train_test_split(X, y, test_size=0.1, random_state=42)"
   ]
  },
  {
   "cell_type": "code",
   "execution_count": 36,
   "id": "empirical-complexity",
   "metadata": {
    "scrolled": true
   },
   "outputs": [
    {
     "name": "stdout",
     "output_type": "stream",
     "text": [
      "Epoch 1/200\n",
      "22/22 [==============================] - 1s 11ms/step - loss: 3.7402 - accuracy: 0.0073 - val_loss: 3.7385 - val_accuracy: 0.0412\n",
      "Epoch 2/200\n",
      "22/22 [==============================] - 0s 6ms/step - loss: 3.7267 - accuracy: 0.0761 - val_loss: 3.7286 - val_accuracy: 0.1059\n",
      "Epoch 3/200\n",
      "22/22 [==============================] - 0s 6ms/step - loss: 3.7206 - accuracy: 0.0698 - val_loss: 3.7279 - val_accuracy: 0.1000\n",
      "Epoch 4/200\n",
      "22/22 [==============================] - 0s 6ms/step - loss: 3.7193 - accuracy: 0.0667 - val_loss: 3.7271 - val_accuracy: 0.0882\n",
      "Epoch 5/200\n",
      "22/22 [==============================] - 0s 6ms/step - loss: 3.7351 - accuracy: 0.0718 - val_loss: 3.7259 - val_accuracy: 0.0941\n",
      "Epoch 6/200\n",
      "22/22 [==============================] - 0s 6ms/step - loss: 3.7257 - accuracy: 0.0787 - val_loss: 3.7252 - val_accuracy: 0.0882\n",
      "Epoch 7/200\n",
      "22/22 [==============================] - 0s 6ms/step - loss: 3.7234 - accuracy: 0.0898 - val_loss: 3.7243 - val_accuracy: 0.0941\n",
      "Epoch 8/200\n",
      "22/22 [==============================] - 0s 6ms/step - loss: 3.7263 - accuracy: 0.0872 - val_loss: 3.7242 - val_accuracy: 0.0941\n",
      "Epoch 9/200\n",
      "22/22 [==============================] - 0s 6ms/step - loss: 3.7055 - accuracy: 0.0996 - val_loss: 3.7236 - val_accuracy: 0.1000\n",
      "Epoch 10/200\n",
      "22/22 [==============================] - 0s 6ms/step - loss: 3.7146 - accuracy: 0.0747 - val_loss: 3.7233 - val_accuracy: 0.1000\n",
      "Epoch 11/200\n",
      "22/22 [==============================] - 0s 6ms/step - loss: 3.7410 - accuracy: 0.1039 - val_loss: 3.7232 - val_accuracy: 0.0941\n",
      "Epoch 12/200\n",
      "22/22 [==============================] - 0s 6ms/step - loss: 3.7335 - accuracy: 0.0899 - val_loss: 3.7229 - val_accuracy: 0.1000\n",
      "Epoch 13/200\n",
      "22/22 [==============================] - 0s 5ms/step - loss: 3.7072 - accuracy: 0.1054 - val_loss: 3.7228 - val_accuracy: 0.1059\n",
      "Epoch 14/200\n",
      "22/22 [==============================] - 0s 6ms/step - loss: 3.7169 - accuracy: 0.1099 - val_loss: 3.7227 - val_accuracy: 0.1176\n",
      "Epoch 15/200\n",
      "22/22 [==============================] - 0s 6ms/step - loss: 3.7273 - accuracy: 0.1108 - val_loss: 3.7227 - val_accuracy: 0.1000\n",
      "Epoch 16/200\n",
      "22/22 [==============================] - 0s 6ms/step - loss: 3.7168 - accuracy: 0.0898 - val_loss: 3.7226 - val_accuracy: 0.1059\n",
      "Epoch 17/200\n",
      "22/22 [==============================] - 0s 5ms/step - loss: 3.7221 - accuracy: 0.1026 - val_loss: 3.7226 - val_accuracy: 0.1059\n",
      "Epoch 18/200\n",
      "22/22 [==============================] - 0s 5ms/step - loss: 3.7066 - accuracy: 0.0837 - val_loss: 3.7226 - val_accuracy: 0.1176\n",
      "Epoch 19/200\n",
      "22/22 [==============================] - 0s 5ms/step - loss: 3.7286 - accuracy: 0.1095 - val_loss: 3.7226 - val_accuracy: 0.1059\n",
      "Epoch 20/200\n",
      "22/22 [==============================] - 0s 6ms/step - loss: 3.7455 - accuracy: 0.1005 - val_loss: 3.7225 - val_accuracy: 0.1059\n",
      "Epoch 21/200\n",
      "22/22 [==============================] - 0s 6ms/step - loss: 3.7293 - accuracy: 0.1044 - val_loss: 3.7227 - val_accuracy: 0.1118\n",
      "Epoch 22/200\n",
      "22/22 [==============================] - 0s 6ms/step - loss: 3.7195 - accuracy: 0.1045 - val_loss: 3.7227 - val_accuracy: 0.1118\n",
      "Epoch 23/200\n",
      "22/22 [==============================] - 0s 6ms/step - loss: 3.7126 - accuracy: 0.0883 - val_loss: 3.7226 - val_accuracy: 0.1000\n",
      "Epoch 24/200\n",
      "22/22 [==============================] - 0s 6ms/step - loss: 3.7067 - accuracy: 0.1060 - val_loss: 3.7228 - val_accuracy: 0.1000\n",
      "Epoch 25/200\n",
      "22/22 [==============================] - 0s 6ms/step - loss: 3.7121 - accuracy: 0.1180 - val_loss: 3.7229 - val_accuracy: 0.1000\n",
      "Epoch 26/200\n",
      "22/22 [==============================] - 0s 6ms/step - loss: 3.7149 - accuracy: 0.0947 - val_loss: 3.7228 - val_accuracy: 0.1118\n",
      "Epoch 27/200\n",
      "22/22 [==============================] - 0s 5ms/step - loss: 3.6960 - accuracy: 0.1018 - val_loss: 3.7230 - val_accuracy: 0.0941\n",
      "Epoch 28/200\n",
      "22/22 [==============================] - 0s 6ms/step - loss: 3.7037 - accuracy: 0.1041 - val_loss: 3.7226 - val_accuracy: 0.1059\n",
      "Epoch 29/200\n",
      "22/22 [==============================] - 0s 6ms/step - loss: 3.7268 - accuracy: 0.0920 - val_loss: 3.7228 - val_accuracy: 0.0824\n",
      "Epoch 30/200\n",
      "22/22 [==============================] - 0s 6ms/step - loss: 3.7051 - accuracy: 0.0961 - val_loss: 3.7228 - val_accuracy: 0.0941\n",
      "Epoch 31/200\n",
      "22/22 [==============================] - 0s 5ms/step - loss: 3.7166 - accuracy: 0.1037 - val_loss: 3.7226 - val_accuracy: 0.1059\n",
      "Epoch 32/200\n",
      "22/22 [==============================] - 0s 6ms/step - loss: 3.7147 - accuracy: 0.0870 - val_loss: 3.7224 - val_accuracy: 0.1000\n",
      "Epoch 33/200\n",
      "22/22 [==============================] - 0s 6ms/step - loss: 3.7146 - accuracy: 0.1038 - val_loss: 3.7225 - val_accuracy: 0.1176\n",
      "Epoch 34/200\n",
      "22/22 [==============================] - 0s 5ms/step - loss: 3.7213 - accuracy: 0.1120 - val_loss: 3.7225 - val_accuracy: 0.1000\n",
      "Epoch 35/200\n",
      "22/22 [==============================] - 0s 5ms/step - loss: 3.7145 - accuracy: 0.0898 - val_loss: 3.7223 - val_accuracy: 0.1176\n",
      "Epoch 36/200\n",
      "22/22 [==============================] - 0s 5ms/step - loss: 3.7171 - accuracy: 0.1084 - val_loss: 3.7223 - val_accuracy: 0.1000\n",
      "Epoch 37/200\n",
      "22/22 [==============================] - 0s 6ms/step - loss: 3.7208 - accuracy: 0.1335 - val_loss: 3.7224 - val_accuracy: 0.1059\n",
      "Epoch 38/200\n",
      "22/22 [==============================] - 0s 5ms/step - loss: 3.6972 - accuracy: 0.1018 - val_loss: 3.7224 - val_accuracy: 0.1000\n",
      "Epoch 39/200\n",
      "22/22 [==============================] - 0s 6ms/step - loss: 3.7336 - accuracy: 0.0957 - val_loss: 3.7224 - val_accuracy: 0.1118\n",
      "Epoch 40/200\n",
      "22/22 [==============================] - 0s 6ms/step - loss: 3.7145 - accuracy: 0.1047 - val_loss: 3.7225 - val_accuracy: 0.1059\n",
      "Epoch 41/200\n",
      "22/22 [==============================] - 0s 5ms/step - loss: 3.6862 - accuracy: 0.1028 - val_loss: 3.7225 - val_accuracy: 0.1000\n",
      "Epoch 42/200\n",
      "22/22 [==============================] - 0s 5ms/step - loss: 3.7067 - accuracy: 0.1138 - val_loss: 3.7224 - val_accuracy: 0.1000\n",
      "Epoch 43/200\n",
      "22/22 [==============================] - 0s 5ms/step - loss: 3.7131 - accuracy: 0.0864 - val_loss: 3.7225 - val_accuracy: 0.1000\n",
      "Epoch 44/200\n",
      "22/22 [==============================] - 0s 6ms/step - loss: 3.7168 - accuracy: 0.0921 - val_loss: 3.7223 - val_accuracy: 0.0941\n",
      "Epoch 45/200\n",
      "22/22 [==============================] - 0s 6ms/step - loss: 3.7301 - accuracy: 0.0884 - val_loss: 3.7223 - val_accuracy: 0.1000\n",
      "Epoch 46/200\n",
      "22/22 [==============================] - 0s 6ms/step - loss: 3.7221 - accuracy: 0.1120 - val_loss: 3.7223 - val_accuracy: 0.1118\n",
      "Epoch 47/200\n",
      "22/22 [==============================] - 0s 6ms/step - loss: 3.7052 - accuracy: 0.1044 - val_loss: 3.7225 - val_accuracy: 0.1000\n",
      "Epoch 48/200\n",
      "22/22 [==============================] - 0s 5ms/step - loss: 3.7063 - accuracy: 0.0949 - val_loss: 3.7223 - val_accuracy: 0.0941\n",
      "Epoch 49/200\n",
      "22/22 [==============================] - 0s 6ms/step - loss: 3.6868 - accuracy: 0.0932 - val_loss: 3.7222 - val_accuracy: 0.0941\n",
      "Epoch 50/200\n",
      "22/22 [==============================] - 0s 6ms/step - loss: 3.7205 - accuracy: 0.0938 - val_loss: 3.7224 - val_accuracy: 0.1000\n",
      "Epoch 51/200\n",
      "22/22 [==============================] - 0s 5ms/step - loss: 3.6942 - accuracy: 0.1011 - val_loss: 3.7226 - val_accuracy: 0.1000\n",
      "Epoch 52/200\n",
      "22/22 [==============================] - 0s 6ms/step - loss: 3.7074 - accuracy: 0.0856 - val_loss: 3.7224 - val_accuracy: 0.1118\n",
      "Epoch 53/200\n",
      "22/22 [==============================] - 0s 6ms/step - loss: 3.7151 - accuracy: 0.1133 - val_loss: 3.7222 - val_accuracy: 0.1000\n",
      "Epoch 54/200\n",
      "22/22 [==============================] - 0s 5ms/step - loss: 3.6970 - accuracy: 0.1109 - val_loss: 3.7222 - val_accuracy: 0.1000\n",
      "Epoch 55/200\n",
      "22/22 [==============================] - 0s 6ms/step - loss: 3.7153 - accuracy: 0.0913 - val_loss: 3.7224 - val_accuracy: 0.1000\n",
      "Epoch 56/200\n",
      "22/22 [==============================] - 0s 6ms/step - loss: 3.7031 - accuracy: 0.1063 - val_loss: 3.7222 - val_accuracy: 0.1059\n",
      "Epoch 57/200\n",
      "22/22 [==============================] - 0s 6ms/step - loss: 3.7146 - accuracy: 0.1036 - val_loss: 3.7222 - val_accuracy: 0.1000\n",
      "Epoch 58/200\n",
      "22/22 [==============================] - 0s 5ms/step - loss: 3.7089 - accuracy: 0.1013 - val_loss: 3.7224 - val_accuracy: 0.1000\n"
     ]
    },
    {
     "name": "stdout",
     "output_type": "stream",
     "text": [
      "Epoch 59/200\n",
      "22/22 [==============================] - 0s 5ms/step - loss: 3.7005 - accuracy: 0.0895 - val_loss: 3.7223 - val_accuracy: 0.0882\n",
      "Epoch 60/200\n",
      "22/22 [==============================] - 0s 6ms/step - loss: 3.7168 - accuracy: 0.0982 - val_loss: 3.7224 - val_accuracy: 0.1059\n",
      "Epoch 61/200\n",
      "22/22 [==============================] - 0s 6ms/step - loss: 3.7159 - accuracy: 0.0823 - val_loss: 3.7224 - val_accuracy: 0.1059\n",
      "Epoch 62/200\n",
      "22/22 [==============================] - 0s 5ms/step - loss: 3.7174 - accuracy: 0.0954 - val_loss: 3.7228 - val_accuracy: 0.1118\n",
      "Epoch 63/200\n",
      "22/22 [==============================] - 0s 5ms/step - loss: 3.7297 - accuracy: 0.1075 - val_loss: 3.7226 - val_accuracy: 0.1118\n",
      "Epoch 64/200\n",
      "22/22 [==============================] - 0s 6ms/step - loss: 3.7037 - accuracy: 0.1056 - val_loss: 3.7223 - val_accuracy: 0.1235\n",
      "Epoch 65/200\n",
      "22/22 [==============================] - 0s 5ms/step - loss: 3.7246 - accuracy: 0.0967 - val_loss: 3.7224 - val_accuracy: 0.1118\n",
      "Epoch 66/200\n",
      "22/22 [==============================] - 0s 5ms/step - loss: 3.7311 - accuracy: 0.0973 - val_loss: 3.7224 - val_accuracy: 0.1118\n",
      "Epoch 67/200\n",
      "22/22 [==============================] - 0s 6ms/step - loss: 3.7113 - accuracy: 0.1124 - val_loss: 3.7225 - val_accuracy: 0.1118\n",
      "Epoch 68/200\n",
      "22/22 [==============================] - 0s 5ms/step - loss: 3.7153 - accuracy: 0.1040 - val_loss: 3.7226 - val_accuracy: 0.1000\n",
      "Epoch 69/200\n",
      "22/22 [==============================] - 0s 6ms/step - loss: 3.7069 - accuracy: 0.1002 - val_loss: 3.7227 - val_accuracy: 0.1118\n",
      "Epoch 70/200\n",
      "22/22 [==============================] - 0s 5ms/step - loss: 3.7178 - accuracy: 0.1021 - val_loss: 3.7225 - val_accuracy: 0.1000\n",
      "Epoch 71/200\n",
      "22/22 [==============================] - 0s 5ms/step - loss: 3.6958 - accuracy: 0.0951 - val_loss: 3.7226 - val_accuracy: 0.1059\n",
      "Epoch 72/200\n",
      "22/22 [==============================] - 0s 5ms/step - loss: 3.7220 - accuracy: 0.0998 - val_loss: 3.7223 - val_accuracy: 0.0941\n",
      "Epoch 73/200\n",
      "22/22 [==============================] - 0s 6ms/step - loss: 3.7414 - accuracy: 0.0883 - val_loss: 3.7223 - val_accuracy: 0.0941\n",
      "Epoch 74/200\n",
      "22/22 [==============================] - 0s 6ms/step - loss: 3.7293 - accuracy: 0.1153 - val_loss: 3.7224 - val_accuracy: 0.1000\n",
      "Epoch 75/200\n",
      "22/22 [==============================] - 0s 6ms/step - loss: 3.7137 - accuracy: 0.1029 - val_loss: 3.7222 - val_accuracy: 0.1059\n",
      "Epoch 76/200\n",
      "22/22 [==============================] - 0s 6ms/step - loss: 3.7130 - accuracy: 0.0846 - val_loss: 3.7222 - val_accuracy: 0.0941\n",
      "Epoch 77/200\n",
      "22/22 [==============================] - 0s 5ms/step - loss: 3.7374 - accuracy: 0.0798 - val_loss: 3.7223 - val_accuracy: 0.0941\n",
      "Epoch 78/200\n",
      "22/22 [==============================] - 0s 5ms/step - loss: 3.6825 - accuracy: 0.0850 - val_loss: 3.7223 - val_accuracy: 0.0882\n",
      "Epoch 79/200\n",
      "22/22 [==============================] - 0s 6ms/step - loss: 3.6926 - accuracy: 0.1098 - val_loss: 3.7224 - val_accuracy: 0.1000\n",
      "Epoch 80/200\n",
      "22/22 [==============================] - 0s 6ms/step - loss: 3.7149 - accuracy: 0.1054 - val_loss: 3.7220 - val_accuracy: 0.1118\n",
      "Epoch 81/200\n",
      "22/22 [==============================] - 0s 6ms/step - loss: 3.7158 - accuracy: 0.1012 - val_loss: 3.7220 - val_accuracy: 0.1000\n",
      "Epoch 82/200\n",
      "22/22 [==============================] - 0s 5ms/step - loss: 3.7042 - accuracy: 0.1088 - val_loss: 3.7221 - val_accuracy: 0.1000\n",
      "Epoch 83/200\n",
      "22/22 [==============================] - 0s 6ms/step - loss: 3.6971 - accuracy: 0.0951 - val_loss: 3.7223 - val_accuracy: 0.1000\n",
      "Epoch 84/200\n",
      "22/22 [==============================] - 0s 5ms/step - loss: 3.7141 - accuracy: 0.0949 - val_loss: 3.7220 - val_accuracy: 0.1176\n",
      "Epoch 85/200\n",
      "22/22 [==============================] - 0s 6ms/step - loss: 3.7145 - accuracy: 0.1032 - val_loss: 3.7220 - val_accuracy: 0.1000\n",
      "Epoch 86/200\n",
      "22/22 [==============================] - 0s 5ms/step - loss: 3.7195 - accuracy: 0.0913 - val_loss: 3.7221 - val_accuracy: 0.0941\n",
      "Epoch 87/200\n",
      "22/22 [==============================] - 0s 5ms/step - loss: 3.7260 - accuracy: 0.1091 - val_loss: 3.7221 - val_accuracy: 0.1000\n",
      "Epoch 88/200\n",
      "22/22 [==============================] - 0s 5ms/step - loss: 3.7460 - accuracy: 0.1028 - val_loss: 3.7220 - val_accuracy: 0.1000\n",
      "Epoch 89/200\n",
      "22/22 [==============================] - 0s 6ms/step - loss: 3.7017 - accuracy: 0.0958 - val_loss: 3.7220 - val_accuracy: 0.0941\n",
      "Epoch 90/200\n",
      "22/22 [==============================] - 0s 5ms/step - loss: 3.7260 - accuracy: 0.0880 - val_loss: 3.7221 - val_accuracy: 0.0882\n",
      "Epoch 91/200\n",
      "22/22 [==============================] - 0s 5ms/step - loss: 3.7024 - accuracy: 0.1025 - val_loss: 3.7221 - val_accuracy: 0.1000\n",
      "Epoch 92/200\n",
      "22/22 [==============================] - 0s 6ms/step - loss: 3.7114 - accuracy: 0.0863 - val_loss: 3.7222 - val_accuracy: 0.1059\n",
      "Epoch 93/200\n",
      "22/22 [==============================] - 0s 6ms/step - loss: 3.7265 - accuracy: 0.0982 - val_loss: 3.7221 - val_accuracy: 0.0941\n",
      "Epoch 94/200\n",
      "22/22 [==============================] - 0s 5ms/step - loss: 3.7102 - accuracy: 0.0929 - val_loss: 3.7223 - val_accuracy: 0.0941\n",
      "Epoch 95/200\n",
      "22/22 [==============================] - 0s 6ms/step - loss: 3.7129 - accuracy: 0.0930 - val_loss: 3.7224 - val_accuracy: 0.0941\n",
      "Epoch 96/200\n",
      "22/22 [==============================] - 0s 5ms/step - loss: 3.7157 - accuracy: 0.1003 - val_loss: 3.7221 - val_accuracy: 0.0941\n",
      "Epoch 97/200\n",
      "22/22 [==============================] - 0s 5ms/step - loss: 3.7075 - accuracy: 0.1071 - val_loss: 3.7220 - val_accuracy: 0.1059\n",
      "Epoch 98/200\n",
      "22/22 [==============================] - 0s 6ms/step - loss: 3.6939 - accuracy: 0.0935 - val_loss: 3.7221 - val_accuracy: 0.1000\n",
      "Epoch 99/200\n",
      "22/22 [==============================] - 0s 6ms/step - loss: 3.7164 - accuracy: 0.0953 - val_loss: 3.7222 - val_accuracy: 0.1000\n",
      "Epoch 100/200\n",
      "22/22 [==============================] - 0s 5ms/step - loss: 3.7202 - accuracy: 0.1080 - val_loss: 3.7223 - val_accuracy: 0.1000\n",
      "Epoch 101/200\n",
      "22/22 [==============================] - 0s 6ms/step - loss: 3.7155 - accuracy: 0.0873 - val_loss: 3.7223 - val_accuracy: 0.1000\n",
      "Epoch 102/200\n",
      "22/22 [==============================] - 0s 6ms/step - loss: 3.7149 - accuracy: 0.1169 - val_loss: 3.7224 - val_accuracy: 0.1059\n",
      "Epoch 103/200\n",
      "22/22 [==============================] - 0s 6ms/step - loss: 3.6975 - accuracy: 0.0954 - val_loss: 3.7223 - val_accuracy: 0.0941\n",
      "Epoch 104/200\n",
      "22/22 [==============================] - 0s 5ms/step - loss: 3.7039 - accuracy: 0.1083 - val_loss: 3.7222 - val_accuracy: 0.1059\n",
      "Epoch 105/200\n",
      "22/22 [==============================] - 0s 5ms/step - loss: 3.7144 - accuracy: 0.1044 - val_loss: 3.7223 - val_accuracy: 0.0941\n",
      "Epoch 106/200\n",
      "22/22 [==============================] - 0s 6ms/step - loss: 3.7172 - accuracy: 0.0798 - val_loss: 3.7224 - val_accuracy: 0.1059\n",
      "Epoch 107/200\n",
      "22/22 [==============================] - 0s 6ms/step - loss: 3.6918 - accuracy: 0.1030 - val_loss: 3.7224 - val_accuracy: 0.1000\n",
      "Epoch 108/200\n",
      "22/22 [==============================] - 0s 5ms/step - loss: 3.7239 - accuracy: 0.0953 - val_loss: 3.7224 - val_accuracy: 0.1000\n",
      "Epoch 109/200\n",
      "22/22 [==============================] - 0s 6ms/step - loss: 3.7038 - accuracy: 0.0953 - val_loss: 3.7226 - val_accuracy: 0.0882\n",
      "Epoch 110/200\n",
      "22/22 [==============================] - 0s 6ms/step - loss: 3.7021 - accuracy: 0.1143 - val_loss: 3.7225 - val_accuracy: 0.0882\n",
      "Epoch 111/200\n",
      "22/22 [==============================] - 0s 6ms/step - loss: 3.7190 - accuracy: 0.0976 - val_loss: 3.7224 - val_accuracy: 0.1118\n",
      "Epoch 112/200\n",
      "22/22 [==============================] - 0s 6ms/step - loss: 3.6984 - accuracy: 0.1007 - val_loss: 3.7224 - val_accuracy: 0.1059\n",
      "Epoch 113/200\n",
      "22/22 [==============================] - 0s 6ms/step - loss: 3.7197 - accuracy: 0.0878 - val_loss: 3.7221 - val_accuracy: 0.1059\n",
      "Epoch 114/200\n",
      "22/22 [==============================] - 0s 6ms/step - loss: 3.7188 - accuracy: 0.0949 - val_loss: 3.7223 - val_accuracy: 0.0882\n",
      "Epoch 115/200\n",
      "22/22 [==============================] - 0s 6ms/step - loss: 3.7129 - accuracy: 0.0882 - val_loss: 3.7224 - val_accuracy: 0.0824\n",
      "Epoch 116/200\n"
     ]
    },
    {
     "name": "stdout",
     "output_type": "stream",
     "text": [
      "22/22 [==============================] - 0s 5ms/step - loss: 3.7143 - accuracy: 0.0970 - val_loss: 3.7221 - val_accuracy: 0.0941\n",
      "Epoch 117/200\n",
      "22/22 [==============================] - 0s 6ms/step - loss: 3.7270 - accuracy: 0.0895 - val_loss: 3.7222 - val_accuracy: 0.0941\n",
      "Epoch 118/200\n",
      "22/22 [==============================] - 0s 6ms/step - loss: 3.7072 - accuracy: 0.1070 - val_loss: 3.7221 - val_accuracy: 0.1000\n",
      "Epoch 119/200\n",
      "22/22 [==============================] - 0s 5ms/step - loss: 3.7235 - accuracy: 0.1071 - val_loss: 3.7224 - val_accuracy: 0.0882\n",
      "Epoch 120/200\n",
      "22/22 [==============================] - 0s 6ms/step - loss: 3.7111 - accuracy: 0.1041 - val_loss: 3.7225 - val_accuracy: 0.0882\n",
      "Epoch 121/200\n",
      "22/22 [==============================] - 0s 5ms/step - loss: 3.7234 - accuracy: 0.0966 - val_loss: 3.7225 - val_accuracy: 0.0941\n",
      "Epoch 122/200\n",
      "22/22 [==============================] - 0s 6ms/step - loss: 3.6974 - accuracy: 0.1129 - val_loss: 3.7224 - val_accuracy: 0.1000\n",
      "Epoch 123/200\n",
      "22/22 [==============================] - 0s 6ms/step - loss: 3.7123 - accuracy: 0.1090 - val_loss: 3.7225 - val_accuracy: 0.0882\n",
      "Epoch 124/200\n",
      "22/22 [==============================] - 0s 6ms/step - loss: 3.7160 - accuracy: 0.1023 - val_loss: 3.7223 - val_accuracy: 0.1000\n",
      "Epoch 125/200\n",
      "22/22 [==============================] - 0s 6ms/step - loss: 3.7269 - accuracy: 0.0870 - val_loss: 3.7224 - val_accuracy: 0.0882\n",
      "Epoch 126/200\n",
      "22/22 [==============================] - 0s 6ms/step - loss: 3.7003 - accuracy: 0.1147 - val_loss: 3.7226 - val_accuracy: 0.0882\n",
      "Epoch 127/200\n",
      "22/22 [==============================] - 0s 5ms/step - loss: 3.7195 - accuracy: 0.1168 - val_loss: 3.7228 - val_accuracy: 0.0941\n",
      "Epoch 128/200\n",
      "22/22 [==============================] - 0s 5ms/step - loss: 3.7165 - accuracy: 0.1302 - val_loss: 3.7224 - val_accuracy: 0.0882\n",
      "Epoch 129/200\n",
      "22/22 [==============================] - 0s 6ms/step - loss: 3.7007 - accuracy: 0.0836 - val_loss: 3.7227 - val_accuracy: 0.0882\n",
      "Epoch 130/200\n",
      "22/22 [==============================] - 0s 6ms/step - loss: 3.7273 - accuracy: 0.1122 - val_loss: 3.7225 - val_accuracy: 0.0941\n",
      "Epoch 131/200\n",
      "22/22 [==============================] - 0s 5ms/step - loss: 3.7059 - accuracy: 0.0988 - val_loss: 3.7226 - val_accuracy: 0.1000\n",
      "Epoch 132/200\n",
      "22/22 [==============================] - 0s 5ms/step - loss: 3.7447 - accuracy: 0.1102 - val_loss: 3.7226 - val_accuracy: 0.0941\n",
      "Epoch 133/200\n",
      "22/22 [==============================] - 0s 6ms/step - loss: 3.7083 - accuracy: 0.0912 - val_loss: 3.7225 - val_accuracy: 0.0941\n",
      "Epoch 134/200\n",
      "22/22 [==============================] - 0s 6ms/step - loss: 3.6873 - accuracy: 0.1127 - val_loss: 3.7228 - val_accuracy: 0.0941\n",
      "Epoch 135/200\n",
      "22/22 [==============================] - 0s 5ms/step - loss: 3.7003 - accuracy: 0.0972 - val_loss: 3.7228 - val_accuracy: 0.0882\n",
      "Epoch 136/200\n",
      "22/22 [==============================] - 0s 5ms/step - loss: 3.7013 - accuracy: 0.0975 - val_loss: 3.7226 - val_accuracy: 0.1000\n",
      "Epoch 137/200\n",
      "22/22 [==============================] - 0s 5ms/step - loss: 3.6880 - accuracy: 0.0995 - val_loss: 3.7226 - val_accuracy: 0.1000\n",
      "Epoch 138/200\n",
      "22/22 [==============================] - 0s 6ms/step - loss: 3.7170 - accuracy: 0.0935 - val_loss: 3.7226 - val_accuracy: 0.0941\n",
      "Epoch 139/200\n",
      "22/22 [==============================] - 0s 5ms/step - loss: 3.7189 - accuracy: 0.0959 - val_loss: 3.7227 - val_accuracy: 0.0941\n",
      "Epoch 140/200\n",
      "22/22 [==============================] - 0s 6ms/step - loss: 3.7046 - accuracy: 0.1031 - val_loss: 3.7226 - val_accuracy: 0.0941\n",
      "Epoch 141/200\n",
      "22/22 [==============================] - 0s 6ms/step - loss: 3.7110 - accuracy: 0.1077 - val_loss: 3.7224 - val_accuracy: 0.0941\n",
      "Epoch 142/200\n",
      "22/22 [==============================] - 0s 6ms/step - loss: 3.7129 - accuracy: 0.1093 - val_loss: 3.7228 - val_accuracy: 0.0882\n",
      "Epoch 143/200\n",
      "22/22 [==============================] - 0s 5ms/step - loss: 3.7272 - accuracy: 0.0804 - val_loss: 3.7225 - val_accuracy: 0.1000\n",
      "Epoch 144/200\n",
      "22/22 [==============================] - 0s 6ms/step - loss: 3.7002 - accuracy: 0.1017 - val_loss: 3.7226 - val_accuracy: 0.0941\n",
      "Epoch 145/200\n",
      "22/22 [==============================] - 0s 5ms/step - loss: 3.7207 - accuracy: 0.0995 - val_loss: 3.7227 - val_accuracy: 0.0941\n",
      "Epoch 146/200\n",
      "22/22 [==============================] - 0s 5ms/step - loss: 3.7160 - accuracy: 0.1205 - val_loss: 3.7226 - val_accuracy: 0.0941\n",
      "Epoch 147/200\n",
      "22/22 [==============================] - 0s 5ms/step - loss: 3.7118 - accuracy: 0.0864 - val_loss: 3.7227 - val_accuracy: 0.0824\n",
      "Epoch 148/200\n",
      "22/22 [==============================] - 0s 5ms/step - loss: 3.6990 - accuracy: 0.1099 - val_loss: 3.7228 - val_accuracy: 0.0824\n",
      "Epoch 149/200\n",
      "22/22 [==============================] - 0s 6ms/step - loss: 3.7300 - accuracy: 0.0747 - val_loss: 3.7227 - val_accuracy: 0.0882\n",
      "Epoch 150/200\n",
      "22/22 [==============================] - 0s 6ms/step - loss: 3.7193 - accuracy: 0.1039 - val_loss: 3.7228 - val_accuracy: 0.0882\n",
      "Epoch 151/200\n",
      "22/22 [==============================] - 0s 6ms/step - loss: 3.7113 - accuracy: 0.1055 - val_loss: 3.7228 - val_accuracy: 0.0824\n",
      "Epoch 152/200\n",
      "22/22 [==============================] - 0s 6ms/step - loss: 3.6993 - accuracy: 0.1032 - val_loss: 3.7228 - val_accuracy: 0.0824\n",
      "Epoch 153/200\n",
      "22/22 [==============================] - 0s 5ms/step - loss: 3.7192 - accuracy: 0.0844 - val_loss: 3.7227 - val_accuracy: 0.1000\n",
      "Epoch 154/200\n",
      "22/22 [==============================] - 0s 6ms/step - loss: 3.7144 - accuracy: 0.0966 - val_loss: 3.7224 - val_accuracy: 0.0941\n",
      "Epoch 155/200\n",
      "22/22 [==============================] - 0s 6ms/step - loss: 3.7116 - accuracy: 0.1190 - val_loss: 3.7225 - val_accuracy: 0.0941\n",
      "Epoch 156/200\n",
      "22/22 [==============================] - 0s 5ms/step - loss: 3.7355 - accuracy: 0.0699 - val_loss: 3.7227 - val_accuracy: 0.0882\n",
      "Epoch 157/200\n",
      "22/22 [==============================] - 0s 6ms/step - loss: 3.7035 - accuracy: 0.1060 - val_loss: 3.7228 - val_accuracy: 0.0882\n",
      "Epoch 158/200\n",
      "22/22 [==============================] - 0s 5ms/step - loss: 3.6890 - accuracy: 0.0811 - val_loss: 3.7226 - val_accuracy: 0.0882\n",
      "Epoch 159/200\n",
      "22/22 [==============================] - 0s 6ms/step - loss: 3.6966 - accuracy: 0.1092 - val_loss: 3.7224 - val_accuracy: 0.0882\n",
      "Epoch 160/200\n",
      "22/22 [==============================] - 0s 5ms/step - loss: 3.7046 - accuracy: 0.0988 - val_loss: 3.7224 - val_accuracy: 0.0882\n",
      "Epoch 161/200\n",
      "22/22 [==============================] - 0s 5ms/step - loss: 3.7137 - accuracy: 0.1012 - val_loss: 3.7225 - val_accuracy: 0.1059\n",
      "Epoch 162/200\n",
      "22/22 [==============================] - 0s 6ms/step - loss: 3.7287 - accuracy: 0.0896 - val_loss: 3.7224 - val_accuracy: 0.1059\n",
      "Epoch 163/200\n",
      "22/22 [==============================] - 0s 6ms/step - loss: 3.7249 - accuracy: 0.0858 - val_loss: 3.7225 - val_accuracy: 0.1059\n",
      "Epoch 164/200\n",
      "22/22 [==============================] - 0s 5ms/step - loss: 3.7191 - accuracy: 0.0930 - val_loss: 3.7225 - val_accuracy: 0.0941\n",
      "Epoch 165/200\n",
      "22/22 [==============================] - 0s 6ms/step - loss: 3.7284 - accuracy: 0.0947 - val_loss: 3.7224 - val_accuracy: 0.0941\n",
      "Epoch 166/200\n",
      "22/22 [==============================] - 0s 6ms/step - loss: 3.6985 - accuracy: 0.1101 - val_loss: 3.7228 - val_accuracy: 0.0941\n",
      "Epoch 167/200\n",
      "22/22 [==============================] - 0s 6ms/step - loss: 3.7186 - accuracy: 0.0981 - val_loss: 3.7228 - val_accuracy: 0.1000\n",
      "Epoch 168/200\n",
      "22/22 [==============================] - 0s 6ms/step - loss: 3.6962 - accuracy: 0.0857 - val_loss: 3.7227 - val_accuracy: 0.0941\n",
      "Epoch 169/200\n",
      "22/22 [==============================] - 0s 5ms/step - loss: 3.7264 - accuracy: 0.1058 - val_loss: 3.7227 - val_accuracy: 0.0941\n",
      "Epoch 170/200\n",
      "22/22 [==============================] - 0s 6ms/step - loss: 3.7103 - accuracy: 0.0842 - val_loss: 3.7226 - val_accuracy: 0.0941\n",
      "Epoch 171/200\n",
      "22/22 [==============================] - 0s 6ms/step - loss: 3.7174 - accuracy: 0.1203 - val_loss: 3.7225 - val_accuracy: 0.1000\n",
      "Epoch 172/200\n",
      "22/22 [==============================] - 0s 6ms/step - loss: 3.7122 - accuracy: 0.0881 - val_loss: 3.7224 - val_accuracy: 0.1059\n",
      "Epoch 173/200\n"
     ]
    },
    {
     "name": "stdout",
     "output_type": "stream",
     "text": [
      "22/22 [==============================] - 0s 6ms/step - loss: 3.7179 - accuracy: 0.0973 - val_loss: 3.7225 - val_accuracy: 0.1000\n",
      "Epoch 174/200\n",
      "22/22 [==============================] - 0s 5ms/step - loss: 3.7290 - accuracy: 0.0872 - val_loss: 3.7226 - val_accuracy: 0.1000\n",
      "Epoch 175/200\n",
      "22/22 [==============================] - 0s 6ms/step - loss: 3.7173 - accuracy: 0.0959 - val_loss: 3.7226 - val_accuracy: 0.0941\n",
      "Epoch 176/200\n",
      "22/22 [==============================] - 0s 5ms/step - loss: 3.7053 - accuracy: 0.0905 - val_loss: 3.7227 - val_accuracy: 0.0882\n",
      "Epoch 177/200\n",
      "22/22 [==============================] - 0s 6ms/step - loss: 3.6763 - accuracy: 0.1004 - val_loss: 3.7225 - val_accuracy: 0.0882\n",
      "Epoch 178/200\n",
      "22/22 [==============================] - 0s 5ms/step - loss: 3.6985 - accuracy: 0.0864 - val_loss: 3.7225 - val_accuracy: 0.0941\n",
      "Epoch 179/200\n",
      "22/22 [==============================] - 0s 5ms/step - loss: 3.7062 - accuracy: 0.1074 - val_loss: 3.7225 - val_accuracy: 0.0941\n",
      "Epoch 180/200\n",
      "22/22 [==============================] - 0s 6ms/step - loss: 3.7113 - accuracy: 0.0897 - val_loss: 3.7225 - val_accuracy: 0.0941\n",
      "Epoch 181/200\n",
      "22/22 [==============================] - 0s 6ms/step - loss: 3.7243 - accuracy: 0.0817 - val_loss: 3.7228 - val_accuracy: 0.0941\n",
      "Epoch 182/200\n",
      "22/22 [==============================] - 0s 5ms/step - loss: 3.7345 - accuracy: 0.0985 - val_loss: 3.7227 - val_accuracy: 0.0941\n",
      "Epoch 183/200\n",
      "22/22 [==============================] - 0s 5ms/step - loss: 3.7228 - accuracy: 0.0935 - val_loss: 3.7227 - val_accuracy: 0.0941\n",
      "Epoch 184/200\n",
      "22/22 [==============================] - 0s 6ms/step - loss: 3.7224 - accuracy: 0.0994 - val_loss: 3.7230 - val_accuracy: 0.0824\n",
      "Epoch 185/200\n",
      "22/22 [==============================] - 0s 6ms/step - loss: 3.6928 - accuracy: 0.1014 - val_loss: 3.7227 - val_accuracy: 0.0941\n",
      "Epoch 186/200\n",
      "22/22 [==============================] - 0s 5ms/step - loss: 3.7040 - accuracy: 0.0918 - val_loss: 3.7226 - val_accuracy: 0.0941\n",
      "Epoch 187/200\n",
      "22/22 [==============================] - 0s 5ms/step - loss: 3.7294 - accuracy: 0.0922 - val_loss: 3.7226 - val_accuracy: 0.0941\n",
      "Epoch 188/200\n",
      "22/22 [==============================] - 0s 6ms/step - loss: 3.7030 - accuracy: 0.0847 - val_loss: 3.7226 - val_accuracy: 0.0824\n",
      "Epoch 189/200\n",
      "22/22 [==============================] - 0s 5ms/step - loss: 3.7135 - accuracy: 0.1200 - val_loss: 3.7225 - val_accuracy: 0.0941\n",
      "Epoch 190/200\n",
      "22/22 [==============================] - 0s 5ms/step - loss: 3.6896 - accuracy: 0.1161 - val_loss: 3.7223 - val_accuracy: 0.0941\n",
      "Epoch 191/200\n",
      "22/22 [==============================] - 0s 5ms/step - loss: 3.6877 - accuracy: 0.1063 - val_loss: 3.7224 - val_accuracy: 0.1059\n",
      "Epoch 192/200\n",
      "22/22 [==============================] - 0s 5ms/step - loss: 3.7001 - accuracy: 0.1050 - val_loss: 3.7226 - val_accuracy: 0.0824\n",
      "Epoch 193/200\n",
      "22/22 [==============================] - 0s 5ms/step - loss: 3.7091 - accuracy: 0.1057 - val_loss: 3.7225 - val_accuracy: 0.0882\n",
      "Epoch 194/200\n",
      "22/22 [==============================] - 0s 5ms/step - loss: 3.7221 - accuracy: 0.0964 - val_loss: 3.7222 - val_accuracy: 0.1000\n",
      "Epoch 195/200\n",
      "22/22 [==============================] - 0s 5ms/step - loss: 3.7102 - accuracy: 0.1057 - val_loss: 3.7225 - val_accuracy: 0.1000\n",
      "Epoch 196/200\n",
      "22/22 [==============================] - 0s 5ms/step - loss: 3.7087 - accuracy: 0.0985 - val_loss: 3.7225 - val_accuracy: 0.1059\n",
      "Epoch 197/200\n",
      "22/22 [==============================] - 0s 5ms/step - loss: 3.7278 - accuracy: 0.0933 - val_loss: 3.7227 - val_accuracy: 0.0941\n",
      "Epoch 198/200\n",
      "22/22 [==============================] - 0s 5ms/step - loss: 3.7232 - accuracy: 0.0871 - val_loss: 3.7227 - val_accuracy: 0.0882\n",
      "Epoch 199/200\n",
      "22/22 [==============================] - 0s 5ms/step - loss: 3.7035 - accuracy: 0.0906 - val_loss: 3.7227 - val_accuracy: 0.0941\n",
      "Epoch 200/200\n",
      "22/22 [==============================] - 0s 6ms/step - loss: 3.7050 - accuracy: 0.1169 - val_loss: 3.7227 - val_accuracy: 0.0882\n"
     ]
    }
   ],
   "source": [
    "hist = model.fit(x=X_train, y=y_train,\n",
    "                  epochs=200,\n",
    "                  batch_size=32,\n",
    "                  validation_split=0.2)"
   ]
  },
  {
   "cell_type": "code",
   "execution_count": 37,
   "id": "communist-stability",
   "metadata": {},
   "outputs": [
    {
     "data": {
      "application/vnd.plotly.v1+json": {
       "config": {
        "plotlyServerURL": "https://plot.ly"
       },
       "data": [
        {
         "type": "scatter",
         "y": [
          3.7323272228240967,
          3.726609230041504,
          3.7212655544281006,
          3.7202930450439453,
          3.7195591926574707,
          3.71875262260437,
          3.7177071571350098,
          3.716834306716919,
          3.7161731719970703,
          3.7159435749053955,
          3.715775728225708,
          3.7156736850738525,
          3.7154541015625,
          3.7153964042663574,
          3.715329170227051,
          3.7152867317199707,
          3.7151803970336914,
          3.7151501178741455,
          3.715135097503662,
          3.7151191234588623,
          3.715078830718994,
          3.7149791717529297,
          3.7151260375976562,
          3.71490740776062,
          3.714723587036133,
          3.714548110961914,
          3.714459180831909,
          3.714371681213379,
          3.7142510414123535,
          3.714174747467041,
          3.7142860889434814,
          3.714142322540283,
          3.7142434120178223,
          3.714137554168701,
          3.7140908241271973,
          3.7140307426452637,
          3.7139673233032227,
          3.713923454284668,
          3.7138798236846924,
          3.7138819694519043,
          3.7139315605163574,
          3.7138113975524902,
          3.7138454914093018,
          3.7136881351470947,
          3.713658332824707,
          3.7136647701263428,
          3.7135424613952637,
          3.7136595249176025,
          3.7136194705963135,
          3.71356463432312,
          3.713616132736206,
          3.713583469390869,
          3.713562488555908,
          3.7135374546051025,
          3.713486909866333,
          3.7134037017822266,
          3.7134084701538086,
          3.713425636291504,
          3.713467597961426,
          3.7133853435516357,
          3.713362455368042,
          3.713395357131958,
          3.713392496109009,
          3.7133617401123047,
          3.713350772857666,
          3.713331460952759,
          3.7133514881134033,
          3.7134101390838623,
          3.713359832763672,
          3.7133071422576904,
          3.713313102722168,
          3.7133195400238037,
          3.71329927444458,
          3.713294744491577,
          3.713284492492676,
          3.713282346725464,
          3.7132925987243652,
          3.7132420539855957,
          3.7132527828216553,
          3.713270902633667,
          3.7132582664489746,
          3.7132716178894043,
          3.713268280029297,
          3.7132694721221924,
          3.7132456302642822,
          3.7132697105407715,
          3.7132439613342285,
          3.713230609893799,
          3.713212490081787,
          3.7132701873779297,
          3.7132532596588135,
          3.713235855102539,
          3.713209629058838,
          3.7132034301757812,
          3.713212251663208,
          3.7132132053375244,
          3.7132527828216553,
          3.7132251262664795,
          3.713216781616211,
          3.713188886642456,
          3.713230848312378,
          3.713224411010742,
          3.713254690170288,
          3.7132484912872314,
          3.7132532596588135,
          3.7132859230041504,
          3.7131996154785156,
          3.7132139205932617,
          3.713221788406372,
          3.7132668495178223,
          3.7131919860839844,
          3.7131855487823486,
          3.7132039070129395,
          3.713207960128784,
          3.7132179737091064,
          3.713153123855591,
          3.713214635848999,
          3.7132396697998047,
          3.7133212089538574,
          3.7132351398468018,
          3.7131779193878174,
          3.7132315635681152,
          3.713235855102539,
          3.7131545543670654,
          3.7132668495178223,
          3.7131969928741455,
          3.713186502456665,
          3.713094711303711,
          3.7131502628326416,
          3.7130916118621826,
          3.7131052017211914,
          3.713097333908081,
          3.7130675315856934,
          3.713122844696045,
          3.713081121444702,
          3.713083267211914,
          3.7131383419036865,
          3.7131078243255615,
          3.7130796909332275,
          3.7131102085113525,
          3.7131271362304688,
          3.71307110786438,
          3.7130472660064697,
          3.7130446434020996,
          3.713066816329956,
          3.7130351066589355,
          3.7130091190338135,
          3.71303391456604,
          3.713064432144165,
          3.713050603866577,
          3.71301531791687,
          3.7130351066589355,
          3.713101625442505,
          3.713012218475342,
          3.7130417823791504,
          3.71303391456604,
          3.7130844593048096,
          3.7130444049835205,
          3.7130093574523926,
          3.7130234241485596,
          3.7131028175354004,
          3.713007688522339,
          3.713005542755127,
          3.713031768798828,
          3.713009834289551,
          3.7130653858184814,
          3.7129874229431152,
          3.713002920150757,
          3.7129881381988525,
          3.7130160331726074,
          3.71297550201416,
          3.7129950523376465,
          3.7130138874053955,
          3.713001251220703,
          3.712984561920166,
          3.712980031967163,
          3.7130141258239746,
          3.71297550201416,
          3.7129476070404053,
          3.713028907775879,
          3.713005781173706,
          3.7129483222961426,
          3.7129335403442383,
          3.7129759788513184,
          3.7129271030426025,
          3.7129859924316406,
          3.713028907775879,
          3.7129600048065186,
          3.7129852771759033,
          3.7129745483398438,
          3.7129831314086914,
          3.7129623889923096,
          3.7129831314086914,
          3.71296763420105,
          3.712949275970459,
          3.712968349456787,
          3.7129619121551514,
          3.7129831314086914,
          3.7129900455474854,
          3.712972402572632
         ]
        }
       ],
       "layout": {
        "template": {
         "data": {
          "bar": [
           {
            "error_x": {
             "color": "#2a3f5f"
            },
            "error_y": {
             "color": "#2a3f5f"
            },
            "marker": {
             "line": {
              "color": "#E5ECF6",
              "width": 0.5
             }
            },
            "type": "bar"
           }
          ],
          "barpolar": [
           {
            "marker": {
             "line": {
              "color": "#E5ECF6",
              "width": 0.5
             }
            },
            "type": "barpolar"
           }
          ],
          "carpet": [
           {
            "aaxis": {
             "endlinecolor": "#2a3f5f",
             "gridcolor": "white",
             "linecolor": "white",
             "minorgridcolor": "white",
             "startlinecolor": "#2a3f5f"
            },
            "baxis": {
             "endlinecolor": "#2a3f5f",
             "gridcolor": "white",
             "linecolor": "white",
             "minorgridcolor": "white",
             "startlinecolor": "#2a3f5f"
            },
            "type": "carpet"
           }
          ],
          "choropleth": [
           {
            "colorbar": {
             "outlinewidth": 0,
             "ticks": ""
            },
            "type": "choropleth"
           }
          ],
          "contour": [
           {
            "colorbar": {
             "outlinewidth": 0,
             "ticks": ""
            },
            "colorscale": [
             [
              0,
              "#0d0887"
             ],
             [
              0.1111111111111111,
              "#46039f"
             ],
             [
              0.2222222222222222,
              "#7201a8"
             ],
             [
              0.3333333333333333,
              "#9c179e"
             ],
             [
              0.4444444444444444,
              "#bd3786"
             ],
             [
              0.5555555555555556,
              "#d8576b"
             ],
             [
              0.6666666666666666,
              "#ed7953"
             ],
             [
              0.7777777777777778,
              "#fb9f3a"
             ],
             [
              0.8888888888888888,
              "#fdca26"
             ],
             [
              1,
              "#f0f921"
             ]
            ],
            "type": "contour"
           }
          ],
          "contourcarpet": [
           {
            "colorbar": {
             "outlinewidth": 0,
             "ticks": ""
            },
            "type": "contourcarpet"
           }
          ],
          "heatmap": [
           {
            "colorbar": {
             "outlinewidth": 0,
             "ticks": ""
            },
            "colorscale": [
             [
              0,
              "#0d0887"
             ],
             [
              0.1111111111111111,
              "#46039f"
             ],
             [
              0.2222222222222222,
              "#7201a8"
             ],
             [
              0.3333333333333333,
              "#9c179e"
             ],
             [
              0.4444444444444444,
              "#bd3786"
             ],
             [
              0.5555555555555556,
              "#d8576b"
             ],
             [
              0.6666666666666666,
              "#ed7953"
             ],
             [
              0.7777777777777778,
              "#fb9f3a"
             ],
             [
              0.8888888888888888,
              "#fdca26"
             ],
             [
              1,
              "#f0f921"
             ]
            ],
            "type": "heatmap"
           }
          ],
          "heatmapgl": [
           {
            "colorbar": {
             "outlinewidth": 0,
             "ticks": ""
            },
            "colorscale": [
             [
              0,
              "#0d0887"
             ],
             [
              0.1111111111111111,
              "#46039f"
             ],
             [
              0.2222222222222222,
              "#7201a8"
             ],
             [
              0.3333333333333333,
              "#9c179e"
             ],
             [
              0.4444444444444444,
              "#bd3786"
             ],
             [
              0.5555555555555556,
              "#d8576b"
             ],
             [
              0.6666666666666666,
              "#ed7953"
             ],
             [
              0.7777777777777778,
              "#fb9f3a"
             ],
             [
              0.8888888888888888,
              "#fdca26"
             ],
             [
              1,
              "#f0f921"
             ]
            ],
            "type": "heatmapgl"
           }
          ],
          "histogram": [
           {
            "marker": {
             "colorbar": {
              "outlinewidth": 0,
              "ticks": ""
             }
            },
            "type": "histogram"
           }
          ],
          "histogram2d": [
           {
            "colorbar": {
             "outlinewidth": 0,
             "ticks": ""
            },
            "colorscale": [
             [
              0,
              "#0d0887"
             ],
             [
              0.1111111111111111,
              "#46039f"
             ],
             [
              0.2222222222222222,
              "#7201a8"
             ],
             [
              0.3333333333333333,
              "#9c179e"
             ],
             [
              0.4444444444444444,
              "#bd3786"
             ],
             [
              0.5555555555555556,
              "#d8576b"
             ],
             [
              0.6666666666666666,
              "#ed7953"
             ],
             [
              0.7777777777777778,
              "#fb9f3a"
             ],
             [
              0.8888888888888888,
              "#fdca26"
             ],
             [
              1,
              "#f0f921"
             ]
            ],
            "type": "histogram2d"
           }
          ],
          "histogram2dcontour": [
           {
            "colorbar": {
             "outlinewidth": 0,
             "ticks": ""
            },
            "colorscale": [
             [
              0,
              "#0d0887"
             ],
             [
              0.1111111111111111,
              "#46039f"
             ],
             [
              0.2222222222222222,
              "#7201a8"
             ],
             [
              0.3333333333333333,
              "#9c179e"
             ],
             [
              0.4444444444444444,
              "#bd3786"
             ],
             [
              0.5555555555555556,
              "#d8576b"
             ],
             [
              0.6666666666666666,
              "#ed7953"
             ],
             [
              0.7777777777777778,
              "#fb9f3a"
             ],
             [
              0.8888888888888888,
              "#fdca26"
             ],
             [
              1,
              "#f0f921"
             ]
            ],
            "type": "histogram2dcontour"
           }
          ],
          "mesh3d": [
           {
            "colorbar": {
             "outlinewidth": 0,
             "ticks": ""
            },
            "type": "mesh3d"
           }
          ],
          "parcoords": [
           {
            "line": {
             "colorbar": {
              "outlinewidth": 0,
              "ticks": ""
             }
            },
            "type": "parcoords"
           }
          ],
          "pie": [
           {
            "automargin": true,
            "type": "pie"
           }
          ],
          "scatter": [
           {
            "marker": {
             "colorbar": {
              "outlinewidth": 0,
              "ticks": ""
             }
            },
            "type": "scatter"
           }
          ],
          "scatter3d": [
           {
            "line": {
             "colorbar": {
              "outlinewidth": 0,
              "ticks": ""
             }
            },
            "marker": {
             "colorbar": {
              "outlinewidth": 0,
              "ticks": ""
             }
            },
            "type": "scatter3d"
           }
          ],
          "scattercarpet": [
           {
            "marker": {
             "colorbar": {
              "outlinewidth": 0,
              "ticks": ""
             }
            },
            "type": "scattercarpet"
           }
          ],
          "scattergeo": [
           {
            "marker": {
             "colorbar": {
              "outlinewidth": 0,
              "ticks": ""
             }
            },
            "type": "scattergeo"
           }
          ],
          "scattergl": [
           {
            "marker": {
             "colorbar": {
              "outlinewidth": 0,
              "ticks": ""
             }
            },
            "type": "scattergl"
           }
          ],
          "scattermapbox": [
           {
            "marker": {
             "colorbar": {
              "outlinewidth": 0,
              "ticks": ""
             }
            },
            "type": "scattermapbox"
           }
          ],
          "scatterpolar": [
           {
            "marker": {
             "colorbar": {
              "outlinewidth": 0,
              "ticks": ""
             }
            },
            "type": "scatterpolar"
           }
          ],
          "scatterpolargl": [
           {
            "marker": {
             "colorbar": {
              "outlinewidth": 0,
              "ticks": ""
             }
            },
            "type": "scatterpolargl"
           }
          ],
          "scatterternary": [
           {
            "marker": {
             "colorbar": {
              "outlinewidth": 0,
              "ticks": ""
             }
            },
            "type": "scatterternary"
           }
          ],
          "surface": [
           {
            "colorbar": {
             "outlinewidth": 0,
             "ticks": ""
            },
            "colorscale": [
             [
              0,
              "#0d0887"
             ],
             [
              0.1111111111111111,
              "#46039f"
             ],
             [
              0.2222222222222222,
              "#7201a8"
             ],
             [
              0.3333333333333333,
              "#9c179e"
             ],
             [
              0.4444444444444444,
              "#bd3786"
             ],
             [
              0.5555555555555556,
              "#d8576b"
             ],
             [
              0.6666666666666666,
              "#ed7953"
             ],
             [
              0.7777777777777778,
              "#fb9f3a"
             ],
             [
              0.8888888888888888,
              "#fdca26"
             ],
             [
              1,
              "#f0f921"
             ]
            ],
            "type": "surface"
           }
          ],
          "table": [
           {
            "cells": {
             "fill": {
              "color": "#EBF0F8"
             },
             "line": {
              "color": "white"
             }
            },
            "header": {
             "fill": {
              "color": "#C8D4E3"
             },
             "line": {
              "color": "white"
             }
            },
            "type": "table"
           }
          ]
         },
         "layout": {
          "annotationdefaults": {
           "arrowcolor": "#2a3f5f",
           "arrowhead": 0,
           "arrowwidth": 1
          },
          "autotypenumbers": "strict",
          "coloraxis": {
           "colorbar": {
            "outlinewidth": 0,
            "ticks": ""
           }
          },
          "colorscale": {
           "diverging": [
            [
             0,
             "#8e0152"
            ],
            [
             0.1,
             "#c51b7d"
            ],
            [
             0.2,
             "#de77ae"
            ],
            [
             0.3,
             "#f1b6da"
            ],
            [
             0.4,
             "#fde0ef"
            ],
            [
             0.5,
             "#f7f7f7"
            ],
            [
             0.6,
             "#e6f5d0"
            ],
            [
             0.7,
             "#b8e186"
            ],
            [
             0.8,
             "#7fbc41"
            ],
            [
             0.9,
             "#4d9221"
            ],
            [
             1,
             "#276419"
            ]
           ],
           "sequential": [
            [
             0,
             "#0d0887"
            ],
            [
             0.1111111111111111,
             "#46039f"
            ],
            [
             0.2222222222222222,
             "#7201a8"
            ],
            [
             0.3333333333333333,
             "#9c179e"
            ],
            [
             0.4444444444444444,
             "#bd3786"
            ],
            [
             0.5555555555555556,
             "#d8576b"
            ],
            [
             0.6666666666666666,
             "#ed7953"
            ],
            [
             0.7777777777777778,
             "#fb9f3a"
            ],
            [
             0.8888888888888888,
             "#fdca26"
            ],
            [
             1,
             "#f0f921"
            ]
           ],
           "sequentialminus": [
            [
             0,
             "#0d0887"
            ],
            [
             0.1111111111111111,
             "#46039f"
            ],
            [
             0.2222222222222222,
             "#7201a8"
            ],
            [
             0.3333333333333333,
             "#9c179e"
            ],
            [
             0.4444444444444444,
             "#bd3786"
            ],
            [
             0.5555555555555556,
             "#d8576b"
            ],
            [
             0.6666666666666666,
             "#ed7953"
            ],
            [
             0.7777777777777778,
             "#fb9f3a"
            ],
            [
             0.8888888888888888,
             "#fdca26"
            ],
            [
             1,
             "#f0f921"
            ]
           ]
          },
          "colorway": [
           "#636efa",
           "#EF553B",
           "#00cc96",
           "#ab63fa",
           "#FFA15A",
           "#19d3f3",
           "#FF6692",
           "#B6E880",
           "#FF97FF",
           "#FECB52"
          ],
          "font": {
           "color": "#2a3f5f"
          },
          "geo": {
           "bgcolor": "white",
           "lakecolor": "white",
           "landcolor": "#E5ECF6",
           "showlakes": true,
           "showland": true,
           "subunitcolor": "white"
          },
          "hoverlabel": {
           "align": "left"
          },
          "hovermode": "closest",
          "mapbox": {
           "style": "light"
          },
          "paper_bgcolor": "white",
          "plot_bgcolor": "#E5ECF6",
          "polar": {
           "angularaxis": {
            "gridcolor": "white",
            "linecolor": "white",
            "ticks": ""
           },
           "bgcolor": "#E5ECF6",
           "radialaxis": {
            "gridcolor": "white",
            "linecolor": "white",
            "ticks": ""
           }
          },
          "scene": {
           "xaxis": {
            "backgroundcolor": "#E5ECF6",
            "gridcolor": "white",
            "gridwidth": 2,
            "linecolor": "white",
            "showbackground": true,
            "ticks": "",
            "zerolinecolor": "white"
           },
           "yaxis": {
            "backgroundcolor": "#E5ECF6",
            "gridcolor": "white",
            "gridwidth": 2,
            "linecolor": "white",
            "showbackground": true,
            "ticks": "",
            "zerolinecolor": "white"
           },
           "zaxis": {
            "backgroundcolor": "#E5ECF6",
            "gridcolor": "white",
            "gridwidth": 2,
            "linecolor": "white",
            "showbackground": true,
            "ticks": "",
            "zerolinecolor": "white"
           }
          },
          "shapedefaults": {
           "line": {
            "color": "#2a3f5f"
           }
          },
          "ternary": {
           "aaxis": {
            "gridcolor": "white",
            "linecolor": "white",
            "ticks": ""
           },
           "baxis": {
            "gridcolor": "white",
            "linecolor": "white",
            "ticks": ""
           },
           "bgcolor": "#E5ECF6",
           "caxis": {
            "gridcolor": "white",
            "linecolor": "white",
            "ticks": ""
           }
          },
          "title": {
           "x": 0.05
          },
          "xaxis": {
           "automargin": true,
           "gridcolor": "white",
           "linecolor": "white",
           "ticks": "",
           "title": {
            "standoff": 15
           },
           "zerolinecolor": "white",
           "zerolinewidth": 2
          },
          "yaxis": {
           "automargin": true,
           "gridcolor": "white",
           "linecolor": "white",
           "ticks": "",
           "title": {
            "standoff": 15
           },
           "zerolinecolor": "white",
           "zerolinewidth": 2
          }
         }
        },
        "title": {
         "text": "model loss"
        },
        "xaxis": {
         "title": {
          "text": "epoch"
         }
        },
        "yaxis": {
         "title": {
          "text": "loss"
         }
        }
       }
      },
      "text/html": [
       "<div>                            <div id=\"49c6df30-76be-4615-8df4-1df2ad465f45\" class=\"plotly-graph-div\" style=\"height:525px; width:100%;\"></div>            <script type=\"text/javascript\">                require([\"plotly\"], function(Plotly) {                    window.PLOTLYENV=window.PLOTLYENV || {};                                    if (document.getElementById(\"49c6df30-76be-4615-8df4-1df2ad465f45\")) {                    Plotly.newPlot(                        \"49c6df30-76be-4615-8df4-1df2ad465f45\",                        [{\"type\": \"scatter\", \"y\": [3.7323272228240967, 3.726609230041504, 3.7212655544281006, 3.7202930450439453, 3.7195591926574707, 3.71875262260437, 3.7177071571350098, 3.716834306716919, 3.7161731719970703, 3.7159435749053955, 3.715775728225708, 3.7156736850738525, 3.7154541015625, 3.7153964042663574, 3.715329170227051, 3.7152867317199707, 3.7151803970336914, 3.7151501178741455, 3.715135097503662, 3.7151191234588623, 3.715078830718994, 3.7149791717529297, 3.7151260375976562, 3.71490740776062, 3.714723587036133, 3.714548110961914, 3.714459180831909, 3.714371681213379, 3.7142510414123535, 3.714174747467041, 3.7142860889434814, 3.714142322540283, 3.7142434120178223, 3.714137554168701, 3.7140908241271973, 3.7140307426452637, 3.7139673233032227, 3.713923454284668, 3.7138798236846924, 3.7138819694519043, 3.7139315605163574, 3.7138113975524902, 3.7138454914093018, 3.7136881351470947, 3.713658332824707, 3.7136647701263428, 3.7135424613952637, 3.7136595249176025, 3.7136194705963135, 3.71356463432312, 3.713616132736206, 3.713583469390869, 3.713562488555908, 3.7135374546051025, 3.713486909866333, 3.7134037017822266, 3.7134084701538086, 3.713425636291504, 3.713467597961426, 3.7133853435516357, 3.713362455368042, 3.713395357131958, 3.713392496109009, 3.7133617401123047, 3.713350772857666, 3.713331460952759, 3.7133514881134033, 3.7134101390838623, 3.713359832763672, 3.7133071422576904, 3.713313102722168, 3.7133195400238037, 3.71329927444458, 3.713294744491577, 3.713284492492676, 3.713282346725464, 3.7132925987243652, 3.7132420539855957, 3.7132527828216553, 3.713270902633667, 3.7132582664489746, 3.7132716178894043, 3.713268280029297, 3.7132694721221924, 3.7132456302642822, 3.7132697105407715, 3.7132439613342285, 3.713230609893799, 3.713212490081787, 3.7132701873779297, 3.7132532596588135, 3.713235855102539, 3.713209629058838, 3.7132034301757812, 3.713212251663208, 3.7132132053375244, 3.7132527828216553, 3.7132251262664795, 3.713216781616211, 3.713188886642456, 3.713230848312378, 3.713224411010742, 3.713254690170288, 3.7132484912872314, 3.7132532596588135, 3.7132859230041504, 3.7131996154785156, 3.7132139205932617, 3.713221788406372, 3.7132668495178223, 3.7131919860839844, 3.7131855487823486, 3.7132039070129395, 3.713207960128784, 3.7132179737091064, 3.713153123855591, 3.713214635848999, 3.7132396697998047, 3.7133212089538574, 3.7132351398468018, 3.7131779193878174, 3.7132315635681152, 3.713235855102539, 3.7131545543670654, 3.7132668495178223, 3.7131969928741455, 3.713186502456665, 3.713094711303711, 3.7131502628326416, 3.7130916118621826, 3.7131052017211914, 3.713097333908081, 3.7130675315856934, 3.713122844696045, 3.713081121444702, 3.713083267211914, 3.7131383419036865, 3.7131078243255615, 3.7130796909332275, 3.7131102085113525, 3.7131271362304688, 3.71307110786438, 3.7130472660064697, 3.7130446434020996, 3.713066816329956, 3.7130351066589355, 3.7130091190338135, 3.71303391456604, 3.713064432144165, 3.713050603866577, 3.71301531791687, 3.7130351066589355, 3.713101625442505, 3.713012218475342, 3.7130417823791504, 3.71303391456604, 3.7130844593048096, 3.7130444049835205, 3.7130093574523926, 3.7130234241485596, 3.7131028175354004, 3.713007688522339, 3.713005542755127, 3.713031768798828, 3.713009834289551, 3.7130653858184814, 3.7129874229431152, 3.713002920150757, 3.7129881381988525, 3.7130160331726074, 3.71297550201416, 3.7129950523376465, 3.7130138874053955, 3.713001251220703, 3.712984561920166, 3.712980031967163, 3.7130141258239746, 3.71297550201416, 3.7129476070404053, 3.713028907775879, 3.713005781173706, 3.7129483222961426, 3.7129335403442383, 3.7129759788513184, 3.7129271030426025, 3.7129859924316406, 3.713028907775879, 3.7129600048065186, 3.7129852771759033, 3.7129745483398438, 3.7129831314086914, 3.7129623889923096, 3.7129831314086914, 3.71296763420105, 3.712949275970459, 3.712968349456787, 3.7129619121551514, 3.7129831314086914, 3.7129900455474854, 3.712972402572632]}],                        {\"template\": {\"data\": {\"bar\": [{\"error_x\": {\"color\": \"#2a3f5f\"}, \"error_y\": {\"color\": \"#2a3f5f\"}, \"marker\": {\"line\": {\"color\": \"#E5ECF6\", \"width\": 0.5}}, \"type\": \"bar\"}], \"barpolar\": [{\"marker\": {\"line\": {\"color\": \"#E5ECF6\", \"width\": 0.5}}, \"type\": \"barpolar\"}], \"carpet\": [{\"aaxis\": {\"endlinecolor\": \"#2a3f5f\", \"gridcolor\": \"white\", \"linecolor\": \"white\", \"minorgridcolor\": \"white\", \"startlinecolor\": \"#2a3f5f\"}, \"baxis\": {\"endlinecolor\": \"#2a3f5f\", \"gridcolor\": \"white\", \"linecolor\": \"white\", \"minorgridcolor\": \"white\", \"startlinecolor\": \"#2a3f5f\"}, \"type\": \"carpet\"}], \"choropleth\": [{\"colorbar\": {\"outlinewidth\": 0, \"ticks\": \"\"}, \"type\": \"choropleth\"}], \"contour\": [{\"colorbar\": {\"outlinewidth\": 0, \"ticks\": \"\"}, \"colorscale\": [[0.0, \"#0d0887\"], [0.1111111111111111, \"#46039f\"], [0.2222222222222222, \"#7201a8\"], [0.3333333333333333, \"#9c179e\"], [0.4444444444444444, \"#bd3786\"], [0.5555555555555556, \"#d8576b\"], [0.6666666666666666, \"#ed7953\"], [0.7777777777777778, \"#fb9f3a\"], [0.8888888888888888, \"#fdca26\"], [1.0, \"#f0f921\"]], \"type\": \"contour\"}], \"contourcarpet\": [{\"colorbar\": {\"outlinewidth\": 0, \"ticks\": \"\"}, \"type\": \"contourcarpet\"}], \"heatmap\": [{\"colorbar\": {\"outlinewidth\": 0, \"ticks\": \"\"}, \"colorscale\": [[0.0, \"#0d0887\"], [0.1111111111111111, \"#46039f\"], [0.2222222222222222, \"#7201a8\"], [0.3333333333333333, \"#9c179e\"], [0.4444444444444444, \"#bd3786\"], [0.5555555555555556, \"#d8576b\"], [0.6666666666666666, \"#ed7953\"], [0.7777777777777778, \"#fb9f3a\"], [0.8888888888888888, \"#fdca26\"], [1.0, \"#f0f921\"]], \"type\": \"heatmap\"}], \"heatmapgl\": [{\"colorbar\": {\"outlinewidth\": 0, \"ticks\": \"\"}, \"colorscale\": [[0.0, \"#0d0887\"], [0.1111111111111111, \"#46039f\"], [0.2222222222222222, \"#7201a8\"], [0.3333333333333333, \"#9c179e\"], [0.4444444444444444, \"#bd3786\"], [0.5555555555555556, \"#d8576b\"], [0.6666666666666666, \"#ed7953\"], [0.7777777777777778, \"#fb9f3a\"], [0.8888888888888888, \"#fdca26\"], [1.0, \"#f0f921\"]], \"type\": \"heatmapgl\"}], \"histogram\": [{\"marker\": {\"colorbar\": {\"outlinewidth\": 0, \"ticks\": \"\"}}, \"type\": \"histogram\"}], \"histogram2d\": [{\"colorbar\": {\"outlinewidth\": 0, \"ticks\": \"\"}, \"colorscale\": [[0.0, \"#0d0887\"], [0.1111111111111111, \"#46039f\"], [0.2222222222222222, \"#7201a8\"], [0.3333333333333333, \"#9c179e\"], [0.4444444444444444, \"#bd3786\"], [0.5555555555555556, \"#d8576b\"], [0.6666666666666666, \"#ed7953\"], [0.7777777777777778, \"#fb9f3a\"], [0.8888888888888888, \"#fdca26\"], [1.0, \"#f0f921\"]], \"type\": \"histogram2d\"}], \"histogram2dcontour\": [{\"colorbar\": {\"outlinewidth\": 0, \"ticks\": \"\"}, \"colorscale\": [[0.0, \"#0d0887\"], [0.1111111111111111, \"#46039f\"], [0.2222222222222222, \"#7201a8\"], [0.3333333333333333, \"#9c179e\"], [0.4444444444444444, \"#bd3786\"], [0.5555555555555556, \"#d8576b\"], [0.6666666666666666, \"#ed7953\"], [0.7777777777777778, \"#fb9f3a\"], [0.8888888888888888, \"#fdca26\"], [1.0, \"#f0f921\"]], \"type\": \"histogram2dcontour\"}], \"mesh3d\": [{\"colorbar\": {\"outlinewidth\": 0, \"ticks\": \"\"}, \"type\": \"mesh3d\"}], \"parcoords\": [{\"line\": {\"colorbar\": {\"outlinewidth\": 0, \"ticks\": \"\"}}, \"type\": \"parcoords\"}], \"pie\": [{\"automargin\": true, \"type\": \"pie\"}], \"scatter\": [{\"marker\": {\"colorbar\": {\"outlinewidth\": 0, \"ticks\": \"\"}}, \"type\": \"scatter\"}], \"scatter3d\": [{\"line\": {\"colorbar\": {\"outlinewidth\": 0, \"ticks\": \"\"}}, \"marker\": {\"colorbar\": {\"outlinewidth\": 0, \"ticks\": \"\"}}, \"type\": \"scatter3d\"}], \"scattercarpet\": [{\"marker\": {\"colorbar\": {\"outlinewidth\": 0, \"ticks\": \"\"}}, \"type\": \"scattercarpet\"}], \"scattergeo\": [{\"marker\": {\"colorbar\": {\"outlinewidth\": 0, \"ticks\": \"\"}}, \"type\": \"scattergeo\"}], \"scattergl\": [{\"marker\": {\"colorbar\": {\"outlinewidth\": 0, \"ticks\": \"\"}}, \"type\": \"scattergl\"}], \"scattermapbox\": [{\"marker\": {\"colorbar\": {\"outlinewidth\": 0, \"ticks\": \"\"}}, \"type\": \"scattermapbox\"}], \"scatterpolar\": [{\"marker\": {\"colorbar\": {\"outlinewidth\": 0, \"ticks\": \"\"}}, \"type\": \"scatterpolar\"}], \"scatterpolargl\": [{\"marker\": {\"colorbar\": {\"outlinewidth\": 0, \"ticks\": \"\"}}, \"type\": \"scatterpolargl\"}], \"scatterternary\": [{\"marker\": {\"colorbar\": {\"outlinewidth\": 0, \"ticks\": \"\"}}, \"type\": \"scatterternary\"}], \"surface\": [{\"colorbar\": {\"outlinewidth\": 0, \"ticks\": \"\"}, \"colorscale\": [[0.0, \"#0d0887\"], [0.1111111111111111, \"#46039f\"], [0.2222222222222222, \"#7201a8\"], [0.3333333333333333, \"#9c179e\"], [0.4444444444444444, \"#bd3786\"], [0.5555555555555556, \"#d8576b\"], [0.6666666666666666, \"#ed7953\"], [0.7777777777777778, \"#fb9f3a\"], [0.8888888888888888, \"#fdca26\"], [1.0, \"#f0f921\"]], \"type\": \"surface\"}], \"table\": [{\"cells\": {\"fill\": {\"color\": \"#EBF0F8\"}, \"line\": {\"color\": \"white\"}}, \"header\": {\"fill\": {\"color\": \"#C8D4E3\"}, \"line\": {\"color\": \"white\"}}, \"type\": \"table\"}]}, \"layout\": {\"annotationdefaults\": {\"arrowcolor\": \"#2a3f5f\", \"arrowhead\": 0, \"arrowwidth\": 1}, \"autotypenumbers\": \"strict\", \"coloraxis\": {\"colorbar\": {\"outlinewidth\": 0, \"ticks\": \"\"}}, \"colorscale\": {\"diverging\": [[0, \"#8e0152\"], [0.1, \"#c51b7d\"], [0.2, \"#de77ae\"], [0.3, \"#f1b6da\"], [0.4, \"#fde0ef\"], [0.5, \"#f7f7f7\"], [0.6, \"#e6f5d0\"], [0.7, \"#b8e186\"], [0.8, \"#7fbc41\"], [0.9, \"#4d9221\"], [1, \"#276419\"]], \"sequential\": [[0.0, \"#0d0887\"], [0.1111111111111111, \"#46039f\"], [0.2222222222222222, \"#7201a8\"], [0.3333333333333333, \"#9c179e\"], [0.4444444444444444, \"#bd3786\"], [0.5555555555555556, \"#d8576b\"], [0.6666666666666666, \"#ed7953\"], [0.7777777777777778, \"#fb9f3a\"], [0.8888888888888888, \"#fdca26\"], [1.0, \"#f0f921\"]], \"sequentialminus\": [[0.0, \"#0d0887\"], [0.1111111111111111, \"#46039f\"], [0.2222222222222222, \"#7201a8\"], [0.3333333333333333, \"#9c179e\"], [0.4444444444444444, \"#bd3786\"], [0.5555555555555556, \"#d8576b\"], [0.6666666666666666, \"#ed7953\"], [0.7777777777777778, \"#fb9f3a\"], [0.8888888888888888, \"#fdca26\"], [1.0, \"#f0f921\"]]}, \"colorway\": [\"#636efa\", \"#EF553B\", \"#00cc96\", \"#ab63fa\", \"#FFA15A\", \"#19d3f3\", \"#FF6692\", \"#B6E880\", \"#FF97FF\", \"#FECB52\"], \"font\": {\"color\": \"#2a3f5f\"}, \"geo\": {\"bgcolor\": \"white\", \"lakecolor\": \"white\", \"landcolor\": \"#E5ECF6\", \"showlakes\": true, \"showland\": true, \"subunitcolor\": \"white\"}, \"hoverlabel\": {\"align\": \"left\"}, \"hovermode\": \"closest\", \"mapbox\": {\"style\": \"light\"}, \"paper_bgcolor\": \"white\", \"plot_bgcolor\": \"#E5ECF6\", \"polar\": {\"angularaxis\": {\"gridcolor\": \"white\", \"linecolor\": \"white\", \"ticks\": \"\"}, \"bgcolor\": \"#E5ECF6\", \"radialaxis\": {\"gridcolor\": \"white\", \"linecolor\": \"white\", \"ticks\": \"\"}}, \"scene\": {\"xaxis\": {\"backgroundcolor\": \"#E5ECF6\", \"gridcolor\": \"white\", \"gridwidth\": 2, \"linecolor\": \"white\", \"showbackground\": true, \"ticks\": \"\", \"zerolinecolor\": \"white\"}, \"yaxis\": {\"backgroundcolor\": \"#E5ECF6\", \"gridcolor\": \"white\", \"gridwidth\": 2, \"linecolor\": \"white\", \"showbackground\": true, \"ticks\": \"\", \"zerolinecolor\": \"white\"}, \"zaxis\": {\"backgroundcolor\": \"#E5ECF6\", \"gridcolor\": \"white\", \"gridwidth\": 2, \"linecolor\": \"white\", \"showbackground\": true, \"ticks\": \"\", \"zerolinecolor\": \"white\"}}, \"shapedefaults\": {\"line\": {\"color\": \"#2a3f5f\"}}, \"ternary\": {\"aaxis\": {\"gridcolor\": \"white\", \"linecolor\": \"white\", \"ticks\": \"\"}, \"baxis\": {\"gridcolor\": \"white\", \"linecolor\": \"white\", \"ticks\": \"\"}, \"bgcolor\": \"#E5ECF6\", \"caxis\": {\"gridcolor\": \"white\", \"linecolor\": \"white\", \"ticks\": \"\"}}, \"title\": {\"x\": 0.05}, \"xaxis\": {\"automargin\": true, \"gridcolor\": \"white\", \"linecolor\": \"white\", \"ticks\": \"\", \"title\": {\"standoff\": 15}, \"zerolinecolor\": \"white\", \"zerolinewidth\": 2}, \"yaxis\": {\"automargin\": true, \"gridcolor\": \"white\", \"linecolor\": \"white\", \"ticks\": \"\", \"title\": {\"standoff\": 15}, \"zerolinecolor\": \"white\", \"zerolinewidth\": 2}}}, \"title\": {\"text\": \"model loss\"}, \"xaxis\": {\"title\": {\"text\": \"epoch\"}}, \"yaxis\": {\"title\": {\"text\": \"loss\"}}},                        {\"responsive\": true}                    ).then(function(){\n",
       "                            \n",
       "var gd = document.getElementById('49c6df30-76be-4615-8df4-1df2ad465f45');\n",
       "var x = new MutationObserver(function (mutations, observer) {{\n",
       "        var display = window.getComputedStyle(gd).display;\n",
       "        if (!display || display === 'none') {{\n",
       "            console.log([gd, 'removed!']);\n",
       "            Plotly.purge(gd);\n",
       "            observer.disconnect();\n",
       "        }}\n",
       "}});\n",
       "\n",
       "// Listen for the removal of the full notebook cells\n",
       "var notebookContainer = gd.closest('#notebook-container');\n",
       "if (notebookContainer) {{\n",
       "    x.observe(notebookContainer, {childList: true});\n",
       "}}\n",
       "\n",
       "// Listen for the clearing of the current output cell\n",
       "var outputEl = gd.closest('.output');\n",
       "if (outputEl) {{\n",
       "    x.observe(outputEl, {childList: true});\n",
       "}}\n",
       "\n",
       "                        })                };                });            </script>        </div>"
      ]
     },
     "metadata": {},
     "output_type": "display_data"
    }
   ],
   "source": [
    "def plot_hist(hist):\n",
    "\n",
    "    x = np.arange(10)\n",
    "\n",
    "    fig = go.Figure(data=go.Scatter(y=hist.history['loss']))\n",
    "    fig.update_layout(title=\"model loss\", \n",
    "                    xaxis_title=\"epoch\",\n",
    "                    yaxis_title=\"loss\",\n",
    "                    )\n",
    "    fig.show()\n",
    "\n",
    "plot_hist(hist)"
   ]
  },
  {
   "cell_type": "code",
   "execution_count": 38,
   "id": "favorite-stationery",
   "metadata": {},
   "outputs": [
    {
     "name": "stdout",
     "output_type": "stream",
     "text": [
      "3/3 [==============================] - 0s 2ms/step - loss: 3.7437 - accuracy: 0.0842\n"
     ]
    },
    {
     "data": {
      "text/plain": [
       "[3.743685007095337, 0.08421052992343903]"
      ]
     },
     "execution_count": 38,
     "metadata": {},
     "output_type": "execute_result"
    }
   ],
   "source": [
    "test_loss = model.evaluate(X_test, X_test)\n",
    "test_loss"
   ]
  },
  {
   "cell_type": "code",
   "execution_count": 39,
   "id": "fossil-company",
   "metadata": {},
   "outputs": [],
   "source": [
    "new_matrix = model.predict(X_train)"
   ]
  },
  {
   "cell_type": "code",
   "execution_count": 40,
   "id": "floral-raleigh",
   "metadata": {},
   "outputs": [
    {
     "name": "stdout",
     "output_type": "stream",
     "text": [
      "[[0. 0. 0. ... 0. 0. 0.]\n",
      " [0. 0. 0. ... 0. 0. 0.]\n",
      " [0. 0. 0. ... 0. 0. 0.]\n",
      " [0. 0. 0. ... 0. 0. 0.]\n",
      " [4. 0. 0. ... 0. 0. 0.]]\n"
     ]
    }
   ],
   "source": [
    "print(X_train[:5])"
   ]
  },
  {
   "cell_type": "code",
   "execution_count": 41,
   "id": "equivalent-adapter",
   "metadata": {},
   "outputs": [
    {
     "name": "stdout",
     "output_type": "stream",
     "text": [
      "[[3.4645340e-12 1.2937381e-19 1.5261524e-20 ... 2.4920434e-19\n",
      "  3.9274649e-19 2.6312877e-20]\n",
      " [5.9108607e-10 2.3786411e-12 1.1261865e-12 ... 1.3120129e-12\n",
      "  1.5463535e-12 1.2609612e-12]\n",
      " [2.8969255e-14 7.2423726e-16 5.5400555e-16 ... 2.9711981e-16\n",
      "  4.7717474e-16 3.8383332e-16]\n",
      " [1.9799973e-12 2.3488965e-17 2.7948156e-17 ... 1.7275401e-17\n",
      "  8.6469772e-18 3.9192802e-18]\n",
      " [1.1503034e-15 4.4682132e-25 1.5302045e-26 ... 5.9651645e-25\n",
      "  7.6550702e-25 3.1352519e-26]]\n"
     ]
    }
   ],
   "source": [
    "print(new_matrix[:5])"
   ]
  },
  {
   "cell_type": "code",
   "execution_count": null,
   "id": "computational-scheduling",
   "metadata": {},
   "outputs": [],
   "source": []
  },
  {
   "cell_type": "code",
   "execution_count": null,
   "id": "nervous-contrary",
   "metadata": {},
   "outputs": [],
   "source": []
  }
 ],
 "metadata": {
  "kernelspec": {
   "display_name": "Python 3",
   "language": "python",
   "name": "python3"
  },
  "language_info": {
   "codemirror_mode": {
    "name": "ipython",
    "version": 3
   },
   "file_extension": ".py",
   "mimetype": "text/x-python",
   "name": "python",
   "nbconvert_exporter": "python",
   "pygments_lexer": "ipython3",
   "version": "3.8.5"
  }
 },
 "nbformat": 4,
 "nbformat_minor": 5
}
