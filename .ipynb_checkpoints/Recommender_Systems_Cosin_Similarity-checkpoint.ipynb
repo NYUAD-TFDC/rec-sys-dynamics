{
 "cells": [
  {
   "cell_type": "markdown",
   "id": "circular-button",
   "metadata": {},
   "source": [
    "# Collaborative Filtering Recommender System based on Cosin Similarity\n",
    "\n",
    "### Purpose\n",
    "To get a working cosin similarity model based off of collaborative filtering\n",
    "\n",
    "### Methodology\n",
    "This notebook assumes that the model will receive a pre-processed dataset of user-item interactions. For simplification purposes, it uses the [small movielens dataset](https://surprise.readthedocs.io/en/stable/dataset.html)\n",
    "\n",
    "### Author Information\n",
    "Nishant Aswani (@niniack)\n"
   ]
  },
  {
   "cell_type": "markdown",
   "id": "russian-universe",
   "metadata": {},
   "source": [
    "### Setup (Imports)"
   ]
  },
  {
   "cell_type": "code",
   "execution_count": 40,
   "id": "documentary-spirit",
   "metadata": {},
   "outputs": [],
   "source": [
    "# Data manipulation\n",
    "import pandas as pd\n",
    "import numpy as np\n",
    "from lenskit import batch, topn, util\n",
    "from lenskit import crossfold as xf\n",
    "from lenskit.algorithms import Recommender, Predictor, als, basic, user_knn\n",
    "from lenskit import topn\n",
    "from scipy import sparse\n",
    "from sklearn.metrics.pairwise import cosine_similarity\n",
    "\n",
    "# Dataset\n",
    "from lenskit.datasets import ML100K\n",
    "movielens = ML100K('ml-100k')\n",
    "\n",
    "# Options for pandas\n",
    "pd.options.display.max_columns = 50\n",
    "pd.options.display.max_rows = 30\n",
    "\n",
    "# Visualizations\n",
    "import plotly.graph_objs as go\n",
    "\n",
    "# Autoreload extension\n",
    "if 'autoreload' not in get_ipython().extension_manager.loaded:\n",
    "    %load_ext autoreload\n",
    "    \n",
    "%autoreload 2"
   ]
  },
  {
   "cell_type": "markdown",
   "id": "improving-replacement",
   "metadata": {},
   "source": [
    "### Downloading ML100K Dataset"
   ]
  },
  {
   "cell_type": "code",
   "execution_count": 2,
   "id": "noted-found",
   "metadata": {},
   "outputs": [],
   "source": [
    "# %%!\n",
    "# wget -q -O ml-100k.zip http://files.grouplens.org/datasets/movielens/ml-100k.zip\n",
    "\n",
    "## This unzip method may not work!\n",
    "# unzip -f ml-100k.zip"
   ]
  },
  {
   "cell_type": "markdown",
   "id": "victorian-paint",
   "metadata": {},
   "source": [
    "### Data Exploration\n",
    "\n",
    "The lenskit ML100K dataset provides the following: movies, ratings, users"
   ]
  },
  {
   "cell_type": "code",
   "execution_count": 3,
   "id": "vertical-fusion",
   "metadata": {},
   "outputs": [
    {
     "data": {
      "text/html": [
       "<div>\n",
       "<style scoped>\n",
       "    .dataframe tbody tr th:only-of-type {\n",
       "        vertical-align: middle;\n",
       "    }\n",
       "\n",
       "    .dataframe tbody tr th {\n",
       "        vertical-align: top;\n",
       "    }\n",
       "\n",
       "    .dataframe thead th {\n",
       "        text-align: right;\n",
       "    }\n",
       "</style>\n",
       "<table border=\"1\" class=\"dataframe\">\n",
       "  <thead>\n",
       "    <tr style=\"text-align: right;\">\n",
       "      <th></th>\n",
       "      <th>user</th>\n",
       "      <th>item</th>\n",
       "      <th>rating</th>\n",
       "      <th>timestamp</th>\n",
       "    </tr>\n",
       "  </thead>\n",
       "  <tbody>\n",
       "    <tr>\n",
       "      <th>0</th>\n",
       "      <td>196</td>\n",
       "      <td>242</td>\n",
       "      <td>3.0</td>\n",
       "      <td>881250949</td>\n",
       "    </tr>\n",
       "    <tr>\n",
       "      <th>1</th>\n",
       "      <td>186</td>\n",
       "      <td>302</td>\n",
       "      <td>3.0</td>\n",
       "      <td>891717742</td>\n",
       "    </tr>\n",
       "    <tr>\n",
       "      <th>2</th>\n",
       "      <td>22</td>\n",
       "      <td>377</td>\n",
       "      <td>1.0</td>\n",
       "      <td>878887116</td>\n",
       "    </tr>\n",
       "    <tr>\n",
       "      <th>3</th>\n",
       "      <td>244</td>\n",
       "      <td>51</td>\n",
       "      <td>2.0</td>\n",
       "      <td>880606923</td>\n",
       "    </tr>\n",
       "    <tr>\n",
       "      <th>4</th>\n",
       "      <td>166</td>\n",
       "      <td>346</td>\n",
       "      <td>1.0</td>\n",
       "      <td>886397596</td>\n",
       "    </tr>\n",
       "  </tbody>\n",
       "</table>\n",
       "</div>"
      ],
      "text/plain": [
       "   user  item  rating  timestamp\n",
       "0   196   242     3.0  881250949\n",
       "1   186   302     3.0  891717742\n",
       "2    22   377     1.0  878887116\n",
       "3   244    51     2.0  880606923\n",
       "4   166   346     1.0  886397596"
      ]
     },
     "execution_count": 3,
     "metadata": {},
     "output_type": "execute_result"
    }
   ],
   "source": [
    "ratings = movielens.ratings\n",
    "ratings.head()"
   ]
  },
  {
   "cell_type": "code",
   "execution_count": 4,
   "id": "received-grill",
   "metadata": {},
   "outputs": [
    {
     "data": {
      "text/plain": [
       "100000"
      ]
     },
     "execution_count": 4,
     "metadata": {},
     "output_type": "execute_result"
    }
   ],
   "source": [
    "len(ratings)"
   ]
  },
  {
   "cell_type": "code",
   "execution_count": 5,
   "id": "color-terminal",
   "metadata": {},
   "outputs": [
    {
     "data": {
      "text/html": [
       "<div>\n",
       "<style scoped>\n",
       "    .dataframe tbody tr th:only-of-type {\n",
       "        vertical-align: middle;\n",
       "    }\n",
       "\n",
       "    .dataframe tbody tr th {\n",
       "        vertical-align: top;\n",
       "    }\n",
       "\n",
       "    .dataframe thead th {\n",
       "        text-align: right;\n",
       "    }\n",
       "</style>\n",
       "<table border=\"1\" class=\"dataframe\">\n",
       "  <thead>\n",
       "    <tr style=\"text-align: right;\">\n",
       "      <th></th>\n",
       "      <th>age</th>\n",
       "      <th>gender</th>\n",
       "      <th>occupation</th>\n",
       "      <th>zip</th>\n",
       "    </tr>\n",
       "    <tr>\n",
       "      <th>user</th>\n",
       "      <th></th>\n",
       "      <th></th>\n",
       "      <th></th>\n",
       "      <th></th>\n",
       "    </tr>\n",
       "  </thead>\n",
       "  <tbody>\n",
       "    <tr>\n",
       "      <th>1</th>\n",
       "      <td>24</td>\n",
       "      <td>M</td>\n",
       "      <td>technician</td>\n",
       "      <td>85711</td>\n",
       "    </tr>\n",
       "    <tr>\n",
       "      <th>2</th>\n",
       "      <td>53</td>\n",
       "      <td>F</td>\n",
       "      <td>other</td>\n",
       "      <td>94043</td>\n",
       "    </tr>\n",
       "    <tr>\n",
       "      <th>3</th>\n",
       "      <td>23</td>\n",
       "      <td>M</td>\n",
       "      <td>writer</td>\n",
       "      <td>32067</td>\n",
       "    </tr>\n",
       "    <tr>\n",
       "      <th>4</th>\n",
       "      <td>24</td>\n",
       "      <td>M</td>\n",
       "      <td>technician</td>\n",
       "      <td>43537</td>\n",
       "    </tr>\n",
       "    <tr>\n",
       "      <th>5</th>\n",
       "      <td>33</td>\n",
       "      <td>F</td>\n",
       "      <td>other</td>\n",
       "      <td>15213</td>\n",
       "    </tr>\n",
       "  </tbody>\n",
       "</table>\n",
       "</div>"
      ],
      "text/plain": [
       "      age gender  occupation    zip\n",
       "user                               \n",
       "1      24      M  technician  85711\n",
       "2      53      F       other  94043\n",
       "3      23      M      writer  32067\n",
       "4      24      M  technician  43537\n",
       "5      33      F       other  15213"
      ]
     },
     "execution_count": 5,
     "metadata": {},
     "output_type": "execute_result"
    }
   ],
   "source": [
    "users = movielens.users\n",
    "users.head()"
   ]
  },
  {
   "cell_type": "code",
   "execution_count": 6,
   "id": "classified-workstation",
   "metadata": {},
   "outputs": [
    {
     "data": {
      "text/plain": [
       "943"
      ]
     },
     "execution_count": 6,
     "metadata": {},
     "output_type": "execute_result"
    }
   ],
   "source": [
    "len(users)"
   ]
  },
  {
   "cell_type": "code",
   "execution_count": 7,
   "id": "greenhouse-civilian",
   "metadata": {},
   "outputs": [
    {
     "data": {
      "text/html": [
       "<div>\n",
       "<style scoped>\n",
       "    .dataframe tbody tr th:only-of-type {\n",
       "        vertical-align: middle;\n",
       "    }\n",
       "\n",
       "    .dataframe tbody tr th {\n",
       "        vertical-align: top;\n",
       "    }\n",
       "\n",
       "    .dataframe thead th {\n",
       "        text-align: right;\n",
       "    }\n",
       "</style>\n",
       "<table border=\"1\" class=\"dataframe\">\n",
       "  <thead>\n",
       "    <tr style=\"text-align: right;\">\n",
       "      <th></th>\n",
       "      <th>title</th>\n",
       "      <th>release</th>\n",
       "      <th>vidrelease</th>\n",
       "      <th>imdb</th>\n",
       "      <th>unknown</th>\n",
       "      <th>Action</th>\n",
       "      <th>Adventure</th>\n",
       "      <th>Animation</th>\n",
       "      <th>Children's</th>\n",
       "      <th>Comedy</th>\n",
       "      <th>Crime</th>\n",
       "      <th>Documentary</th>\n",
       "      <th>Drama</th>\n",
       "      <th>Fantasy</th>\n",
       "      <th>Film-Noir</th>\n",
       "      <th>Horror</th>\n",
       "      <th>Musical</th>\n",
       "      <th>Mystery</th>\n",
       "      <th>Romance</th>\n",
       "      <th>Sci-Fi</th>\n",
       "      <th>Thriller</th>\n",
       "      <th>War</th>\n",
       "      <th>Western</th>\n",
       "    </tr>\n",
       "    <tr>\n",
       "      <th>item</th>\n",
       "      <th></th>\n",
       "      <th></th>\n",
       "      <th></th>\n",
       "      <th></th>\n",
       "      <th></th>\n",
       "      <th></th>\n",
       "      <th></th>\n",
       "      <th></th>\n",
       "      <th></th>\n",
       "      <th></th>\n",
       "      <th></th>\n",
       "      <th></th>\n",
       "      <th></th>\n",
       "      <th></th>\n",
       "      <th></th>\n",
       "      <th></th>\n",
       "      <th></th>\n",
       "      <th></th>\n",
       "      <th></th>\n",
       "      <th></th>\n",
       "      <th></th>\n",
       "      <th></th>\n",
       "      <th></th>\n",
       "    </tr>\n",
       "  </thead>\n",
       "  <tbody>\n",
       "    <tr>\n",
       "      <th>1</th>\n",
       "      <td>Toy Story (1995)</td>\n",
       "      <td>01-Jan-1995</td>\n",
       "      <td>NaN</td>\n",
       "      <td>http://us.imdb.com/M/title-exact?Toy%20Story%2...</td>\n",
       "      <td>0</td>\n",
       "      <td>0</td>\n",
       "      <td>0</td>\n",
       "      <td>1</td>\n",
       "      <td>1</td>\n",
       "      <td>1</td>\n",
       "      <td>0</td>\n",
       "      <td>0</td>\n",
       "      <td>0</td>\n",
       "      <td>0</td>\n",
       "      <td>0</td>\n",
       "      <td>0</td>\n",
       "      <td>0</td>\n",
       "      <td>0</td>\n",
       "      <td>0</td>\n",
       "      <td>0</td>\n",
       "      <td>0</td>\n",
       "      <td>0</td>\n",
       "      <td>0</td>\n",
       "    </tr>\n",
       "    <tr>\n",
       "      <th>2</th>\n",
       "      <td>GoldenEye (1995)</td>\n",
       "      <td>01-Jan-1995</td>\n",
       "      <td>NaN</td>\n",
       "      <td>http://us.imdb.com/M/title-exact?GoldenEye%20(...</td>\n",
       "      <td>0</td>\n",
       "      <td>1</td>\n",
       "      <td>1</td>\n",
       "      <td>0</td>\n",
       "      <td>0</td>\n",
       "      <td>0</td>\n",
       "      <td>0</td>\n",
       "      <td>0</td>\n",
       "      <td>0</td>\n",
       "      <td>0</td>\n",
       "      <td>0</td>\n",
       "      <td>0</td>\n",
       "      <td>0</td>\n",
       "      <td>0</td>\n",
       "      <td>0</td>\n",
       "      <td>0</td>\n",
       "      <td>1</td>\n",
       "      <td>0</td>\n",
       "      <td>0</td>\n",
       "    </tr>\n",
       "    <tr>\n",
       "      <th>3</th>\n",
       "      <td>Four Rooms (1995)</td>\n",
       "      <td>01-Jan-1995</td>\n",
       "      <td>NaN</td>\n",
       "      <td>http://us.imdb.com/M/title-exact?Four%20Rooms%...</td>\n",
       "      <td>0</td>\n",
       "      <td>0</td>\n",
       "      <td>0</td>\n",
       "      <td>0</td>\n",
       "      <td>0</td>\n",
       "      <td>0</td>\n",
       "      <td>0</td>\n",
       "      <td>0</td>\n",
       "      <td>0</td>\n",
       "      <td>0</td>\n",
       "      <td>0</td>\n",
       "      <td>0</td>\n",
       "      <td>0</td>\n",
       "      <td>0</td>\n",
       "      <td>0</td>\n",
       "      <td>0</td>\n",
       "      <td>1</td>\n",
       "      <td>0</td>\n",
       "      <td>0</td>\n",
       "    </tr>\n",
       "    <tr>\n",
       "      <th>4</th>\n",
       "      <td>Get Shorty (1995)</td>\n",
       "      <td>01-Jan-1995</td>\n",
       "      <td>NaN</td>\n",
       "      <td>http://us.imdb.com/M/title-exact?Get%20Shorty%...</td>\n",
       "      <td>0</td>\n",
       "      <td>1</td>\n",
       "      <td>0</td>\n",
       "      <td>0</td>\n",
       "      <td>0</td>\n",
       "      <td>1</td>\n",
       "      <td>0</td>\n",
       "      <td>0</td>\n",
       "      <td>1</td>\n",
       "      <td>0</td>\n",
       "      <td>0</td>\n",
       "      <td>0</td>\n",
       "      <td>0</td>\n",
       "      <td>0</td>\n",
       "      <td>0</td>\n",
       "      <td>0</td>\n",
       "      <td>0</td>\n",
       "      <td>0</td>\n",
       "      <td>0</td>\n",
       "    </tr>\n",
       "    <tr>\n",
       "      <th>5</th>\n",
       "      <td>Copycat (1995)</td>\n",
       "      <td>01-Jan-1995</td>\n",
       "      <td>NaN</td>\n",
       "      <td>http://us.imdb.com/M/title-exact?Copycat%20(1995)</td>\n",
       "      <td>0</td>\n",
       "      <td>0</td>\n",
       "      <td>0</td>\n",
       "      <td>0</td>\n",
       "      <td>0</td>\n",
       "      <td>0</td>\n",
       "      <td>1</td>\n",
       "      <td>0</td>\n",
       "      <td>1</td>\n",
       "      <td>0</td>\n",
       "      <td>0</td>\n",
       "      <td>0</td>\n",
       "      <td>0</td>\n",
       "      <td>0</td>\n",
       "      <td>0</td>\n",
       "      <td>0</td>\n",
       "      <td>1</td>\n",
       "      <td>0</td>\n",
       "      <td>0</td>\n",
       "    </tr>\n",
       "  </tbody>\n",
       "</table>\n",
       "</div>"
      ],
      "text/plain": [
       "                  title      release  vidrelease  \\\n",
       "item                                               \n",
       "1      Toy Story (1995)  01-Jan-1995         NaN   \n",
       "2      GoldenEye (1995)  01-Jan-1995         NaN   \n",
       "3     Four Rooms (1995)  01-Jan-1995         NaN   \n",
       "4     Get Shorty (1995)  01-Jan-1995         NaN   \n",
       "5        Copycat (1995)  01-Jan-1995         NaN   \n",
       "\n",
       "                                                   imdb  unknown  Action  \\\n",
       "item                                                                       \n",
       "1     http://us.imdb.com/M/title-exact?Toy%20Story%2...        0       0   \n",
       "2     http://us.imdb.com/M/title-exact?GoldenEye%20(...        0       1   \n",
       "3     http://us.imdb.com/M/title-exact?Four%20Rooms%...        0       0   \n",
       "4     http://us.imdb.com/M/title-exact?Get%20Shorty%...        0       1   \n",
       "5     http://us.imdb.com/M/title-exact?Copycat%20(1995)        0       0   \n",
       "\n",
       "      Adventure  Animation  Children's  Comedy  Crime  Documentary  Drama  \\\n",
       "item                                                                        \n",
       "1             0          1           1       1      0            0      0   \n",
       "2             1          0           0       0      0            0      0   \n",
       "3             0          0           0       0      0            0      0   \n",
       "4             0          0           0       1      0            0      1   \n",
       "5             0          0           0       0      1            0      1   \n",
       "\n",
       "      Fantasy  Film-Noir  Horror  Musical  Mystery  Romance  Sci-Fi  Thriller  \\\n",
       "item                                                                            \n",
       "1           0          0       0        0        0        0       0         0   \n",
       "2           0          0       0        0        0        0       0         1   \n",
       "3           0          0       0        0        0        0       0         1   \n",
       "4           0          0       0        0        0        0       0         0   \n",
       "5           0          0       0        0        0        0       0         1   \n",
       "\n",
       "      War  Western  \n",
       "item                \n",
       "1       0        0  \n",
       "2       0        0  \n",
       "3       0        0  \n",
       "4       0        0  \n",
       "5       0        0  "
      ]
     },
     "execution_count": 7,
     "metadata": {},
     "output_type": "execute_result"
    }
   ],
   "source": [
    "movies = movielens.movies\n",
    "movies.head()"
   ]
  },
  {
   "cell_type": "code",
   "execution_count": 8,
   "id": "fifteen-enterprise",
   "metadata": {},
   "outputs": [
    {
     "data": {
      "text/plain": [
       "1682"
      ]
     },
     "execution_count": 8,
     "metadata": {},
     "output_type": "execute_result"
    }
   ],
   "source": [
    "len(movies)"
   ]
  },
  {
   "cell_type": "markdown",
   "id": "identified-trick",
   "metadata": {},
   "source": [
    "### Testing The \"Most Popular Item Recommendation\" System\n",
    "\n",
    "The popular recommender calculates a score for each item in the ratings matrix. When provided a user to recommend items to, the model returns the top scoring n items that the given user has not previously rated."
   ]
  },
  {
   "cell_type": "code",
   "execution_count": 9,
   "id": "reduced-justice",
   "metadata": {},
   "outputs": [
    {
     "data": {
      "text/plain": [
       "<lenskit.algorithms.basic.Popular at 0x7fc7947b2fd0>"
      ]
     },
     "execution_count": 9,
     "metadata": {},
     "output_type": "execute_result"
    }
   ],
   "source": [
    "# Initializing and \"training\" the popular recommender\n",
    "algo_popular = basic.Popular()\n",
    "algo_popular.fit(ratings)"
   ]
  },
  {
   "cell_type": "code",
   "execution_count": 10,
   "id": "growing-wings",
   "metadata": {},
   "outputs": [
    {
     "data": {
      "text/html": [
       "<div>\n",
       "<style scoped>\n",
       "    .dataframe tbody tr th:only-of-type {\n",
       "        vertical-align: middle;\n",
       "    }\n",
       "\n",
       "    .dataframe tbody tr th {\n",
       "        vertical-align: top;\n",
       "    }\n",
       "\n",
       "    .dataframe thead th {\n",
       "        text-align: right;\n",
       "    }\n",
       "</style>\n",
       "<table border=\"1\" class=\"dataframe\">\n",
       "  <thead>\n",
       "    <tr style=\"text-align: right;\">\n",
       "      <th></th>\n",
       "      <th>item</th>\n",
       "      <th>score</th>\n",
       "    </tr>\n",
       "  </thead>\n",
       "  <tbody>\n",
       "    <tr>\n",
       "      <th>0</th>\n",
       "      <td>258</td>\n",
       "      <td>509.0</td>\n",
       "    </tr>\n",
       "    <tr>\n",
       "      <th>1</th>\n",
       "      <td>100</td>\n",
       "      <td>508.0</td>\n",
       "    </tr>\n",
       "    <tr>\n",
       "      <th>2</th>\n",
       "      <td>294</td>\n",
       "      <td>485.0</td>\n",
       "    </tr>\n",
       "    <tr>\n",
       "      <th>3</th>\n",
       "      <td>286</td>\n",
       "      <td>481.0</td>\n",
       "    </tr>\n",
       "    <tr>\n",
       "      <th>4</th>\n",
       "      <td>300</td>\n",
       "      <td>431.0</td>\n",
       "    </tr>\n",
       "    <tr>\n",
       "      <th>5</th>\n",
       "      <td>127</td>\n",
       "      <td>413.0</td>\n",
       "    </tr>\n",
       "    <tr>\n",
       "      <th>6</th>\n",
       "      <td>56</td>\n",
       "      <td>394.0</td>\n",
       "    </tr>\n",
       "    <tr>\n",
       "      <th>7</th>\n",
       "      <td>7</td>\n",
       "      <td>392.0</td>\n",
       "    </tr>\n",
       "    <tr>\n",
       "      <th>8</th>\n",
       "      <td>237</td>\n",
       "      <td>384.0</td>\n",
       "    </tr>\n",
       "    <tr>\n",
       "      <th>9</th>\n",
       "      <td>117</td>\n",
       "      <td>378.0</td>\n",
       "    </tr>\n",
       "  </tbody>\n",
       "</table>\n",
       "</div>"
      ],
      "text/plain": [
       "   item  score\n",
       "0   258  509.0\n",
       "1   100  508.0\n",
       "2   294  485.0\n",
       "3   286  481.0\n",
       "4   300  431.0\n",
       "5   127  413.0\n",
       "6    56  394.0\n",
       "7     7  392.0\n",
       "8   237  384.0\n",
       "9   117  378.0"
      ]
     },
     "execution_count": 10,
     "metadata": {},
     "output_type": "execute_result"
    }
   ],
   "source": [
    "# Recommend the top 10 most popular items for UserID 20\n",
    "algo_popular.recommend(20, 10)"
   ]
  },
  {
   "cell_type": "code",
   "execution_count": 11,
   "id": "horizontal-report",
   "metadata": {},
   "outputs": [
    {
     "data": {
      "text/plain": [
       "item\n",
       "50      583\n",
       "258     509\n",
       "100     508\n",
       "181     507\n",
       "294     485\n",
       "       ... \n",
       "1576      1\n",
       "1577      1\n",
       "1348      1\n",
       "1579      1\n",
       "1682      1\n",
       "Name: user, Length: 1682, dtype: int64"
      ]
     },
     "execution_count": 11,
     "metadata": {},
     "output_type": "execute_result"
    }
   ],
   "source": [
    "pop = ratings.groupby('item').user.count()\n",
    "pop.sort_values(ascending=False)"
   ]
  },
  {
   "cell_type": "markdown",
   "id": "understanding-average",
   "metadata": {},
   "source": [
    "The highest recommendation, item 258, to user 20 is not the item with the highest score. However, it is the highest scoring item that user 20 has never rated."
   ]
  },
  {
   "cell_type": "code",
   "execution_count": 12,
   "id": "played-melbourne",
   "metadata": {},
   "outputs": [
    {
     "data": {
      "text/html": [
       "<div>\n",
       "<style scoped>\n",
       "    .dataframe tbody tr th:only-of-type {\n",
       "        vertical-align: middle;\n",
       "    }\n",
       "\n",
       "    .dataframe tbody tr th {\n",
       "        vertical-align: top;\n",
       "    }\n",
       "\n",
       "    .dataframe thead th {\n",
       "        text-align: right;\n",
       "    }\n",
       "</style>\n",
       "<table border=\"1\" class=\"dataframe\">\n",
       "  <thead>\n",
       "    <tr style=\"text-align: right;\">\n",
       "      <th></th>\n",
       "      <th>user</th>\n",
       "      <th>item</th>\n",
       "      <th>rating</th>\n",
       "      <th>timestamp</th>\n",
       "    </tr>\n",
       "  </thead>\n",
       "  <tbody>\n",
       "  </tbody>\n",
       "</table>\n",
       "</div>"
      ],
      "text/plain": [
       "Empty DataFrame\n",
       "Columns: [user, item, rating, timestamp]\n",
       "Index: []"
      ]
     },
     "execution_count": 12,
     "metadata": {},
     "output_type": "execute_result"
    }
   ],
   "source": [
    "ratings.loc[(ratings['user'] == 20) & (ratings['item'] == 258)]"
   ]
  },
  {
   "cell_type": "code",
   "execution_count": null,
   "id": "funny-survival",
   "metadata": {},
   "outputs": [],
   "source": []
  },
  {
   "cell_type": "markdown",
   "id": "material-publication",
   "metadata": {},
   "source": [
    "## User-User Collaborative Filtering Algorithm\n",
    "\n",
    "The goal of the user-user cosin approach is so that the model can be updated at each iteration, rather than retraining the entire mode. This will save computational cost and allow for the dynamics experiments to run much quicker"
   ]
  },
  {
   "cell_type": "markdown",
   "id": "usual-complexity",
   "metadata": {},
   "source": [
    "### Testing out the Scikit-learn Cosin Similarity function with Dummy Data"
   ]
  },
  {
   "cell_type": "code",
   "execution_count": 36,
   "id": "prospective-pursuit",
   "metadata": {},
   "outputs": [
    {
     "name": "stdout",
     "output_type": "stream",
     "text": [
      "[[0 1 0 0 1]\n",
      " [0 0 1 1 1]\n",
      " [1 1 0 1 0]]\n"
     ]
    }
   ],
   "source": [
    "A =  np.array([[0, 1, 0, 0, 1], [0, 0, 1, 1, 1],[1, 1, 0, 1, 0]])\n",
    "print(A)"
   ]
  },
  {
   "cell_type": "code",
   "execution_count": 54,
   "id": "assigned-engine",
   "metadata": {},
   "outputs": [
    {
     "data": {
      "text/plain": [
       "array([[0, 1, 0, 0, 1]])"
      ]
     },
     "execution_count": 54,
     "metadata": {},
     "output_type": "execute_result"
    }
   ],
   "source": [
    "A[0].reshape(1,-1)"
   ]
  },
  {
   "cell_type": "code",
   "execution_count": 55,
   "id": "behind-brass",
   "metadata": {},
   "outputs": [
    {
     "data": {
      "text/plain": [
       "array([[0, 0, 1, 1, 1]])"
      ]
     },
     "execution_count": 55,
     "metadata": {},
     "output_type": "execute_result"
    }
   ],
   "source": [
    "A[1].reshape(1,-1)"
   ]
  },
  {
   "cell_type": "code",
   "execution_count": 58,
   "id": "dried-horror",
   "metadata": {},
   "outputs": [
    {
     "data": {
      "text/plain": [
       "array([[0.40824829]])"
      ]
     },
     "execution_count": 58,
     "metadata": {},
     "output_type": "execute_result"
    }
   ],
   "source": [
    "similarities = cosine_similarity(A[0].reshape(1,-1), A[1].reshape(1,-1))\n",
    "similarities"
   ]
  },
  {
   "cell_type": "markdown",
   "id": "according-provider",
   "metadata": {},
   "source": [
    "### Testing out the Scikit-learn Cosin Similarity function with ML100K"
   ]
  },
  {
   "cell_type": "code",
   "execution_count": 146,
   "id": "gross-beijing",
   "metadata": {},
   "outputs": [],
   "source": [
    "user1_ratings = ratings[ratings['user'].values == 99]\n",
    "user2_ratings = ratings[ratings['user'].values == 100]"
   ]
  },
  {
   "cell_type": "code",
   "execution_count": 147,
   "id": "brazilian-circus",
   "metadata": {
    "scrolled": false
   },
   "outputs": [
    {
     "data": {
      "text/html": [
       "<div>\n",
       "<style scoped>\n",
       "    .dataframe tbody tr th:only-of-type {\n",
       "        vertical-align: middle;\n",
       "    }\n",
       "\n",
       "    .dataframe tbody tr th {\n",
       "        vertical-align: top;\n",
       "    }\n",
       "\n",
       "    .dataframe thead th {\n",
       "        text-align: right;\n",
       "    }\n",
       "</style>\n",
       "<table border=\"1\" class=\"dataframe\">\n",
       "  <thead>\n",
       "    <tr style=\"text-align: right;\">\n",
       "      <th></th>\n",
       "      <th>user_x</th>\n",
       "      <th>item</th>\n",
       "      <th>rating_x</th>\n",
       "      <th>timestamp_x</th>\n",
       "      <th>user_y</th>\n",
       "      <th>rating_y</th>\n",
       "      <th>timestamp_y</th>\n",
       "    </tr>\n",
       "  </thead>\n",
       "  <tbody>\n",
       "    <tr>\n",
       "      <th>0</th>\n",
       "      <td>99</td>\n",
       "      <td>268</td>\n",
       "      <td>3.0</td>\n",
       "      <td>885678247</td>\n",
       "      <td>100</td>\n",
       "      <td>3.0</td>\n",
       "      <td>891374982</td>\n",
       "    </tr>\n",
       "    <tr>\n",
       "      <th>1</th>\n",
       "      <td>99</td>\n",
       "      <td>354</td>\n",
       "      <td>2.0</td>\n",
       "      <td>888469332</td>\n",
       "      <td>100</td>\n",
       "      <td>2.0</td>\n",
       "      <td>891375260</td>\n",
       "    </tr>\n",
       "    <tr>\n",
       "      <th>2</th>\n",
       "      <td>99</td>\n",
       "      <td>895</td>\n",
       "      <td>3.0</td>\n",
       "      <td>885678304</td>\n",
       "      <td>100</td>\n",
       "      <td>2.0</td>\n",
       "      <td>891375212</td>\n",
       "    </tr>\n",
       "    <tr>\n",
       "      <th>3</th>\n",
       "      <td>99</td>\n",
       "      <td>346</td>\n",
       "      <td>4.0</td>\n",
       "      <td>885678415</td>\n",
       "      <td>100</td>\n",
       "      <td>3.0</td>\n",
       "      <td>891375630</td>\n",
       "    </tr>\n",
       "    <tr>\n",
       "      <th>4</th>\n",
       "      <td>99</td>\n",
       "      <td>258</td>\n",
       "      <td>5.0</td>\n",
       "      <td>885678696</td>\n",
       "      <td>100</td>\n",
       "      <td>4.0</td>\n",
       "      <td>891374675</td>\n",
       "    </tr>\n",
       "    <tr>\n",
       "      <th>5</th>\n",
       "      <td>99</td>\n",
       "      <td>288</td>\n",
       "      <td>4.0</td>\n",
       "      <td>885678247</td>\n",
       "      <td>100</td>\n",
       "      <td>2.0</td>\n",
       "      <td>891374603</td>\n",
       "    </tr>\n",
       "    <tr>\n",
       "      <th>6</th>\n",
       "      <td>99</td>\n",
       "      <td>328</td>\n",
       "      <td>4.0</td>\n",
       "      <td>885678696</td>\n",
       "      <td>100</td>\n",
       "      <td>4.0</td>\n",
       "      <td>891375212</td>\n",
       "    </tr>\n",
       "    <tr>\n",
       "      <th>7</th>\n",
       "      <td>99</td>\n",
       "      <td>342</td>\n",
       "      <td>1.0</td>\n",
       "      <td>885678348</td>\n",
       "      <td>100</td>\n",
       "      <td>3.0</td>\n",
       "      <td>891375454</td>\n",
       "    </tr>\n",
       "    <tr>\n",
       "      <th>8</th>\n",
       "      <td>99</td>\n",
       "      <td>751</td>\n",
       "      <td>4.0</td>\n",
       "      <td>885678397</td>\n",
       "      <td>100</td>\n",
       "      <td>4.0</td>\n",
       "      <td>891374868</td>\n",
       "    </tr>\n",
       "    <tr>\n",
       "      <th>9</th>\n",
       "      <td>99</td>\n",
       "      <td>315</td>\n",
       "      <td>4.0</td>\n",
       "      <td>885678479</td>\n",
       "      <td>100</td>\n",
       "      <td>5.0</td>\n",
       "      <td>891375557</td>\n",
       "    </tr>\n",
       "    <tr>\n",
       "      <th>10</th>\n",
       "      <td>99</td>\n",
       "      <td>300</td>\n",
       "      <td>4.0</td>\n",
       "      <td>885678397</td>\n",
       "      <td>100</td>\n",
       "      <td>4.0</td>\n",
       "      <td>891375112</td>\n",
       "    </tr>\n",
       "    <tr>\n",
       "      <th>11</th>\n",
       "      <td>99</td>\n",
       "      <td>313</td>\n",
       "      <td>5.0</td>\n",
       "      <td>885678348</td>\n",
       "      <td>100</td>\n",
       "      <td>5.0</td>\n",
       "      <td>891374706</td>\n",
       "    </tr>\n",
       "    <tr>\n",
       "      <th>12</th>\n",
       "      <td>99</td>\n",
       "      <td>310</td>\n",
       "      <td>3.0</td>\n",
       "      <td>885678348</td>\n",
       "      <td>100</td>\n",
       "      <td>3.0</td>\n",
       "      <td>891375522</td>\n",
       "    </tr>\n",
       "    <tr>\n",
       "      <th>13</th>\n",
       "      <td>99</td>\n",
       "      <td>326</td>\n",
       "      <td>3.0</td>\n",
       "      <td>885678267</td>\n",
       "      <td>100</td>\n",
       "      <td>3.0</td>\n",
       "      <td>891375630</td>\n",
       "    </tr>\n",
       "    <tr>\n",
       "      <th>14</th>\n",
       "      <td>99</td>\n",
       "      <td>678</td>\n",
       "      <td>2.0</td>\n",
       "      <td>885678479</td>\n",
       "      <td>100</td>\n",
       "      <td>3.0</td>\n",
       "      <td>891375428</td>\n",
       "    </tr>\n",
       "    <tr>\n",
       "      <th>15</th>\n",
       "      <td>99</td>\n",
       "      <td>294</td>\n",
       "      <td>4.0</td>\n",
       "      <td>885678453</td>\n",
       "      <td>100</td>\n",
       "      <td>4.0</td>\n",
       "      <td>891375313</td>\n",
       "    </tr>\n",
       "    <tr>\n",
       "      <th>16</th>\n",
       "      <td>99</td>\n",
       "      <td>348</td>\n",
       "      <td>4.0</td>\n",
       "      <td>886518562</td>\n",
       "      <td>100</td>\n",
       "      <td>3.0</td>\n",
       "      <td>891375630</td>\n",
       "    </tr>\n",
       "  </tbody>\n",
       "</table>\n",
       "</div>"
      ],
      "text/plain": [
       "    user_x  item  rating_x  timestamp_x  user_y  rating_y  timestamp_y\n",
       "0       99   268       3.0    885678247     100       3.0    891374982\n",
       "1       99   354       2.0    888469332     100       2.0    891375260\n",
       "2       99   895       3.0    885678304     100       2.0    891375212\n",
       "3       99   346       4.0    885678415     100       3.0    891375630\n",
       "4       99   258       5.0    885678696     100       4.0    891374675\n",
       "5       99   288       4.0    885678247     100       2.0    891374603\n",
       "6       99   328       4.0    885678696     100       4.0    891375212\n",
       "7       99   342       1.0    885678348     100       3.0    891375454\n",
       "8       99   751       4.0    885678397     100       4.0    891374868\n",
       "9       99   315       4.0    885678479     100       5.0    891375557\n",
       "10      99   300       4.0    885678397     100       4.0    891375112\n",
       "11      99   313       5.0    885678348     100       5.0    891374706\n",
       "12      99   310       3.0    885678348     100       3.0    891375522\n",
       "13      99   326       3.0    885678267     100       3.0    891375630\n",
       "14      99   678       2.0    885678479     100       3.0    891375428\n",
       "15      99   294       4.0    885678453     100       4.0    891375313\n",
       "16      99   348       4.0    886518562     100       3.0    891375630"
      ]
     },
     "execution_count": 147,
     "metadata": {},
     "output_type": "execute_result"
    }
   ],
   "source": [
    "merge = pd.merge(user1_ratings, user2_ratings, how=\"inner\", on=\"item\")\n",
    "merge"
   ]
  },
  {
   "cell_type": "code",
   "execution_count": 148,
   "id": "civilian-aspect",
   "metadata": {},
   "outputs": [
    {
     "data": {
      "text/plain": [
       "array([[0.96814626]], dtype=float32)"
      ]
     },
     "execution_count": 148,
     "metadata": {},
     "output_type": "execute_result"
    }
   ],
   "source": [
    "similarities = cosine_similarity(np.array(merge['rating_x']).reshape(1,-1), np.array(merge['rating_y']).reshape(1,-1))\n",
    "similarities"
   ]
  },
  {
   "cell_type": "code",
   "execution_count": 81,
   "id": "mental-trader",
   "metadata": {},
   "outputs": [],
   "source": [
    "class CosinSimilarity(Recommender, Predictor):\n",
    "    \"\"\"\n",
    "    Recommend new items by finding users that are the most similar to the given users using the cosin distance formula\n",
    "    \n",
    "    Args:\n",
    "        selector(CandidateSelector):\n",
    "            The candidate selector to use. If ``None``, uses a new\n",
    "            :class:`UnratedItemCandidateSelector`.\n",
    "\n",
    "    \"\"\"\n",
    "    def __init__(self, selector = None):\n",
    "        if selector is None:\n",
    "            self.selector = basic.UnratedItemCandidateSelector()\n",
    "        else:\n",
    "            self.selector = selector\n",
    "    \n",
    "    ## Input the ratings matrix\n",
    "    def fit(self, ratings, **kwargs):\n",
    "        \n",
    "        # Build cos similarity matrix for all users\n",
    "        \n",
    "        \n",
    "        self.selector.fit(ratings)\n",
    "    \n",
    "    ## Provide a recommendation of top \"n\" movies given \"user\"\n",
    "    ## The recommender uses the UnratedItemCandidateSelector by default and uses the ratings matrix \n",
    "    ## it was originally fit on\n",
    "    def recommend(self, user, n=None, candidates=None, ratings=None):\n",
    "        \n",
    "        # Obtain reduced candidate space\n",
    "        if candidates is None:\n",
    "            candidates = self.selector.candidates(user, ratings)   \n",
    "        \n",
    "        # Obtain predictions from reduced candidate space\n",
    "        predict_for_user(user, candidates, ratings)\n",
    "        \n",
    "        return candidates\n",
    "    \n",
    "    def predict_for_user(self, user, items, ratings=None):\n",
    "        \n",
    "        # Run cosin similarity for all users\n",
    "    \n",
    "    def __str__(self):\n",
    "        return 'CosinSimilarity'"
   ]
  },
  {
   "cell_type": "code",
   "execution_count": 82,
   "id": "constitutional-decimal",
   "metadata": {},
   "outputs": [],
   "source": [
    "# Instantiate object\n",
    "algo_cosin = CosinSimilarity()\n",
    "\n",
    "# Reduces the candidate space to all items that the user has not yet rated\n",
    "algo_cosin.fit(ratings)\n",
    "\n",
    "# \n"
   ]
  },
  {
   "cell_type": "markdown",
   "id": "swedish-holder",
   "metadata": {},
   "source": [
    "# References\n",
    "Relevant references:\n",
    "1. https://realpython.com/build-recommendation-engine-collaborative-filtering/\n",
    "1. https://lkpy.readthedocs.io/en/stable/GettingStarted.html#\n",
    "1. https://github.com/lenskit/lkpy/tree/main/lenskit/algorithms\n",
    "1. https://link.springer.com/book/10.1007%2F978-3-319-29659-3"
   ]
  },
  {
   "cell_type": "code",
   "execution_count": null,
   "id": "noted-breath",
   "metadata": {},
   "outputs": [],
   "source": []
  },
  {
   "cell_type": "code",
   "execution_count": null,
   "id": "connected-screening",
   "metadata": {},
   "outputs": [],
   "source": []
  },
  {
   "cell_type": "code",
   "execution_count": null,
   "id": "obvious-wallace",
   "metadata": {},
   "outputs": [],
   "source": []
  }
 ],
 "metadata": {
  "kernelspec": {
   "display_name": "Python 3",
   "language": "python",
   "name": "python3"
  },
  "language_info": {
   "codemirror_mode": {
    "name": "ipython",
    "version": 3
   },
   "file_extension": ".py",
   "mimetype": "text/x-python",
   "name": "python",
   "nbconvert_exporter": "python",
   "pygments_lexer": "ipython3",
   "version": "3.8.5"
  }
 },
 "nbformat": 4,
 "nbformat_minor": 5
}
